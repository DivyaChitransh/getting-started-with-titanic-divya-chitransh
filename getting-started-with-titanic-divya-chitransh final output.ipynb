{
 "cells": [
  {
   "cell_type": "code",
   "execution_count": 1,
   "id": "899317c9",
   "metadata": {
    "_cell_guid": "b1076dfc-b9ad-4769-8c92-a6c4dae69d19",
    "_uuid": "8f2839f25d086af736a60e9eeb907d3b93b6e0e5",
    "execution": {
     "iopub.execute_input": "2023-10-16T19:57:57.551016Z",
     "iopub.status.busy": "2023-10-16T19:57:57.550132Z",
     "iopub.status.idle": "2023-10-16T19:57:57.839095Z",
     "shell.execute_reply": "2023-10-16T19:57:57.837100Z"
    },
    "papermill": {
     "duration": 0.302744,
     "end_time": "2023-10-16T19:57:57.841802",
     "exception": false,
     "start_time": "2023-10-16T19:57:57.539058",
     "status": "completed"
    },
    "tags": []
   },
   "outputs": [],
   "source": [
    "# This Python 3 environment comes with many helpful analytics libraries installed\n",
    "# It is defined by the kaggle/python Docker image: https://github.com/kaggle/docker-python\n",
    "# For example, here's several helpful packages to load\n",
    "\n",
    "import numpy as np # linear algebra\n",
    "import pandas as pd # data processing, CSV file I/O (e.g. pd.read_csv)\n",
    "\n",
    "# Input data files are available in the read-only \"../input/\" directory\n",
    "# For example, running this (by clicking run or pressing Shift+Enter) will list all files under the input directory\n",
    "\n",
    "import os\n",
    "for dirname, _, filenames in os.walk('/kaggle/input'):\n",
    "    for filename in filenames:\n",
    "        print(os.path.join(dirname, filename))\n",
    "\n",
    "# You can write up to 20GB to the current directory (/kaggle/working/) that gets preserved as output when you create a version using \"Save & Run All\" \n",
    "# You can also write temporary files to /kaggle/temp/, but they won't be saved outside of the current session"
   ]
  },
  {
   "cell_type": "code",
   "execution_count": 2,
   "id": "fe9178d9",
   "metadata": {
    "execution": {
     "iopub.execute_input": "2023-10-16T19:57:57.861925Z",
     "iopub.status.busy": "2023-10-16T19:57:57.861521Z",
     "iopub.status.idle": "2023-10-16T19:57:57.904844Z",
     "shell.execute_reply": "2023-10-16T19:57:57.903706Z"
    },
    "papermill": {
     "duration": 0.055828,
     "end_time": "2023-10-16T19:57:57.906965",
     "exception": false,
     "start_time": "2023-10-16T19:57:57.851137",
     "status": "completed"
    },
    "tags": []
   },
   "outputs": [
    {
     "data": {
      "text/html": [
       "<div>\n",
       "<style scoped>\n",
       "    .dataframe tbody tr th:only-of-type {\n",
       "        vertical-align: middle;\n",
       "    }\n",
       "\n",
       "    .dataframe tbody tr th {\n",
       "        vertical-align: top;\n",
       "    }\n",
       "\n",
       "    .dataframe thead th {\n",
       "        text-align: right;\n",
       "    }\n",
       "</style>\n",
       "<table border=\"1\" class=\"dataframe\">\n",
       "  <thead>\n",
       "    <tr style=\"text-align: right;\">\n",
       "      <th></th>\n",
       "      <th>PassengerId</th>\n",
       "      <th>Survived</th>\n",
       "      <th>Pclass</th>\n",
       "      <th>Name</th>\n",
       "      <th>Sex</th>\n",
       "      <th>Age</th>\n",
       "      <th>SibSp</th>\n",
       "      <th>Parch</th>\n",
       "      <th>Ticket</th>\n",
       "      <th>Fare</th>\n",
       "      <th>Cabin</th>\n",
       "      <th>Embarked</th>\n",
       "    </tr>\n",
       "  </thead>\n",
       "  <tbody>\n",
       "    <tr>\n",
       "      <th>0</th>\n",
       "      <td>1</td>\n",
       "      <td>0</td>\n",
       "      <td>3</td>\n",
       "      <td>Braund, Mr. Owen Harris</td>\n",
       "      <td>male</td>\n",
       "      <td>22.0</td>\n",
       "      <td>1</td>\n",
       "      <td>0</td>\n",
       "      <td>A/5 21171</td>\n",
       "      <td>7.2500</td>\n",
       "      <td>NaN</td>\n",
       "      <td>S</td>\n",
       "    </tr>\n",
       "    <tr>\n",
       "      <th>1</th>\n",
       "      <td>2</td>\n",
       "      <td>1</td>\n",
       "      <td>1</td>\n",
       "      <td>Cumings, Mrs. John Bradley (Florence Briggs Th...</td>\n",
       "      <td>female</td>\n",
       "      <td>38.0</td>\n",
       "      <td>1</td>\n",
       "      <td>0</td>\n",
       "      <td>PC 17599</td>\n",
       "      <td>71.2833</td>\n",
       "      <td>C85</td>\n",
       "      <td>C</td>\n",
       "    </tr>\n",
       "    <tr>\n",
       "      <th>2</th>\n",
       "      <td>3</td>\n",
       "      <td>1</td>\n",
       "      <td>3</td>\n",
       "      <td>Heikkinen, Miss. Laina</td>\n",
       "      <td>female</td>\n",
       "      <td>26.0</td>\n",
       "      <td>0</td>\n",
       "      <td>0</td>\n",
       "      <td>STON/O2. 3101282</td>\n",
       "      <td>7.9250</td>\n",
       "      <td>NaN</td>\n",
       "      <td>S</td>\n",
       "    </tr>\n",
       "    <tr>\n",
       "      <th>3</th>\n",
       "      <td>4</td>\n",
       "      <td>1</td>\n",
       "      <td>1</td>\n",
       "      <td>Futrelle, Mrs. Jacques Heath (Lily May Peel)</td>\n",
       "      <td>female</td>\n",
       "      <td>35.0</td>\n",
       "      <td>1</td>\n",
       "      <td>0</td>\n",
       "      <td>113803</td>\n",
       "      <td>53.1000</td>\n",
       "      <td>C123</td>\n",
       "      <td>S</td>\n",
       "    </tr>\n",
       "    <tr>\n",
       "      <th>4</th>\n",
       "      <td>5</td>\n",
       "      <td>0</td>\n",
       "      <td>3</td>\n",
       "      <td>Allen, Mr. William Henry</td>\n",
       "      <td>male</td>\n",
       "      <td>35.0</td>\n",
       "      <td>0</td>\n",
       "      <td>0</td>\n",
       "      <td>373450</td>\n",
       "      <td>8.0500</td>\n",
       "      <td>NaN</td>\n",
       "      <td>S</td>\n",
       "    </tr>\n",
       "  </tbody>\n",
       "</table>\n",
       "</div>"
      ],
      "text/plain": [
       "   PassengerId  Survived  Pclass  \\\n",
       "0            1         0       3   \n",
       "1            2         1       1   \n",
       "2            3         1       3   \n",
       "3            4         1       1   \n",
       "4            5         0       3   \n",
       "\n",
       "                                                Name     Sex   Age  SibSp  \\\n",
       "0                            Braund, Mr. Owen Harris    male  22.0      1   \n",
       "1  Cumings, Mrs. John Bradley (Florence Briggs Th...  female  38.0      1   \n",
       "2                             Heikkinen, Miss. Laina  female  26.0      0   \n",
       "3       Futrelle, Mrs. Jacques Heath (Lily May Peel)  female  35.0      1   \n",
       "4                           Allen, Mr. William Henry    male  35.0      0   \n",
       "\n",
       "   Parch            Ticket     Fare Cabin Embarked  \n",
       "0      0         A/5 21171   7.2500   NaN        S  \n",
       "1      0          PC 17599  71.2833   C85        C  \n",
       "2      0  STON/O2. 3101282   7.9250   NaN        S  \n",
       "3      0            113803  53.1000  C123        S  \n",
       "4      0            373450   8.0500   NaN        S  "
      ]
     },
     "execution_count": 2,
     "metadata": {},
     "output_type": "execute_result"
    }
   ],
   "source": [
    "#importing dataset into notebook\n",
    "train_data = pd.read_csv(\"train_titanic_kaggle.csv\")\n",
    "train_data.head()"
   ]
  },
  {
   "cell_type": "markdown",
   "id": "756f8d92",
   "metadata": {},
   "source": [
    "survival\tSurvival\t0 = No, 1 = Yes<br>\n",
    "pclass\tTicket class\t1 = 1st, 2 = 2nd, 3 = 3rd<br>\n",
    "sex\tSex\t<br>\n",
    "Age\tAge in years<br>\t\n",
    "sibsp\t# of siblings / spouses aboard the Titanic\t<br>\n",
    "parch\t# of parents / children aboard the Titanic\t<br>\n",
    "ticket\tTicket number\t<br>\n",
    "fare\tPassenger fare\t<br>\n",
    "cabin\tCabin number\t<br>\n",
    "embarked\tPort of Embarkation\tC = Cherbourg, Q = Queenstown, S = Southampton<br>\n",
    "Variable Notes<br>\n",
    "pclass: A proxy for socio-economic status (SES)<br>\n",
    "1st = Upper<br>\n",
    "2nd = Middle<br>\n",
    "3rd = Lower<br>\n",
    "age: Age is fractional if less than 1. If the age is estimated, is it in the form of xx.5<br>\n",
    "sibsp: The dataset defines family relations in this way...<br>\n",
    "Sibling = brother, sister, stepbrother, stepsister<br>\n",
    "Spouse = husband, wife (mistresses and fiancés were ignored)<br>\n",
    "parch: The dataset defines family relations in this way...<br>\n",
    "Parent = mother, father<br>\n",
    "Child = daughter, son, stepdaughter, stepson<br>\n",
    "Some children travelled only with a nanny, therefore parch=0 for them.<br>"
   ]
  },
  {
   "cell_type": "code",
   "execution_count": 3,
   "id": "f58edc3f",
   "metadata": {
    "execution": {
     "iopub.execute_input": "2023-10-16T19:57:57.929356Z",
     "iopub.status.busy": "2023-10-16T19:57:57.928739Z",
     "iopub.status.idle": "2023-10-16T19:57:57.933963Z",
     "shell.execute_reply": "2023-10-16T19:57:57.933365Z"
    },
    "papermill": {
     "duration": 0.018758,
     "end_time": "2023-10-16T19:57:57.935558",
     "exception": false,
     "start_time": "2023-10-16T19:57:57.916800",
     "status": "completed"
    },
    "tags": []
   },
   "outputs": [
    {
     "data": {
      "text/plain": [
       "(891, 12)"
      ]
     },
     "execution_count": 3,
     "metadata": {},
     "output_type": "execute_result"
    }
   ],
   "source": [
    "train_data.shape"
   ]
  },
  {
   "cell_type": "code",
   "execution_count": 4,
   "id": "3a60e69b",
   "metadata": {
    "execution": {
     "iopub.execute_input": "2023-10-16T19:57:57.957941Z",
     "iopub.status.busy": "2023-10-16T19:57:57.956937Z",
     "iopub.status.idle": "2023-10-16T19:57:57.986654Z",
     "shell.execute_reply": "2023-10-16T19:57:57.985722Z"
    },
    "papermill": {
     "duration": 0.042824,
     "end_time": "2023-10-16T19:57:57.988602",
     "exception": false,
     "start_time": "2023-10-16T19:57:57.945778",
     "status": "completed"
    },
    "tags": []
   },
   "outputs": [
    {
     "data": {
      "text/html": [
       "<div>\n",
       "<style scoped>\n",
       "    .dataframe tbody tr th:only-of-type {\n",
       "        vertical-align: middle;\n",
       "    }\n",
       "\n",
       "    .dataframe tbody tr th {\n",
       "        vertical-align: top;\n",
       "    }\n",
       "\n",
       "    .dataframe thead th {\n",
       "        text-align: right;\n",
       "    }\n",
       "</style>\n",
       "<table border=\"1\" class=\"dataframe\">\n",
       "  <thead>\n",
       "    <tr style=\"text-align: right;\">\n",
       "      <th></th>\n",
       "      <th>PassengerId</th>\n",
       "      <th>Survived</th>\n",
       "      <th>Pclass</th>\n",
       "      <th>Age</th>\n",
       "      <th>SibSp</th>\n",
       "      <th>Parch</th>\n",
       "      <th>Fare</th>\n",
       "    </tr>\n",
       "  </thead>\n",
       "  <tbody>\n",
       "    <tr>\n",
       "      <th>count</th>\n",
       "      <td>891.000000</td>\n",
       "      <td>891.000000</td>\n",
       "      <td>891.000000</td>\n",
       "      <td>714.000000</td>\n",
       "      <td>891.000000</td>\n",
       "      <td>891.000000</td>\n",
       "      <td>891.000000</td>\n",
       "    </tr>\n",
       "    <tr>\n",
       "      <th>mean</th>\n",
       "      <td>446.000000</td>\n",
       "      <td>0.383838</td>\n",
       "      <td>2.308642</td>\n",
       "      <td>29.699118</td>\n",
       "      <td>0.523008</td>\n",
       "      <td>0.381594</td>\n",
       "      <td>32.204208</td>\n",
       "    </tr>\n",
       "    <tr>\n",
       "      <th>std</th>\n",
       "      <td>257.353842</td>\n",
       "      <td>0.486592</td>\n",
       "      <td>0.836071</td>\n",
       "      <td>14.526497</td>\n",
       "      <td>1.102743</td>\n",
       "      <td>0.806057</td>\n",
       "      <td>49.693429</td>\n",
       "    </tr>\n",
       "    <tr>\n",
       "      <th>min</th>\n",
       "      <td>1.000000</td>\n",
       "      <td>0.000000</td>\n",
       "      <td>1.000000</td>\n",
       "      <td>0.420000</td>\n",
       "      <td>0.000000</td>\n",
       "      <td>0.000000</td>\n",
       "      <td>0.000000</td>\n",
       "    </tr>\n",
       "    <tr>\n",
       "      <th>25%</th>\n",
       "      <td>223.500000</td>\n",
       "      <td>0.000000</td>\n",
       "      <td>2.000000</td>\n",
       "      <td>20.125000</td>\n",
       "      <td>0.000000</td>\n",
       "      <td>0.000000</td>\n",
       "      <td>7.910400</td>\n",
       "    </tr>\n",
       "    <tr>\n",
       "      <th>50%</th>\n",
       "      <td>446.000000</td>\n",
       "      <td>0.000000</td>\n",
       "      <td>3.000000</td>\n",
       "      <td>28.000000</td>\n",
       "      <td>0.000000</td>\n",
       "      <td>0.000000</td>\n",
       "      <td>14.454200</td>\n",
       "    </tr>\n",
       "    <tr>\n",
       "      <th>75%</th>\n",
       "      <td>668.500000</td>\n",
       "      <td>1.000000</td>\n",
       "      <td>3.000000</td>\n",
       "      <td>38.000000</td>\n",
       "      <td>1.000000</td>\n",
       "      <td>0.000000</td>\n",
       "      <td>31.000000</td>\n",
       "    </tr>\n",
       "    <tr>\n",
       "      <th>max</th>\n",
       "      <td>891.000000</td>\n",
       "      <td>1.000000</td>\n",
       "      <td>3.000000</td>\n",
       "      <td>80.000000</td>\n",
       "      <td>8.000000</td>\n",
       "      <td>6.000000</td>\n",
       "      <td>512.329200</td>\n",
       "    </tr>\n",
       "  </tbody>\n",
       "</table>\n",
       "</div>"
      ],
      "text/plain": [
       "       PassengerId    Survived      Pclass         Age       SibSp  \\\n",
       "count   891.000000  891.000000  891.000000  714.000000  891.000000   \n",
       "mean    446.000000    0.383838    2.308642   29.699118    0.523008   \n",
       "std     257.353842    0.486592    0.836071   14.526497    1.102743   \n",
       "min       1.000000    0.000000    1.000000    0.420000    0.000000   \n",
       "25%     223.500000    0.000000    2.000000   20.125000    0.000000   \n",
       "50%     446.000000    0.000000    3.000000   28.000000    0.000000   \n",
       "75%     668.500000    1.000000    3.000000   38.000000    1.000000   \n",
       "max     891.000000    1.000000    3.000000   80.000000    8.000000   \n",
       "\n",
       "            Parch        Fare  \n",
       "count  891.000000  891.000000  \n",
       "mean     0.381594   32.204208  \n",
       "std      0.806057   49.693429  \n",
       "min      0.000000    0.000000  \n",
       "25%      0.000000    7.910400  \n",
       "50%      0.000000   14.454200  \n",
       "75%      0.000000   31.000000  \n",
       "max      6.000000  512.329200  "
      ]
     },
     "execution_count": 4,
     "metadata": {},
     "output_type": "execute_result"
    }
   ],
   "source": [
    "train_data.describe()"
   ]
  },
  {
   "cell_type": "markdown",
   "id": "9286034f",
   "metadata": {
    "papermill": {
     "duration": 0.008752,
     "end_time": "2023-10-16T19:57:58.006595",
     "exception": false,
     "start_time": "2023-10-16T19:57:57.997843",
     "status": "completed"
    },
    "tags": []
   },
   "source": [
    "We can clearly see that there are some missing values"
   ]
  },
  {
   "cell_type": "code",
   "execution_count": 5,
   "id": "ea53623b",
   "metadata": {
    "execution": {
     "iopub.execute_input": "2023-10-16T19:57:58.027220Z",
     "iopub.status.busy": "2023-10-16T19:57:58.026908Z",
     "iopub.status.idle": "2023-10-16T19:57:58.053915Z",
     "shell.execute_reply": "2023-10-16T19:57:58.051936Z"
    },
    "papermill": {
     "duration": 0.039719,
     "end_time": "2023-10-16T19:57:58.056221",
     "exception": false,
     "start_time": "2023-10-16T19:57:58.016502",
     "status": "completed"
    },
    "tags": []
   },
   "outputs": [
    {
     "name": "stdout",
     "output_type": "stream",
     "text": [
      "<class 'pandas.core.frame.DataFrame'>\n",
      "RangeIndex: 891 entries, 0 to 890\n",
      "Data columns (total 12 columns):\n",
      " #   Column       Non-Null Count  Dtype  \n",
      "---  ------       --------------  -----  \n",
      " 0   PassengerId  891 non-null    int64  \n",
      " 1   Survived     891 non-null    int64  \n",
      " 2   Pclass       891 non-null    int64  \n",
      " 3   Name         891 non-null    object \n",
      " 4   Sex          891 non-null    object \n",
      " 5   Age          714 non-null    float64\n",
      " 6   SibSp        891 non-null    int64  \n",
      " 7   Parch        891 non-null    int64  \n",
      " 8   Ticket       891 non-null    object \n",
      " 9   Fare         891 non-null    float64\n",
      " 10  Cabin        204 non-null    object \n",
      " 11  Embarked     889 non-null    object \n",
      "dtypes: float64(2), int64(5), object(5)\n",
      "memory usage: 83.7+ KB\n"
     ]
    }
   ],
   "source": [
    "train_data.info()"
   ]
  },
  {
   "cell_type": "markdown",
   "id": "57f841e3",
   "metadata": {
    "papermill": {
     "duration": 0.009271,
     "end_time": "2023-10-16T19:57:58.075279",
     "exception": false,
     "start_time": "2023-10-16T19:57:58.066008",
     "status": "completed"
    },
    "tags": []
   },
   "source": [
    "The datatypes seems fine but there are missing values in 'Age' column and a lot of missing values in 'Cabin' column"
   ]
  },
  {
   "cell_type": "markdown",
   "id": "58f2a9ae",
   "metadata": {
    "papermill": {
     "duration": 0.009082,
     "end_time": "2023-10-16T19:57:58.093746",
     "exception": false,
     "start_time": "2023-10-16T19:57:58.084664",
     "status": "completed"
    },
    "tags": []
   },
   "source": [
    "DATA PREPROCESSING<br>\n",
    "1.Check the uniqueness of features('Sex', 'Cabin','Pclass')<br>\n",
    "2.Check skewness of the 'Age','Fare' feature<br>\n",
    "3.Drop or impute missing values"
   ]
  },
  {
   "cell_type": "code",
   "execution_count": 6,
   "id": "bbcd5f20",
   "metadata": {},
   "outputs": [
    {
     "data": {
      "text/plain": [
       "0    549\n",
       "1    342\n",
       "Name: Survived, dtype: int64"
      ]
     },
     "execution_count": 6,
     "metadata": {},
     "output_type": "execute_result"
    }
   ],
   "source": [
    "train_data['Survived'].value_counts()"
   ]
  },
  {
   "cell_type": "code",
   "execution_count": 6,
   "id": "4c0ce1ea",
   "metadata": {
    "execution": {
     "iopub.execute_input": "2023-10-16T19:57:58.114043Z",
     "iopub.status.busy": "2023-10-16T19:57:58.113713Z",
     "iopub.status.idle": "2023-10-16T19:57:58.118823Z",
     "shell.execute_reply": "2023-10-16T19:57:58.118321Z"
    },
    "papermill": {
     "duration": 0.017214,
     "end_time": "2023-10-16T19:57:58.120198",
     "exception": false,
     "start_time": "2023-10-16T19:57:58.102984",
     "status": "completed"
    },
    "tags": []
   },
   "outputs": [
    {
     "data": {
      "text/plain": [
       "array(['male', 'female'], dtype=object)"
      ]
     },
     "execution_count": 6,
     "metadata": {},
     "output_type": "execute_result"
    }
   ],
   "source": [
    "train_data['Sex'].unique()\n"
   ]
  },
  {
   "cell_type": "code",
   "execution_count": 7,
   "id": "a8a79888",
   "metadata": {
    "execution": {
     "iopub.execute_input": "2023-10-16T19:57:58.140376Z",
     "iopub.status.busy": "2023-10-16T19:57:58.140045Z",
     "iopub.status.idle": "2023-10-16T19:57:58.146944Z",
     "shell.execute_reply": "2023-10-16T19:57:58.145898Z"
    },
    "papermill": {
     "duration": 0.018745,
     "end_time": "2023-10-16T19:57:58.148358",
     "exception": false,
     "start_time": "2023-10-16T19:57:58.129613",
     "status": "completed"
    },
    "tags": []
   },
   "outputs": [
    {
     "data": {
      "text/plain": [
       "male      577\n",
       "female    314\n",
       "Name: Sex, dtype: int64"
      ]
     },
     "execution_count": 7,
     "metadata": {},
     "output_type": "execute_result"
    }
   ],
   "source": [
    "train_data['Sex'].value_counts()"
   ]
  },
  {
   "cell_type": "markdown",
   "id": "54d9278e",
   "metadata": {
    "papermill": {
     "duration": 0.009888,
     "end_time": "2023-10-16T19:57:58.227832",
     "exception": false,
     "start_time": "2023-10-16T19:57:58.217944",
     "status": "completed"
    },
    "tags": []
   },
   "source": [
    "There is only male and female in 'Sex' column and the ratio of gender also seems acceptable"
   ]
  },
  {
   "cell_type": "code",
   "execution_count": 8,
   "id": "b075b17b",
   "metadata": {
    "execution": {
     "iopub.execute_input": "2023-10-16T19:57:58.250051Z",
     "iopub.status.busy": "2023-10-16T19:57:58.249683Z",
     "iopub.status.idle": "2023-10-16T19:57:58.255963Z",
     "shell.execute_reply": "2023-10-16T19:57:58.254876Z"
    },
    "papermill": {
     "duration": 0.019815,
     "end_time": "2023-10-16T19:57:58.258256",
     "exception": false,
     "start_time": "2023-10-16T19:57:58.238441",
     "status": "completed"
    },
    "tags": []
   },
   "outputs": [
    {
     "data": {
      "text/plain": [
       "array([nan, 'C85', 'C123', 'E46', 'G6', 'C103', 'D56', 'A6',\n",
       "       'C23 C25 C27', 'B78', 'D33', 'B30', 'C52', 'B28', 'C83', 'F33',\n",
       "       'F G73', 'E31', 'A5', 'D10 D12', 'D26', 'C110', 'B58 B60', 'E101',\n",
       "       'F E69', 'D47', 'B86', 'F2', 'C2', 'E33', 'B19', 'A7', 'C49', 'F4',\n",
       "       'A32', 'B4', 'B80', 'A31', 'D36', 'D15', 'C93', 'C78', 'D35',\n",
       "       'C87', 'B77', 'E67', 'B94', 'C125', 'C99', 'C118', 'D7', 'A19',\n",
       "       'B49', 'D', 'C22 C26', 'C106', 'C65', 'E36', 'C54',\n",
       "       'B57 B59 B63 B66', 'C7', 'E34', 'C32', 'B18', 'C124', 'C91', 'E40',\n",
       "       'T', 'C128', 'D37', 'B35', 'E50', 'C82', 'B96 B98', 'E10', 'E44',\n",
       "       'A34', 'C104', 'C111', 'C92', 'E38', 'D21', 'E12', 'E63', 'A14',\n",
       "       'B37', 'C30', 'D20', 'B79', 'E25', 'D46', 'B73', 'C95', 'B38',\n",
       "       'B39', 'B22', 'C86', 'C70', 'A16', 'C101', 'C68', 'A10', 'E68',\n",
       "       'B41', 'A20', 'D19', 'D50', 'D9', 'A23', 'B50', 'A26', 'D48',\n",
       "       'E58', 'C126', 'B71', 'B51 B53 B55', 'D49', 'B5', 'B20', 'F G63',\n",
       "       'C62 C64', 'E24', 'C90', 'C45', 'E8', 'B101', 'D45', 'C46', 'D30',\n",
       "       'E121', 'D11', 'E77', 'F38', 'B3', 'D6', 'B82 B84', 'D17', 'A36',\n",
       "       'B102', 'B69', 'E49', 'C47', 'D28', 'E17', 'A24', 'C50', 'B42',\n",
       "       'C148'], dtype=object)"
      ]
     },
     "execution_count": 8,
     "metadata": {},
     "output_type": "execute_result"
    }
   ],
   "source": [
    "train_data['Cabin'].unique()"
   ]
  },
  {
   "cell_type": "code",
   "execution_count": 9,
   "id": "8dea271c",
   "metadata": {
    "execution": {
     "iopub.execute_input": "2023-10-16T19:57:58.282632Z",
     "iopub.status.busy": "2023-10-16T19:57:58.282237Z",
     "iopub.status.idle": "2023-10-16T19:57:58.289728Z",
     "shell.execute_reply": "2023-10-16T19:57:58.288694Z"
    },
    "papermill": {
     "duration": 0.020656,
     "end_time": "2023-10-16T19:57:58.291214",
     "exception": false,
     "start_time": "2023-10-16T19:57:58.270558",
     "status": "completed"
    },
    "tags": []
   },
   "outputs": [
    {
     "data": {
      "text/plain": [
       "B96 B98        4\n",
       "G6             4\n",
       "C23 C25 C27    4\n",
       "C22 C26        3\n",
       "F33            3\n",
       "              ..\n",
       "E34            1\n",
       "C7             1\n",
       "C54            1\n",
       "E36            1\n",
       "C148           1\n",
       "Name: Cabin, Length: 147, dtype: int64"
      ]
     },
     "execution_count": 9,
     "metadata": {},
     "output_type": "execute_result"
    }
   ],
   "source": [
    "train_data['Cabin'].value_counts()"
   ]
  },
  {
   "cell_type": "code",
   "execution_count": 10,
   "id": "8f78e62e",
   "metadata": {
    "execution": {
     "iopub.execute_input": "2023-10-16T19:57:58.314687Z",
     "iopub.status.busy": "2023-10-16T19:57:58.314347Z",
     "iopub.status.idle": "2023-10-16T19:57:58.323606Z",
     "shell.execute_reply": "2023-10-16T19:57:58.322064Z"
    },
    "papermill": {
     "duration": 0.024089,
     "end_time": "2023-10-16T19:57:58.325840",
     "exception": false,
     "start_time": "2023-10-16T19:57:58.301751",
     "status": "completed"
    },
    "tags": []
   },
   "outputs": [
    {
     "data": {
      "text/plain": [
       "array([3, 1, 2], dtype=int64)"
      ]
     },
     "execution_count": 10,
     "metadata": {},
     "output_type": "execute_result"
    }
   ],
   "source": [
    "train_data['Pclass'].unique()"
   ]
  },
  {
   "cell_type": "code",
   "execution_count": 11,
   "id": "ab84230f",
   "metadata": {
    "execution": {
     "iopub.execute_input": "2023-10-16T19:57:58.347992Z",
     "iopub.status.busy": "2023-10-16T19:57:58.347662Z",
     "iopub.status.idle": "2023-10-16T19:57:58.355869Z",
     "shell.execute_reply": "2023-10-16T19:57:58.355112Z"
    },
    "papermill": {
     "duration": 0.021022,
     "end_time": "2023-10-16T19:57:58.357565",
     "exception": false,
     "start_time": "2023-10-16T19:57:58.336543",
     "status": "completed"
    },
    "tags": []
   },
   "outputs": [
    {
     "data": {
      "text/plain": [
       "3    491\n",
       "1    216\n",
       "2    184\n",
       "Name: Pclass, dtype: int64"
      ]
     },
     "execution_count": 11,
     "metadata": {},
     "output_type": "execute_result"
    }
   ],
   "source": [
    "train_data['Pclass'].value_counts()"
   ]
  },
  {
   "cell_type": "code",
   "execution_count": 12,
   "id": "65a6ad50",
   "metadata": {},
   "outputs": [
    {
     "data": {
      "text/plain": [
       "0    608\n",
       "1    209\n",
       "2     28\n",
       "4     18\n",
       "3     16\n",
       "8      7\n",
       "5      5\n",
       "Name: SibSp, dtype: int64"
      ]
     },
     "execution_count": 12,
     "metadata": {},
     "output_type": "execute_result"
    }
   ],
   "source": [
    "train_data['SibSp'].value_counts()"
   ]
  },
  {
   "cell_type": "code",
   "execution_count": 13,
   "id": "3e7d6a81",
   "metadata": {},
   "outputs": [
    {
     "data": {
      "text/plain": [
       "0    678\n",
       "1    118\n",
       "2     80\n",
       "5      5\n",
       "3      5\n",
       "4      4\n",
       "6      1\n",
       "Name: Parch, dtype: int64"
      ]
     },
     "execution_count": 13,
     "metadata": {},
     "output_type": "execute_result"
    }
   ],
   "source": [
    "train_data['Parch'].value_counts()"
   ]
  },
  {
   "cell_type": "markdown",
   "id": "67e2a9a8",
   "metadata": {
    "papermill": {
     "duration": 0.009819,
     "end_time": "2023-10-16T19:57:58.377981",
     "exception": false,
     "start_time": "2023-10-16T19:57:58.368162",
     "status": "completed"
    },
    "tags": []
   },
   "source": [
    "There are 3 classes and their counts too seems acceptable"
   ]
  },
  {
   "cell_type": "markdown",
   "id": "50843a03",
   "metadata": {
    "papermill": {
     "duration": 0.009998,
     "end_time": "2023-10-16T19:57:58.398329",
     "exception": false,
     "start_time": "2023-10-16T19:57:58.388331",
     "status": "completed"
    },
    "tags": []
   },
   "source": [
    " "
   ]
  },
  {
   "cell_type": "code",
   "execution_count": 14,
   "id": "6f024214",
   "metadata": {
    "execution": {
     "iopub.execute_input": "2023-10-16T19:57:58.420371Z",
     "iopub.status.busy": "2023-10-16T19:57:58.419849Z",
     "iopub.status.idle": "2023-10-16T19:58:00.188490Z",
     "shell.execute_reply": "2023-10-16T19:58:00.187080Z"
    },
    "papermill": {
     "duration": 1.78217,
     "end_time": "2023-10-16T19:58:00.190669",
     "exception": false,
     "start_time": "2023-10-16T19:57:58.408499",
     "status": "completed"
    },
    "tags": []
   },
   "outputs": [
    {
     "name": "stderr",
     "output_type": "stream",
     "text": [
      "C:\\Users\\DIVYA CHITRANSH\\anaconda3\\lib\\site-packages\\seaborn\\distributions.py:2619: FutureWarning: `distplot` is a deprecated function and will be removed in a future version. Please adapt your code to use either `displot` (a figure-level function with similar flexibility) or `histplot` (an axes-level function for histograms).\n",
      "  warnings.warn(msg, FutureWarning)\n"
     ]
    },
    {
     "data": {
      "text/plain": [
       "<AxesSubplot:xlabel='Age', ylabel='Density'>"
      ]
     },
     "execution_count": 14,
     "metadata": {},
     "output_type": "execute_result"
    },
    {
     "data": {
      "image/png": "[encoded data removed]",
      "text/plain": [
       "<Figure size 432x288 with 1 Axes>"
      ]
     },
     "metadata": {
      "needs_background": "light"
     },
     "output_type": "display_data"
    }
   ],
   "source": [
    "import matplotlib.pyplot as plt\n",
    "import seaborn as sns\n",
    "sns.distplot(train_data['Age'])"
   ]
  },
  {
   "cell_type": "markdown",
   "id": "84896084",
   "metadata": {
    "papermill": {
     "duration": 0.010085,
     "end_time": "2023-10-16T19:58:00.211694",
     "exception": false,
     "start_time": "2023-10-16T19:58:00.201609",
     "status": "completed"
    },
    "tags": []
   },
   "source": [
    "The feature is almost normally distributed, means there are very less outliers"
   ]
  },
  {
   "cell_type": "code",
   "execution_count": 15,
   "id": "8d135fd7",
   "metadata": {
    "execution": {
     "iopub.execute_input": "2023-10-16T19:58:00.234587Z",
     "iopub.status.busy": "2023-10-16T19:58:00.234240Z",
     "iopub.status.idle": "2023-10-16T19:58:00.527218Z",
     "shell.execute_reply": "2023-10-16T19:58:00.525658Z"
    },
    "papermill": {
     "duration": 0.307726,
     "end_time": "2023-10-16T19:58:00.529618",
     "exception": false,
     "start_time": "2023-10-16T19:58:00.221892",
     "status": "completed"
    },
    "tags": []
   },
   "outputs": [
    {
     "name": "stderr",
     "output_type": "stream",
     "text": [
      "C:\\Users\\DIVYA CHITRANSH\\anaconda3\\lib\\site-packages\\seaborn\\distributions.py:2619: FutureWarning: `distplot` is a deprecated function and will be removed in a future version. Please adapt your code to use either `displot` (a figure-level function with similar flexibility) or `histplot` (an axes-level function for histograms).\n",
      "  warnings.warn(msg, FutureWarning)\n"
     ]
    },
    {
     "data": {
      "text/plain": [
       "<AxesSubplot:xlabel='Fare', ylabel='Density'>"
      ]
     },
     "execution_count": 15,
     "metadata": {},
     "output_type": "execute_result"
    },
    {
     "data": {
      "image/png": "[encoded data removed]",
      "text/plain": [
       "<Figure size 432x288 with 1 Axes>"
      ]
     },
     "metadata": {
      "needs_background": "light"
     },
     "output_type": "display_data"
    }
   ],
   "source": [
    "sns.distplot(train_data['Fare'])"
   ]
  },
  {
   "cell_type": "markdown",
   "id": "815a943b",
   "metadata": {
    "papermill": {
     "duration": 0.010395,
     "end_time": "2023-10-16T19:58:00.551084",
     "exception": false,
     "start_time": "2023-10-16T19:58:00.540689",
     "status": "completed"
    },
    "tags": []
   },
   "source": [
    "The fare column is right skewed, means a lot of abnormal data which is good as first class ticket has to be comparatively a lot expensive than 3rd and 2nd class. Same for 2nd class compared to 3rd class<br>\n",
    "For it to be normally distributed might have been odd thing"
   ]
  },
  {
   "cell_type": "code",
   "execution_count": 16,
   "id": "96e80ca0",
   "metadata": {
    "execution": {
     "iopub.execute_input": "2023-10-16T19:58:00.574510Z",
     "iopub.status.busy": "2023-10-16T19:58:00.574165Z",
     "iopub.status.idle": "2023-10-16T19:58:00.582034Z",
     "shell.execute_reply": "2023-10-16T19:58:00.581085Z"
    },
    "papermill": {
     "duration": 0.021835,
     "end_time": "2023-10-16T19:58:00.583915",
     "exception": false,
     "start_time": "2023-10-16T19:58:00.562080",
     "status": "completed"
    },
    "tags": []
   },
   "outputs": [
    {
     "data": {
      "text/plain": [
       "PassengerId      0\n",
       "Survived         0\n",
       "Pclass           0\n",
       "Name             0\n",
       "Sex              0\n",
       "Age            177\n",
       "SibSp            0\n",
       "Parch            0\n",
       "Ticket           0\n",
       "Fare             0\n",
       "Cabin          687\n",
       "Embarked         2\n",
       "dtype: int64"
      ]
     },
     "execution_count": 16,
     "metadata": {},
     "output_type": "execute_result"
    }
   ],
   "source": [
    "import numpy as np\n",
    "train_data.isnull().sum()"
   ]
  },
  {
   "cell_type": "markdown",
   "id": "45790627",
   "metadata": {
    "papermill": {
     "duration": 0.010725,
     "end_time": "2023-10-16T19:58:00.606003",
     "exception": false,
     "start_time": "2023-10-16T19:58:00.595278",
     "status": "completed"
    },
    "tags": []
   },
   "source": [
    "there are missing values in 'Age' column and a lot of missing values in 'Cabin' column"
   ]
  },
  {
   "cell_type": "markdown",
   "id": "fd1e667b",
   "metadata": {
    "papermill": {
     "duration": 0.011361,
     "end_time": "2023-10-16T19:58:00.628802",
     "exception": false,
     "start_time": "2023-10-16T19:58:00.617441",
     "status": "completed"
    },
    "tags": []
   },
   "source": [
    "We create a data pipeline and use ColumnTransformer to reduce model complexity\n",
    "First we will divide data into numrical and categorical features which will go through different processes into the pipeline"
   ]
  },
  {
   "cell_type": "markdown",
   "id": "6036ea7e",
   "metadata": {
    "papermill": {
     "duration": 0.011019,
     "end_time": "2023-10-16T19:58:00.651263",
     "exception": false,
     "start_time": "2023-10-16T19:58:00.640244",
     "status": "completed"
    },
    "tags": []
   },
   "source": [
    "We are going to train our model on following features"
   ]
  },
  {
   "cell_type": "code",
   "execution_count": 17,
   "id": "c2761a81",
   "metadata": {
    "execution": {
     "iopub.execute_input": "2023-10-16T19:58:00.676048Z",
     "iopub.status.busy": "2023-10-16T19:58:00.675686Z",
     "iopub.status.idle": "2023-10-16T19:58:00.681498Z",
     "shell.execute_reply": "2023-10-16T19:58:00.679995Z"
    },
    "papermill": {
     "duration": 0.020593,
     "end_time": "2023-10-16T19:58:00.683693",
     "exception": false,
     "start_time": "2023-10-16T19:58:00.663100",
     "status": "completed"
    },
    "tags": []
   },
   "outputs": [],
   "source": [
    "num_cols_1 =['Age','Fare']\n",
    "num_cols_2 =['Pclass', 'SibSp','Parch']\n",
    "cat_cols = ['Sex']"
   ]
  },
  {
   "cell_type": "markdown",
   "id": "90fc0846",
   "metadata": {
    "papermill": {
     "duration": 0.01075,
     "end_time": "2023-10-16T19:58:00.708149",
     "exception": false,
     "start_time": "2023-10-16T19:58:00.697399",
     "status": "completed"
    },
    "tags": []
   },
   "source": [
    "Create Pipleline for numerical and categorical Features\n",
    "\n",
    "**For numerical features, I perform the following actions:**\n",
    "\n",
    "SimpleImputer to fill in the missing values with the mean of that column.\n",
    "\n",
    "MinMaxScaler to scale the value to range from 0 to 1 (this will affect regression performance).\n",
    "\n",
    "**For categorical features, I perform the following actions:**\n",
    "\n",
    "SimpleImputer to fill in the missing values with the most frequency value of that column.\n",
    "\n",
    "OneHotEncoder to split to many numerical columns for model training. (handle_unknown=’ignore’ is specified to prevent errors when it finds an unseen category in the test set)\n",
    "\n"
   ]
  },
  {
   "cell_type": "code",
   "execution_count": 18,
   "id": "a1c4744f",
   "metadata": {
    "execution": {
     "iopub.execute_input": "2023-10-16T19:58:00.731397Z",
     "iopub.status.busy": "2023-10-16T19:58:00.731027Z",
     "iopub.status.idle": "2023-10-16T19:58:01.304973Z",
     "shell.execute_reply": "2023-10-16T19:58:01.303857Z"
    },
    "papermill": {
     "duration": 0.587959,
     "end_time": "2023-10-16T19:58:01.306840",
     "exception": false,
     "start_time": "2023-10-16T19:58:00.718881",
     "status": "completed"
    },
    "tags": []
   },
   "outputs": [],
   "source": [
    "from sklearn.impute import SimpleImputer\n",
    "from sklearn.preprocessing import OneHotEncoder, MinMaxScaler\n",
    "from sklearn.pipeline import Pipeline\n",
    "\n",
    "num_pipeline=Pipeline(steps=[('impute',SimpleImputer(strategy='mean')),('min_max_scale',MinMaxScaler())])\n",
    "num_pipeline_new=Pipeline(steps=[('impute2',SimpleImputer(strategy='most_frequent'))])\n",
    "cat_pipeline=Pipeline(steps=[('impute',SimpleImputer(strategy='most_frequent')),('one_hot',OneHotEncoder(handle_unknown='ignore', sparse=False))])"
   ]
  },
  {
   "cell_type": "markdown",
   "id": "4658c7f2",
   "metadata": {
    "papermill": {
     "duration": 0.010451,
     "end_time": "2023-10-16T19:58:01.330251",
     "exception": false,
     "start_time": "2023-10-16T19:58:01.319800",
     "status": "completed"
    },
    "tags": []
   },
   "source": [
    "Create ColumnTransformer to Apply the Pipeline for Each Column Set\n",
    "\n",
    "ColumnTransformer(transformers=[(‘step name’, transform function,cols), …])\n",
    "\n",
    ">the column which we have not used in any transformation process should be pass as it is<\n",
    "\n",
    "remainder='drop'"
   ]
  },
  {
   "cell_type": "code",
   "execution_count": 19,
   "id": "684a7842",
   "metadata": {
    "execution": {
     "iopub.execute_input": "2023-10-16T19:58:01.356175Z",
     "iopub.status.busy": "2023-10-16T19:58:01.355819Z",
     "iopub.status.idle": "2023-10-16T19:58:01.372083Z",
     "shell.execute_reply": "2023-10-16T19:58:01.371167Z"
    },
    "papermill": {
     "duration": 0.030662,
     "end_time": "2023-10-16T19:58:01.373909",
     "exception": false,
     "start_time": "2023-10-16T19:58:01.343247",
     "status": "completed"
    },
    "tags": []
   },
   "outputs": [],
   "source": [
    "from sklearn.compose import ColumnTransformer\n",
    "\n",
    "col_trans=ColumnTransformer(transformers=[('num_pipeline',num_pipeline,num_cols_1),('num_pipeline_new',num_pipeline_new,num_cols_2),('cat_pipeline',cat_pipeline,cat_cols )],\n",
    "                               remainder='drop',n_jobs=-1 )"
   ]
  },
  {
   "cell_type": "markdown",
   "id": "3fa0eda0",
   "metadata": {
    "papermill": {
     "duration": 0.011447,
     "end_time": "2023-10-16T19:58:01.396925",
     "exception": false,
     "start_time": "2023-10-16T19:58:01.385478",
     "status": "completed"
    },
    "tags": []
   },
   "source": [
    "Add model to pipeline"
   ]
  },
  {
   "cell_type": "code",
   "execution_count": 20,
   "id": "1ac31b5c",
   "metadata": {
    "execution": {
     "iopub.execute_input": "2023-10-16T19:58:01.420448Z",
     "iopub.status.busy": "2023-10-16T19:58:01.420083Z",
     "iopub.status.idle": "2023-10-16T19:58:01.425149Z",
     "shell.execute_reply": "2023-10-16T19:58:01.424345Z"
    },
    "papermill": {
     "duration": 0.019051,
     "end_time": "2023-10-16T19:58:01.427159",
     "exception": false,
     "start_time": "2023-10-16T19:58:01.408108",
     "status": "completed"
    },
    "tags": []
   },
   "outputs": [],
   "source": [
    "from sklearn.linear_model import LogisticRegression\n",
    "\n",
    "clf=LogisticRegression(random_state=42)\n",
    "\n",
    "clf_pipeline=Pipeline(steps=[('col_trans',col_trans),('model',clf)])"
   ]
  },
  {
   "cell_type": "markdown",
   "id": "abaf3bc5",
   "metadata": {
    "papermill": {
     "duration": 0.010634,
     "end_time": "2023-10-16T19:58:01.449258",
     "exception": false,
     "start_time": "2023-10-16T19:58:01.438624",
     "status": "completed"
    },
    "tags": []
   },
   "source": [
    "Display the pipeline"
   ]
  },
  {
   "cell_type": "code",
   "execution_count": 21,
   "id": "7171a731",
   "metadata": {
    "execution": {
     "iopub.execute_input": "2023-10-16T19:58:01.472767Z",
     "iopub.status.busy": "2023-10-16T19:58:01.472327Z",
     "iopub.status.idle": "2023-10-16T19:58:01.523159Z",
     "shell.execute_reply": "2023-10-16T19:58:01.522287Z"
    },
    "papermill": {
     "duration": 0.065555,
     "end_time": "2023-10-16T19:58:01.525575",
     "exception": false,
     "start_time": "2023-10-16T19:58:01.460020",
     "status": "completed"
    },
    "tags": []
   },
   "outputs": [
    {
     "data": {
      "text/html": [
       "<style>#sk-56829f2a-3f18-4cfd-bed6-6467f0702c78 {color: black;background-color: white;}#sk-56829f2a-3f18-4cfd-bed6-6467f0702c78 pre{padding: 0;}#sk-56829f2a-3f18-4cfd-bed6-6467f0702c78 div.sk-toggleable {background-color: white;}#sk-56829f2a-3f18-4cfd-bed6-6467f0702c78 label.sk-toggleable__label {cursor: pointer;display: block;width: 100%;margin-bottom: 0;padding: 0.3em;box-sizing: border-box;text-align: center;}#sk-56829f2a-3f18-4cfd-bed6-6467f0702c78 label.sk-toggleable__label-arrow:before {content: \"▸\";float: left;margin-right: 0.25em;color: #696969;}#sk-56829f2a-3f18-4cfd-bed6-6467f0702c78 label.sk-toggleable__label-arrow:hover:before {color: black;}#sk-56829f2a-3f18-4cfd-bed6-6467f0702c78 div.sk-estimator:hover label.sk-toggleable__label-arrow:before {color: black;}#sk-56829f2a-3f18-4cfd-bed6-6467f0702c78 div.sk-toggleable__content {max-height: 0;max-width: 0;overflow: hidden;text-align: left;background-color: #f0f8ff;}#sk-56829f2a-3f18-4cfd-bed6-6467f0702c78 div.sk-toggleable__content pre {margin: 0.2em;color: black;border-radius: 0.25em;background-color: #f0f8ff;}#sk-56829f2a-3f18-4cfd-bed6-6467f0702c78 input.sk-toggleable__control:checked~div.sk-toggleable__content {max-height: 200px;max-width: 100%;overflow: auto;}#sk-56829f2a-3f18-4cfd-bed6-6467f0702c78 input.sk-toggleable__control:checked~label.sk-toggleable__label-arrow:before {content: \"▾\";}#sk-56829f2a-3f18-4cfd-bed6-6467f0702c78 div.sk-estimator input.sk-toggleable__control:checked~label.sk-toggleable__label {background-color: #d4ebff;}#sk-56829f2a-3f18-4cfd-bed6-6467f0702c78 div.sk-label input.sk-toggleable__control:checked~label.sk-toggleable__label {background-color: #d4ebff;}#sk-56829f2a-3f18-4cfd-bed6-6467f0702c78 input.sk-hidden--visually {border: 0;clip: rect(1px 1px 1px 1px);clip: rect(1px, 1px, 1px, 1px);height: 1px;margin: -1px;overflow: hidden;padding: 0;position: absolute;width: 1px;}#sk-56829f2a-3f18-4cfd-bed6-6467f0702c78 div.sk-estimator {font-family: monospace;background-color: #f0f8ff;border: 1px dotted black;border-radius: 0.25em;box-sizing: border-box;margin-bottom: 0.5em;}#sk-56829f2a-3f18-4cfd-bed6-6467f0702c78 div.sk-estimator:hover {background-color: #d4ebff;}#sk-56829f2a-3f18-4cfd-bed6-6467f0702c78 div.sk-parallel-item::after {content: \"\";width: 100%;border-bottom: 1px solid gray;flex-grow: 1;}#sk-56829f2a-3f18-4cfd-bed6-6467f0702c78 div.sk-label:hover label.sk-toggleable__label {background-color: #d4ebff;}#sk-56829f2a-3f18-4cfd-bed6-6467f0702c78 div.sk-serial::before {content: \"\";position: absolute;border-left: 1px solid gray;box-sizing: border-box;top: 2em;bottom: 0;left: 50%;}#sk-56829f2a-3f18-4cfd-bed6-6467f0702c78 div.sk-serial {display: flex;flex-direction: column;align-items: center;background-color: white;padding-right: 0.2em;padding-left: 0.2em;}#sk-56829f2a-3f18-4cfd-bed6-6467f0702c78 div.sk-item {z-index: 1;}#sk-56829f2a-3f18-4cfd-bed6-6467f0702c78 div.sk-parallel {display: flex;align-items: stretch;justify-content: center;background-color: white;}#sk-56829f2a-3f18-4cfd-bed6-6467f0702c78 div.sk-parallel::before {content: \"\";position: absolute;border-left: 1px solid gray;box-sizing: border-box;top: 2em;bottom: 0;left: 50%;}#sk-56829f2a-3f18-4cfd-bed6-6467f0702c78 div.sk-parallel-item {display: flex;flex-direction: column;position: relative;background-color: white;}#sk-56829f2a-3f18-4cfd-bed6-6467f0702c78 div.sk-parallel-item:first-child::after {align-self: flex-end;width: 50%;}#sk-56829f2a-3f18-4cfd-bed6-6467f0702c78 div.sk-parallel-item:last-child::after {align-self: flex-start;width: 50%;}#sk-56829f2a-3f18-4cfd-bed6-6467f0702c78 div.sk-parallel-item:only-child::after {width: 0;}#sk-56829f2a-3f18-4cfd-bed6-6467f0702c78 div.sk-dashed-wrapped {border: 1px dashed gray;margin: 0 0.4em 0.5em 0.4em;box-sizing: border-box;padding-bottom: 0.4em;background-color: white;position: relative;}#sk-56829f2a-3f18-4cfd-bed6-6467f0702c78 div.sk-label label {font-family: monospace;font-weight: bold;background-color: white;display: inline-block;line-height: 1.2em;}#sk-56829f2a-3f18-4cfd-bed6-6467f0702c78 div.sk-label-container {position: relative;z-index: 2;text-align: center;}#sk-56829f2a-3f18-4cfd-bed6-6467f0702c78 div.sk-container {/* jupyter's `normalize.less` sets `[hidden] { display: none; }` but bootstrap.min.css set `[hidden] { display: none !important; }` so we also need the `!important` here to be able to override the default hidden behavior on the sphinx rendered scikit-learn.org. See: https://github.com/scikit-learn/scikit-learn/issues/21755 */display: inline-block !important;position: relative;}#sk-56829f2a-3f18-4cfd-bed6-6467f0702c78 div.sk-text-repr-fallback {display: none;}</style><div id=\"sk-56829f2a-3f18-4cfd-bed6-6467f0702c78\" class=\"sk-top-container\"><div class=\"sk-text-repr-fallback\"><pre>Pipeline(steps=[(&#x27;col_trans&#x27;,\n",
       "                 ColumnTransformer(n_jobs=-1,\n",
       "                                   transformers=[(&#x27;num_pipeline&#x27;,\n",
       "                                                  Pipeline(steps=[(&#x27;impute&#x27;,\n",
       "                                                                   SimpleImputer()),\n",
       "                                                                  (&#x27;min_max_scale&#x27;,\n",
       "                                                                   MinMaxScaler())]),\n",
       "                                                  [&#x27;Age&#x27;, &#x27;Fare&#x27;]),\n",
       "                                                 (&#x27;num_pipeline_new&#x27;,\n",
       "                                                  Pipeline(steps=[(&#x27;impute2&#x27;,\n",
       "                                                                   SimpleImputer(strategy=&#x27;most_frequent&#x27;))]),\n",
       "                                                  [&#x27;Pclass&#x27;, &#x27;SibSp&#x27;, &#x27;Parch&#x27;]),\n",
       "                                                 (&#x27;cat_pipeline&#x27;,\n",
       "                                                  Pipeline(steps=[(&#x27;impute&#x27;,\n",
       "                                                                   SimpleImputer(strategy=&#x27;most_frequent&#x27;)),\n",
       "                                                                  (&#x27;one_hot&#x27;,\n",
       "                                                                   OneHotEncoder(handle_unknown=&#x27;ignore&#x27;,\n",
       "                                                                                 sparse=False))]),\n",
       "                                                  [&#x27;Sex&#x27;])])),\n",
       "                (&#x27;model&#x27;, LogisticRegression(random_state=42))])</pre><b>Please rerun this cell to show the HTML repr or trust the notebook.</b></div><div class=\"sk-container\" hidden><div class=\"sk-item sk-dashed-wrapped\"><div class=\"sk-label-container\"><div class=\"sk-label sk-toggleable\"><input class=\"sk-toggleable__control sk-hidden--visually\" id=\"2b3531dc-781c-4125-a132-4969dd5b3ea7\" type=\"checkbox\" ><label for=\"2b3531dc-781c-4125-a132-4969dd5b3ea7\" class=\"sk-toggleable__label sk-toggleable__label-arrow\">Pipeline</label><div class=\"sk-toggleable__content\"><pre>Pipeline(steps=[(&#x27;col_trans&#x27;,\n",
       "                 ColumnTransformer(n_jobs=-1,\n",
       "                                   transformers=[(&#x27;num_pipeline&#x27;,\n",
       "                                                  Pipeline(steps=[(&#x27;impute&#x27;,\n",
       "                                                                   SimpleImputer()),\n",
       "                                                                  (&#x27;min_max_scale&#x27;,\n",
       "                                                                   MinMaxScaler())]),\n",
       "                                                  [&#x27;Age&#x27;, &#x27;Fare&#x27;]),\n",
       "                                                 (&#x27;num_pipeline_new&#x27;,\n",
       "                                                  Pipeline(steps=[(&#x27;impute2&#x27;,\n",
       "                                                                   SimpleImputer(strategy=&#x27;most_frequent&#x27;))]),\n",
       "                                                  [&#x27;Pclass&#x27;, &#x27;SibSp&#x27;, &#x27;Parch&#x27;]),\n",
       "                                                 (&#x27;cat_pipeline&#x27;,\n",
       "                                                  Pipeline(steps=[(&#x27;impute&#x27;,\n",
       "                                                                   SimpleImputer(strategy=&#x27;most_frequent&#x27;)),\n",
       "                                                                  (&#x27;one_hot&#x27;,\n",
       "                                                                   OneHotEncoder(handle_unknown=&#x27;ignore&#x27;,\n",
       "                                                                                 sparse=False))]),\n",
       "                                                  [&#x27;Sex&#x27;])])),\n",
       "                (&#x27;model&#x27;, LogisticRegression(random_state=42))])</pre></div></div></div><div class=\"sk-serial\"><div class=\"sk-item sk-dashed-wrapped\"><div class=\"sk-label-container\"><div class=\"sk-label sk-toggleable\"><input class=\"sk-toggleable__control sk-hidden--visually\" id=\"119894e7-f5b7-4fc3-8e5a-5e7946a26c45\" type=\"checkbox\" ><label for=\"119894e7-f5b7-4fc3-8e5a-5e7946a26c45\" class=\"sk-toggleable__label sk-toggleable__label-arrow\">col_trans: ColumnTransformer</label><div class=\"sk-toggleable__content\"><pre>ColumnTransformer(n_jobs=-1,\n",
       "                  transformers=[(&#x27;num_pipeline&#x27;,\n",
       "                                 Pipeline(steps=[(&#x27;impute&#x27;, SimpleImputer()),\n",
       "                                                 (&#x27;min_max_scale&#x27;,\n",
       "                                                  MinMaxScaler())]),\n",
       "                                 [&#x27;Age&#x27;, &#x27;Fare&#x27;]),\n",
       "                                (&#x27;num_pipeline_new&#x27;,\n",
       "                                 Pipeline(steps=[(&#x27;impute2&#x27;,\n",
       "                                                  SimpleImputer(strategy=&#x27;most_frequent&#x27;))]),\n",
       "                                 [&#x27;Pclass&#x27;, &#x27;SibSp&#x27;, &#x27;Parch&#x27;]),\n",
       "                                (&#x27;cat_pipeline&#x27;,\n",
       "                                 Pipeline(steps=[(&#x27;impute&#x27;,\n",
       "                                                  SimpleImputer(strategy=&#x27;most_frequent&#x27;)),\n",
       "                                                 (&#x27;one_hot&#x27;,\n",
       "                                                  OneHotEncoder(handle_unknown=&#x27;ignore&#x27;,\n",
       "                                                                sparse=False))]),\n",
       "                                 [&#x27;Sex&#x27;])])</pre></div></div></div><div class=\"sk-parallel\"><div class=\"sk-parallel-item\"><div class=\"sk-item\"><div class=\"sk-label-container\"><div class=\"sk-label sk-toggleable\"><input class=\"sk-toggleable__control sk-hidden--visually\" id=\"a49690a5-71fc-4379-b96d-c9268885b355\" type=\"checkbox\" ><label for=\"a49690a5-71fc-4379-b96d-c9268885b355\" class=\"sk-toggleable__label sk-toggleable__label-arrow\">num_pipeline</label><div class=\"sk-toggleable__content\"><pre>[&#x27;Age&#x27;, &#x27;Fare&#x27;]</pre></div></div></div><div class=\"sk-serial\"><div class=\"sk-item\"><div class=\"sk-serial\"><div class=\"sk-item\"><div class=\"sk-estimator sk-toggleable\"><input class=\"sk-toggleable__control sk-hidden--visually\" id=\"c7e2a3af-fb81-403a-b685-d3039958128a\" type=\"checkbox\" ><label for=\"c7e2a3af-fb81-403a-b685-d3039958128a\" class=\"sk-toggleable__label sk-toggleable__label-arrow\">SimpleImputer</label><div class=\"sk-toggleable__content\"><pre>SimpleImputer()</pre></div></div></div><div class=\"sk-item\"><div class=\"sk-estimator sk-toggleable\"><input class=\"sk-toggleable__control sk-hidden--visually\" id=\"53d2b8e0-8d4a-4ef9-bec6-1190e38662ee\" type=\"checkbox\" ><label for=\"53d2b8e0-8d4a-4ef9-bec6-1190e38662ee\" class=\"sk-toggleable__label sk-toggleable__label-arrow\">MinMaxScaler</label><div class=\"sk-toggleable__content\"><pre>MinMaxScaler()</pre></div></div></div></div></div></div></div></div><div class=\"sk-parallel-item\"><div class=\"sk-item\"><div class=\"sk-label-container\"><div class=\"sk-label sk-toggleable\"><input class=\"sk-toggleable__control sk-hidden--visually\" id=\"684e17b8-c76d-490e-a473-629c436cea58\" type=\"checkbox\" ><label for=\"684e17b8-c76d-490e-a473-629c436cea58\" class=\"sk-toggleable__label sk-toggleable__label-arrow\">num_pipeline_new</label><div class=\"sk-toggleable__content\"><pre>[&#x27;Pclass&#x27;, &#x27;SibSp&#x27;, &#x27;Parch&#x27;]</pre></div></div></div><div class=\"sk-serial\"><div class=\"sk-item\"><div class=\"sk-serial\"><div class=\"sk-item\"><div class=\"sk-estimator sk-toggleable\"><input class=\"sk-toggleable__control sk-hidden--visually\" id=\"69508516-c9ae-45d5-a11d-a8fba80fe159\" type=\"checkbox\" ><label for=\"69508516-c9ae-45d5-a11d-a8fba80fe159\" class=\"sk-toggleable__label sk-toggleable__label-arrow\">SimpleImputer</label><div class=\"sk-toggleable__content\"><pre>SimpleImputer(strategy=&#x27;most_frequent&#x27;)</pre></div></div></div></div></div></div></div></div><div class=\"sk-parallel-item\"><div class=\"sk-item\"><div class=\"sk-label-container\"><div class=\"sk-label sk-toggleable\"><input class=\"sk-toggleable__control sk-hidden--visually\" id=\"d20205fc-2a64-4a3e-8e7d-09295b614ce3\" type=\"checkbox\" ><label for=\"d20205fc-2a64-4a3e-8e7d-09295b614ce3\" class=\"sk-toggleable__label sk-toggleable__label-arrow\">cat_pipeline</label><div class=\"sk-toggleable__content\"><pre>[&#x27;Sex&#x27;]</pre></div></div></div><div class=\"sk-serial\"><div class=\"sk-item\"><div class=\"sk-serial\"><div class=\"sk-item\"><div class=\"sk-estimator sk-toggleable\"><input class=\"sk-toggleable__control sk-hidden--visually\" id=\"25c73958-6ae2-4df6-ad98-9a7c894f250a\" type=\"checkbox\" ><label for=\"25c73958-6ae2-4df6-ad98-9a7c894f250a\" class=\"sk-toggleable__label sk-toggleable__label-arrow\">SimpleImputer</label><div class=\"sk-toggleable__content\"><pre>SimpleImputer(strategy=&#x27;most_frequent&#x27;)</pre></div></div></div><div class=\"sk-item\"><div class=\"sk-estimator sk-toggleable\"><input class=\"sk-toggleable__control sk-hidden--visually\" id=\"bfa1afb3-a211-449c-8f14-2584e888a412\" type=\"checkbox\" ><label for=\"bfa1afb3-a211-449c-8f14-2584e888a412\" class=\"sk-toggleable__label sk-toggleable__label-arrow\">OneHotEncoder</label><div class=\"sk-toggleable__content\"><pre>OneHotEncoder(handle_unknown=&#x27;ignore&#x27;, sparse=False)</pre></div></div></div></div></div></div></div></div></div></div><div class=\"sk-item\"><div class=\"sk-estimator sk-toggleable\"><input class=\"sk-toggleable__control sk-hidden--visually\" id=\"c84ff463-4586-48b5-ba1b-994dd5a5be9e\" type=\"checkbox\" ><label for=\"c84ff463-4586-48b5-ba1b-994dd5a5be9e\" class=\"sk-toggleable__label sk-toggleable__label-arrow\">LogisticRegression</label><div class=\"sk-toggleable__content\"><pre>LogisticRegression(random_state=42)</pre></div></div></div></div></div></div></div>"
      ],
      "text/plain": [
       "Pipeline(steps=[('col_trans',\n",
       "                 ColumnTransformer(n_jobs=-1,\n",
       "                                   transformers=[('num_pipeline',\n",
       "                                                  Pipeline(steps=[('impute',\n",
       "                                                                   SimpleImputer()),\n",
       "                                                                  ('min_max_scale',\n",
       "                                                                   MinMaxScaler())]),\n",
       "                                                  ['Age', 'Fare']),\n",
       "                                                 ('num_pipeline_new',\n",
       "                                                  Pipeline(steps=[('impute2',\n",
       "                                                                   SimpleImputer(strategy='most_frequent'))]),\n",
       "                                                  ['Pclass', 'SibSp', 'Parch']),\n",
       "                                                 ('cat_pipeline',\n",
       "                                                  Pipeline(steps=[('impute',\n",
       "                                                                   SimpleImputer(strategy='most_frequent')),\n",
       "                                                                  ('one_hot',\n",
       "                                                                   OneHotEncoder(handle_unknown='ignore',\n",
       "                                                                                 sparse=False))]),\n",
       "                                                  ['Sex'])])),\n",
       "                ('model', LogisticRegression(random_state=42))])"
      ]
     },
     "metadata": {},
     "output_type": "display_data"
    }
   ],
   "source": [
    "from sklearn import set_config\n",
    "set_config(display='diagram')\n",
    "display(clf_pipeline)"
   ]
  },
  {
   "cell_type": "code",
   "execution_count": 22,
   "id": "90afc6c6",
   "metadata": {
    "execution": {
     "iopub.execute_input": "2023-10-16T19:58:01.551979Z",
     "iopub.status.busy": "2023-10-16T19:58:01.551631Z",
     "iopub.status.idle": "2023-10-16T19:58:01.560616Z",
     "shell.execute_reply": "2023-10-16T19:58:01.559140Z"
    },
    "papermill": {
     "duration": 0.02501,
     "end_time": "2023-10-16T19:58:01.563074",
     "exception": false,
     "start_time": "2023-10-16T19:58:01.538064",
     "status": "completed"
    },
    "tags": []
   },
   "outputs": [],
   "source": [
    "from sklearn.model_selection import train_test_split\n",
    "\n",
    "x=train_data[num_cols_1+num_cols_2+cat_cols]\n",
    "y=train_data['Survived']\n",
    "x_train,x_test,y_train,y_test=train_test_split(x,y, test_size=0.2, random_state=21, stratify=y )"
   ]
  },
  {
   "cell_type": "code",
   "execution_count": 23,
   "id": "55944e26",
   "metadata": {
    "execution": {
     "iopub.execute_input": "2023-10-16T19:58:01.588507Z",
     "iopub.status.busy": "2023-10-16T19:58:01.587449Z",
     "iopub.status.idle": "2023-10-16T19:58:01.599070Z",
     "shell.execute_reply": "2023-10-16T19:58:01.597611Z"
    },
    "papermill": {
     "duration": 0.0266,
     "end_time": "2023-10-16T19:58:01.601489",
     "exception": false,
     "start_time": "2023-10-16T19:58:01.574889",
     "status": "completed"
    },
    "tags": []
   },
   "outputs": [
    {
     "data": {
      "text/html": [
       "<div>\n",
       "<style scoped>\n",
       "    .dataframe tbody tr th:only-of-type {\n",
       "        vertical-align: middle;\n",
       "    }\n",
       "\n",
       "    .dataframe tbody tr th {\n",
       "        vertical-align: top;\n",
       "    }\n",
       "\n",
       "    .dataframe thead th {\n",
       "        text-align: right;\n",
       "    }\n",
       "</style>\n",
       "<table border=\"1\" class=\"dataframe\">\n",
       "  <thead>\n",
       "    <tr style=\"text-align: right;\">\n",
       "      <th></th>\n",
       "      <th>Age</th>\n",
       "      <th>Fare</th>\n",
       "      <th>Pclass</th>\n",
       "      <th>SibSp</th>\n",
       "      <th>Parch</th>\n",
       "      <th>Sex</th>\n",
       "    </tr>\n",
       "  </thead>\n",
       "  <tbody>\n",
       "    <tr>\n",
       "      <th>0</th>\n",
       "      <td>22.0</td>\n",
       "      <td>7.2500</td>\n",
       "      <td>3</td>\n",
       "      <td>1</td>\n",
       "      <td>0</td>\n",
       "      <td>male</td>\n",
       "    </tr>\n",
       "    <tr>\n",
       "      <th>1</th>\n",
       "      <td>38.0</td>\n",
       "      <td>71.2833</td>\n",
       "      <td>1</td>\n",
       "      <td>1</td>\n",
       "      <td>0</td>\n",
       "      <td>female</td>\n",
       "    </tr>\n",
       "    <tr>\n",
       "      <th>2</th>\n",
       "      <td>26.0</td>\n",
       "      <td>7.9250</td>\n",
       "      <td>3</td>\n",
       "      <td>0</td>\n",
       "      <td>0</td>\n",
       "      <td>female</td>\n",
       "    </tr>\n",
       "    <tr>\n",
       "      <th>3</th>\n",
       "      <td>35.0</td>\n",
       "      <td>53.1000</td>\n",
       "      <td>1</td>\n",
       "      <td>1</td>\n",
       "      <td>0</td>\n",
       "      <td>female</td>\n",
       "    </tr>\n",
       "    <tr>\n",
       "      <th>4</th>\n",
       "      <td>35.0</td>\n",
       "      <td>8.0500</td>\n",
       "      <td>3</td>\n",
       "      <td>0</td>\n",
       "      <td>0</td>\n",
       "      <td>male</td>\n",
       "    </tr>\n",
       "  </tbody>\n",
       "</table>\n",
       "</div>"
      ],
      "text/plain": [
       "    Age     Fare  Pclass  SibSp  Parch     Sex\n",
       "0  22.0   7.2500       3      1      0    male\n",
       "1  38.0  71.2833       1      1      0  female\n",
       "2  26.0   7.9250       3      0      0  female\n",
       "3  35.0  53.1000       1      1      0  female\n",
       "4  35.0   8.0500       3      0      0    male"
      ]
     },
     "execution_count": 23,
     "metadata": {},
     "output_type": "execute_result"
    }
   ],
   "source": [
    "x.head()"
   ]
  },
  {
   "cell_type": "code",
   "execution_count": 24,
   "id": "31ea9335",
   "metadata": {
    "execution": {
     "iopub.execute_input": "2023-10-16T19:58:01.627215Z",
     "iopub.status.busy": "2023-10-16T19:58:01.626861Z",
     "iopub.status.idle": "2023-10-16T19:58:01.638885Z",
     "shell.execute_reply": "2023-10-16T19:58:01.637169Z"
    },
    "papermill": {
     "duration": 0.027344,
     "end_time": "2023-10-16T19:58:01.641236",
     "exception": false,
     "start_time": "2023-10-16T19:58:01.613892",
     "status": "completed"
    },
    "tags": []
   },
   "outputs": [
    {
     "data": {
      "text/html": [
       "<div>\n",
       "<style scoped>\n",
       "    .dataframe tbody tr th:only-of-type {\n",
       "        vertical-align: middle;\n",
       "    }\n",
       "\n",
       "    .dataframe tbody tr th {\n",
       "        vertical-align: top;\n",
       "    }\n",
       "\n",
       "    .dataframe thead th {\n",
       "        text-align: right;\n",
       "    }\n",
       "</style>\n",
       "<table border=\"1\" class=\"dataframe\">\n",
       "  <thead>\n",
       "    <tr style=\"text-align: right;\">\n",
       "      <th></th>\n",
       "      <th>Age</th>\n",
       "      <th>Fare</th>\n",
       "      <th>Pclass</th>\n",
       "      <th>SibSp</th>\n",
       "      <th>Parch</th>\n",
       "      <th>Sex</th>\n",
       "    </tr>\n",
       "  </thead>\n",
       "  <tbody>\n",
       "    <tr>\n",
       "      <th>360</th>\n",
       "      <td>40.0</td>\n",
       "      <td>27.9000</td>\n",
       "      <td>3</td>\n",
       "      <td>1</td>\n",
       "      <td>4</td>\n",
       "      <td>male</td>\n",
       "    </tr>\n",
       "    <tr>\n",
       "      <th>858</th>\n",
       "      <td>24.0</td>\n",
       "      <td>19.2583</td>\n",
       "      <td>3</td>\n",
       "      <td>0</td>\n",
       "      <td>3</td>\n",
       "      <td>female</td>\n",
       "    </tr>\n",
       "    <tr>\n",
       "      <th>497</th>\n",
       "      <td>NaN</td>\n",
       "      <td>15.1000</td>\n",
       "      <td>3</td>\n",
       "      <td>0</td>\n",
       "      <td>0</td>\n",
       "      <td>male</td>\n",
       "    </tr>\n",
       "    <tr>\n",
       "      <th>86</th>\n",
       "      <td>16.0</td>\n",
       "      <td>34.3750</td>\n",
       "      <td>3</td>\n",
       "      <td>1</td>\n",
       "      <td>3</td>\n",
       "      <td>male</td>\n",
       "    </tr>\n",
       "    <tr>\n",
       "      <th>583</th>\n",
       "      <td>36.0</td>\n",
       "      <td>40.1250</td>\n",
       "      <td>1</td>\n",
       "      <td>0</td>\n",
       "      <td>0</td>\n",
       "      <td>male</td>\n",
       "    </tr>\n",
       "  </tbody>\n",
       "</table>\n",
       "</div>"
      ],
      "text/plain": [
       "      Age     Fare  Pclass  SibSp  Parch     Sex\n",
       "360  40.0  27.9000       3      1      4    male\n",
       "858  24.0  19.2583       3      0      3  female\n",
       "497   NaN  15.1000       3      0      0    male\n",
       "86   16.0  34.3750       3      1      3    male\n",
       "583  36.0  40.1250       1      0      0    male"
      ]
     },
     "execution_count": 24,
     "metadata": {},
     "output_type": "execute_result"
    }
   ],
   "source": [
    "x_test.head()"
   ]
  },
  {
   "cell_type": "markdown",
   "id": "426fe8a3",
   "metadata": {
    "papermill": {
     "duration": 0.011636,
     "end_time": "2023-10-16T19:58:01.664852",
     "exception": false,
     "start_time": "2023-10-16T19:58:01.653216",
     "status": "completed"
    },
    "tags": []
   },
   "source": [
    "*Pass Data through the Pipeline*\n",
    "\n",
    "**pipeline_name.fit, pipeline_name.predict, pipeline_name.score**"
   ]
  },
  {
   "cell_type": "code",
   "execution_count": 25,
   "id": "3ffc6ef6",
   "metadata": {
    "execution": {
     "iopub.execute_input": "2023-10-16T19:58:01.691027Z",
     "iopub.status.busy": "2023-10-16T19:58:01.690596Z",
     "iopub.status.idle": "2023-10-16T19:58:03.364001Z",
     "shell.execute_reply": "2023-10-16T19:58:03.363219Z"
    },
    "papermill": {
     "duration": 1.689216,
     "end_time": "2023-10-16T19:58:03.366189",
     "exception": false,
     "start_time": "2023-10-16T19:58:01.676973",
     "status": "completed"
    },
    "tags": []
   },
   "outputs": [
    {
     "data": {
      "text/plain": [
       "0.7821229050279329"
      ]
     },
     "execution_count": 25,
     "metadata": {},
     "output_type": "execute_result"
    }
   ],
   "source": [
    "clf_pipeline.fit(x_train,y_train)\n",
    "clf_pipeline.score(x_test,y_test)"
   ]
  },
  {
   "cell_type": "markdown",
   "id": "4c913aa9",
   "metadata": {
    "papermill": {
     "duration": 0.017599,
     "end_time": "2023-10-16T19:58:03.403451",
     "exception": false,
     "start_time": "2023-10-16T19:58:03.385852",
     "status": "completed"
    },
    "tags": []
   },
   "source": [
    "We got an accuracy score of 77.6%"
   ]
  },
  {
   "cell_type": "markdown",
   "id": "8c1e9033",
   "metadata": {
    "papermill": {
     "duration": 0.011936,
     "end_time": "2023-10-16T19:58:03.427461",
     "exception": false,
     "start_time": "2023-10-16T19:58:03.415525",
     "status": "completed"
    },
    "tags": []
   },
   "source": [
    "Save the pipeline"
   ]
  },
  {
   "cell_type": "code",
   "execution_count": 28,
   "id": "92c154c1",
   "metadata": {
    "execution": {
     "iopub.execute_input": "2023-10-16T19:58:03.452275Z",
     "iopub.status.busy": "2023-10-16T19:58:03.451775Z",
     "iopub.status.idle": "2023-10-16T19:58:03.462196Z",
     "shell.execute_reply": "2023-10-16T19:58:03.460906Z"
    },
    "papermill": {
     "duration": 0.025528,
     "end_time": "2023-10-16T19:58:03.464516",
     "exception": false,
     "start_time": "2023-10-16T19:58:03.438988",
     "status": "completed"
    },
    "tags": []
   },
   "outputs": [
    {
     "data": {
      "text/plain": [
       "['pipe.joblib']"
      ]
     },
     "execution_count": 28,
     "metadata": {},
     "output_type": "execute_result"
    }
   ],
   "source": [
    "#save the pipeline as pipe.joblib\n",
    "import joblib\n",
    "joblib.dump(clf_pipeline,'pipe.joblib')"
   ]
  },
  {
   "cell_type": "code",
   "execution_count": 29,
   "id": "e8c36789",
   "metadata": {
    "execution": {
     "iopub.execute_input": "2023-10-16T19:58:03.491553Z",
     "iopub.status.busy": "2023-10-16T19:58:03.489907Z",
     "iopub.status.idle": "2023-10-16T19:58:03.536707Z",
     "shell.execute_reply": "2023-10-16T19:58:03.535653Z"
    },
    "papermill": {
     "duration": 0.061782,
     "end_time": "2023-10-16T19:58:03.538370",
     "exception": false,
     "start_time": "2023-10-16T19:58:03.476588",
     "status": "completed"
    },
    "tags": []
   },
   "outputs": [
    {
     "data": {
      "text/html": [
       "<style>#sk-ca7b2122-7965-420d-9e39-f4b185b6f00b {color: black;background-color: white;}#sk-ca7b2122-7965-420d-9e39-f4b185b6f00b pre{padding: 0;}#sk-ca7b2122-7965-420d-9e39-f4b185b6f00b div.sk-toggleable {background-color: white;}#sk-ca7b2122-7965-420d-9e39-f4b185b6f00b label.sk-toggleable__label {cursor: pointer;display: block;width: 100%;margin-bottom: 0;padding: 0.3em;box-sizing: border-box;text-align: center;}#sk-ca7b2122-7965-420d-9e39-f4b185b6f00b label.sk-toggleable__label-arrow:before {content: \"▸\";float: left;margin-right: 0.25em;color: #696969;}#sk-ca7b2122-7965-420d-9e39-f4b185b6f00b label.sk-toggleable__label-arrow:hover:before {color: black;}#sk-ca7b2122-7965-420d-9e39-f4b185b6f00b div.sk-estimator:hover label.sk-toggleable__label-arrow:before {color: black;}#sk-ca7b2122-7965-420d-9e39-f4b185b6f00b div.sk-toggleable__content {max-height: 0;max-width: 0;overflow: hidden;text-align: left;background-color: #f0f8ff;}#sk-ca7b2122-7965-420d-9e39-f4b185b6f00b div.sk-toggleable__content pre {margin: 0.2em;color: black;border-radius: 0.25em;background-color: #f0f8ff;}#sk-ca7b2122-7965-420d-9e39-f4b185b6f00b input.sk-toggleable__control:checked~div.sk-toggleable__content {max-height: 200px;max-width: 100%;overflow: auto;}#sk-ca7b2122-7965-420d-9e39-f4b185b6f00b input.sk-toggleable__control:checked~label.sk-toggleable__label-arrow:before {content: \"▾\";}#sk-ca7b2122-7965-420d-9e39-f4b185b6f00b div.sk-estimator input.sk-toggleable__control:checked~label.sk-toggleable__label {background-color: #d4ebff;}#sk-ca7b2122-7965-420d-9e39-f4b185b6f00b div.sk-label input.sk-toggleable__control:checked~label.sk-toggleable__label {background-color: #d4ebff;}#sk-ca7b2122-7965-420d-9e39-f4b185b6f00b input.sk-hidden--visually {border: 0;clip: rect(1px 1px 1px 1px);clip: rect(1px, 1px, 1px, 1px);height: 1px;margin: -1px;overflow: hidden;padding: 0;position: absolute;width: 1px;}#sk-ca7b2122-7965-420d-9e39-f4b185b6f00b div.sk-estimator {font-family: monospace;background-color: #f0f8ff;border: 1px dotted black;border-radius: 0.25em;box-sizing: border-box;margin-bottom: 0.5em;}#sk-ca7b2122-7965-420d-9e39-f4b185b6f00b div.sk-estimator:hover {background-color: #d4ebff;}#sk-ca7b2122-7965-420d-9e39-f4b185b6f00b div.sk-parallel-item::after {content: \"\";width: 100%;border-bottom: 1px solid gray;flex-grow: 1;}#sk-ca7b2122-7965-420d-9e39-f4b185b6f00b div.sk-label:hover label.sk-toggleable__label {background-color: #d4ebff;}#sk-ca7b2122-7965-420d-9e39-f4b185b6f00b div.sk-serial::before {content: \"\";position: absolute;border-left: 1px solid gray;box-sizing: border-box;top: 2em;bottom: 0;left: 50%;}#sk-ca7b2122-7965-420d-9e39-f4b185b6f00b div.sk-serial {display: flex;flex-direction: column;align-items: center;background-color: white;padding-right: 0.2em;padding-left: 0.2em;}#sk-ca7b2122-7965-420d-9e39-f4b185b6f00b div.sk-item {z-index: 1;}#sk-ca7b2122-7965-420d-9e39-f4b185b6f00b div.sk-parallel {display: flex;align-items: stretch;justify-content: center;background-color: white;}#sk-ca7b2122-7965-420d-9e39-f4b185b6f00b div.sk-parallel::before {content: \"\";position: absolute;border-left: 1px solid gray;box-sizing: border-box;top: 2em;bottom: 0;left: 50%;}#sk-ca7b2122-7965-420d-9e39-f4b185b6f00b div.sk-parallel-item {display: flex;flex-direction: column;position: relative;background-color: white;}#sk-ca7b2122-7965-420d-9e39-f4b185b6f00b div.sk-parallel-item:first-child::after {align-self: flex-end;width: 50%;}#sk-ca7b2122-7965-420d-9e39-f4b185b6f00b div.sk-parallel-item:last-child::after {align-self: flex-start;width: 50%;}#sk-ca7b2122-7965-420d-9e39-f4b185b6f00b div.sk-parallel-item:only-child::after {width: 0;}#sk-ca7b2122-7965-420d-9e39-f4b185b6f00b div.sk-dashed-wrapped {border: 1px dashed gray;margin: 0 0.4em 0.5em 0.4em;box-sizing: border-box;padding-bottom: 0.4em;background-color: white;position: relative;}#sk-ca7b2122-7965-420d-9e39-f4b185b6f00b div.sk-label label {font-family: monospace;font-weight: bold;background-color: white;display: inline-block;line-height: 1.2em;}#sk-ca7b2122-7965-420d-9e39-f4b185b6f00b div.sk-label-container {position: relative;z-index: 2;text-align: center;}#sk-ca7b2122-7965-420d-9e39-f4b185b6f00b div.sk-container {/* jupyter's `normalize.less` sets `[hidden] { display: none; }` but bootstrap.min.css set `[hidden] { display: none !important; }` so we also need the `!important` here to be able to override the default hidden behavior on the sphinx rendered scikit-learn.org. See: https://github.com/scikit-learn/scikit-learn/issues/21755 */display: inline-block !important;position: relative;}#sk-ca7b2122-7965-420d-9e39-f4b185b6f00b div.sk-text-repr-fallback {display: none;}</style><div id=\"sk-ca7b2122-7965-420d-9e39-f4b185b6f00b\" class=\"sk-top-container\"><div class=\"sk-text-repr-fallback\"><pre>Pipeline(steps=[(&#x27;col_trans&#x27;,\n",
       "                 ColumnTransformer(n_jobs=-1,\n",
       "                                   transformers=[(&#x27;num_pipeline&#x27;,\n",
       "                                                  Pipeline(steps=[(&#x27;impute&#x27;,\n",
       "                                                                   SimpleImputer()),\n",
       "                                                                  (&#x27;min_max_scale&#x27;,\n",
       "                                                                   MinMaxScaler())]),\n",
       "                                                  [&#x27;Age&#x27;, &#x27;Fare&#x27;]),\n",
       "                                                 (&#x27;num_pipeline_new&#x27;,\n",
       "                                                  Pipeline(steps=[(&#x27;impute2&#x27;,\n",
       "                                                                   SimpleImputer(strategy=&#x27;most_frequent&#x27;))]),\n",
       "                                                  [&#x27;Pclass&#x27;, &#x27;SibSp&#x27;, &#x27;Parch&#x27;]),\n",
       "                                                 (&#x27;cat_pipeline&#x27;,\n",
       "                                                  Pipeline(steps=[(&#x27;impute&#x27;,\n",
       "                                                                   SimpleImputer(strategy=&#x27;most_frequent&#x27;)),\n",
       "                                                                  (&#x27;one_hot&#x27;,\n",
       "                                                                   OneHotEncoder(handle_unknown=&#x27;ignore&#x27;,\n",
       "                                                                                 sparse=False))]),\n",
       "                                                  [&#x27;Sex&#x27;])])),\n",
       "                (&#x27;model&#x27;, LogisticRegression(random_state=42))])</pre><b>Please rerun this cell to show the HTML repr or trust the notebook.</b></div><div class=\"sk-container\" hidden><div class=\"sk-item sk-dashed-wrapped\"><div class=\"sk-label-container\"><div class=\"sk-label sk-toggleable\"><input class=\"sk-toggleable__control sk-hidden--visually\" id=\"7ddc4ef1-73fb-4f0f-a6af-d690ac109aa3\" type=\"checkbox\" ><label for=\"7ddc4ef1-73fb-4f0f-a6af-d690ac109aa3\" class=\"sk-toggleable__label sk-toggleable__label-arrow\">Pipeline</label><div class=\"sk-toggleable__content\"><pre>Pipeline(steps=[(&#x27;col_trans&#x27;,\n",
       "                 ColumnTransformer(n_jobs=-1,\n",
       "                                   transformers=[(&#x27;num_pipeline&#x27;,\n",
       "                                                  Pipeline(steps=[(&#x27;impute&#x27;,\n",
       "                                                                   SimpleImputer()),\n",
       "                                                                  (&#x27;min_max_scale&#x27;,\n",
       "                                                                   MinMaxScaler())]),\n",
       "                                                  [&#x27;Age&#x27;, &#x27;Fare&#x27;]),\n",
       "                                                 (&#x27;num_pipeline_new&#x27;,\n",
       "                                                  Pipeline(steps=[(&#x27;impute2&#x27;,\n",
       "                                                                   SimpleImputer(strategy=&#x27;most_frequent&#x27;))]),\n",
       "                                                  [&#x27;Pclass&#x27;, &#x27;SibSp&#x27;, &#x27;Parch&#x27;]),\n",
       "                                                 (&#x27;cat_pipeline&#x27;,\n",
       "                                                  Pipeline(steps=[(&#x27;impute&#x27;,\n",
       "                                                                   SimpleImputer(strategy=&#x27;most_frequent&#x27;)),\n",
       "                                                                  (&#x27;one_hot&#x27;,\n",
       "                                                                   OneHotEncoder(handle_unknown=&#x27;ignore&#x27;,\n",
       "                                                                                 sparse=False))]),\n",
       "                                                  [&#x27;Sex&#x27;])])),\n",
       "                (&#x27;model&#x27;, LogisticRegression(random_state=42))])</pre></div></div></div><div class=\"sk-serial\"><div class=\"sk-item sk-dashed-wrapped\"><div class=\"sk-label-container\"><div class=\"sk-label sk-toggleable\"><input class=\"sk-toggleable__control sk-hidden--visually\" id=\"89b14f2b-913b-442e-8bfa-2c089cb76ecc\" type=\"checkbox\" ><label for=\"89b14f2b-913b-442e-8bfa-2c089cb76ecc\" class=\"sk-toggleable__label sk-toggleable__label-arrow\">col_trans: ColumnTransformer</label><div class=\"sk-toggleable__content\"><pre>ColumnTransformer(n_jobs=-1,\n",
       "                  transformers=[(&#x27;num_pipeline&#x27;,\n",
       "                                 Pipeline(steps=[(&#x27;impute&#x27;, SimpleImputer()),\n",
       "                                                 (&#x27;min_max_scale&#x27;,\n",
       "                                                  MinMaxScaler())]),\n",
       "                                 [&#x27;Age&#x27;, &#x27;Fare&#x27;]),\n",
       "                                (&#x27;num_pipeline_new&#x27;,\n",
       "                                 Pipeline(steps=[(&#x27;impute2&#x27;,\n",
       "                                                  SimpleImputer(strategy=&#x27;most_frequent&#x27;))]),\n",
       "                                 [&#x27;Pclass&#x27;, &#x27;SibSp&#x27;, &#x27;Parch&#x27;]),\n",
       "                                (&#x27;cat_pipeline&#x27;,\n",
       "                                 Pipeline(steps=[(&#x27;impute&#x27;,\n",
       "                                                  SimpleImputer(strategy=&#x27;most_frequent&#x27;)),\n",
       "                                                 (&#x27;one_hot&#x27;,\n",
       "                                                  OneHotEncoder(handle_unknown=&#x27;ignore&#x27;,\n",
       "                                                                sparse=False))]),\n",
       "                                 [&#x27;Sex&#x27;])])</pre></div></div></div><div class=\"sk-parallel\"><div class=\"sk-parallel-item\"><div class=\"sk-item\"><div class=\"sk-label-container\"><div class=\"sk-label sk-toggleable\"><input class=\"sk-toggleable__control sk-hidden--visually\" id=\"be08ef22-caa5-4e56-9b36-6f1ffbfc89b0\" type=\"checkbox\" ><label for=\"be08ef22-caa5-4e56-9b36-6f1ffbfc89b0\" class=\"sk-toggleable__label sk-toggleable__label-arrow\">num_pipeline</label><div class=\"sk-toggleable__content\"><pre>[&#x27;Age&#x27;, &#x27;Fare&#x27;]</pre></div></div></div><div class=\"sk-serial\"><div class=\"sk-item\"><div class=\"sk-serial\"><div class=\"sk-item\"><div class=\"sk-estimator sk-toggleable\"><input class=\"sk-toggleable__control sk-hidden--visually\" id=\"10742e18-bcfc-437d-8456-ed5a98878c48\" type=\"checkbox\" ><label for=\"10742e18-bcfc-437d-8456-ed5a98878c48\" class=\"sk-toggleable__label sk-toggleable__label-arrow\">SimpleImputer</label><div class=\"sk-toggleable__content\"><pre>SimpleImputer()</pre></div></div></div><div class=\"sk-item\"><div class=\"sk-estimator sk-toggleable\"><input class=\"sk-toggleable__control sk-hidden--visually\" id=\"6412dc7e-3748-4d19-9cbd-af9468df412c\" type=\"checkbox\" ><label for=\"6412dc7e-3748-4d19-9cbd-af9468df412c\" class=\"sk-toggleable__label sk-toggleable__label-arrow\">MinMaxScaler</label><div class=\"sk-toggleable__content\"><pre>MinMaxScaler()</pre></div></div></div></div></div></div></div></div><div class=\"sk-parallel-item\"><div class=\"sk-item\"><div class=\"sk-label-container\"><div class=\"sk-label sk-toggleable\"><input class=\"sk-toggleable__control sk-hidden--visually\" id=\"2768bfb9-939e-4963-9f88-5bda29669450\" type=\"checkbox\" ><label for=\"2768bfb9-939e-4963-9f88-5bda29669450\" class=\"sk-toggleable__label sk-toggleable__label-arrow\">num_pipeline_new</label><div class=\"sk-toggleable__content\"><pre>[&#x27;Pclass&#x27;, &#x27;SibSp&#x27;, &#x27;Parch&#x27;]</pre></div></div></div><div class=\"sk-serial\"><div class=\"sk-item\"><div class=\"sk-serial\"><div class=\"sk-item\"><div class=\"sk-estimator sk-toggleable\"><input class=\"sk-toggleable__control sk-hidden--visually\" id=\"c11d8f0d-d40c-49b3-914f-7c356b0bd9ef\" type=\"checkbox\" ><label for=\"c11d8f0d-d40c-49b3-914f-7c356b0bd9ef\" class=\"sk-toggleable__label sk-toggleable__label-arrow\">SimpleImputer</label><div class=\"sk-toggleable__content\"><pre>SimpleImputer(strategy=&#x27;most_frequent&#x27;)</pre></div></div></div></div></div></div></div></div><div class=\"sk-parallel-item\"><div class=\"sk-item\"><div class=\"sk-label-container\"><div class=\"sk-label sk-toggleable\"><input class=\"sk-toggleable__control sk-hidden--visually\" id=\"85b4bbdc-0123-43a7-b8f6-59e6ca08cffd\" type=\"checkbox\" ><label for=\"85b4bbdc-0123-43a7-b8f6-59e6ca08cffd\" class=\"sk-toggleable__label sk-toggleable__label-arrow\">cat_pipeline</label><div class=\"sk-toggleable__content\"><pre>[&#x27;Sex&#x27;]</pre></div></div></div><div class=\"sk-serial\"><div class=\"sk-item\"><div class=\"sk-serial\"><div class=\"sk-item\"><div class=\"sk-estimator sk-toggleable\"><input class=\"sk-toggleable__control sk-hidden--visually\" id=\"e237b709-b20d-494b-b5ae-32b9cd076c34\" type=\"checkbox\" ><label for=\"e237b709-b20d-494b-b5ae-32b9cd076c34\" class=\"sk-toggleable__label sk-toggleable__label-arrow\">SimpleImputer</label><div class=\"sk-toggleable__content\"><pre>SimpleImputer(strategy=&#x27;most_frequent&#x27;)</pre></div></div></div><div class=\"sk-item\"><div class=\"sk-estimator sk-toggleable\"><input class=\"sk-toggleable__control sk-hidden--visually\" id=\"89e1cbbe-8991-4e94-af14-c943fb172292\" type=\"checkbox\" ><label for=\"89e1cbbe-8991-4e94-af14-c943fb172292\" class=\"sk-toggleable__label sk-toggleable__label-arrow\">OneHotEncoder</label><div class=\"sk-toggleable__content\"><pre>OneHotEncoder(handle_unknown=&#x27;ignore&#x27;, sparse=False)</pre></div></div></div></div></div></div></div></div></div></div><div class=\"sk-item\"><div class=\"sk-estimator sk-toggleable\"><input class=\"sk-toggleable__control sk-hidden--visually\" id=\"58175954-91f4-4331-b88f-d639487790f4\" type=\"checkbox\" ><label for=\"58175954-91f4-4331-b88f-d639487790f4\" class=\"sk-toggleable__label sk-toggleable__label-arrow\">LogisticRegression</label><div class=\"sk-toggleable__content\"><pre>LogisticRegression(random_state=42)</pre></div></div></div></div></div></div></div>"
      ],
      "text/plain": [
       "Pipeline(steps=[('col_trans',\n",
       "                 ColumnTransformer(n_jobs=-1,\n",
       "                                   transformers=[('num_pipeline',\n",
       "                                                  Pipeline(steps=[('impute',\n",
       "                                                                   SimpleImputer()),\n",
       "                                                                  ('min_max_scale',\n",
       "                                                                   MinMaxScaler())]),\n",
       "                                                  ['Age', 'Fare']),\n",
       "                                                 ('num_pipeline_new',\n",
       "                                                  Pipeline(steps=[('impute2',\n",
       "                                                                   SimpleImputer(strategy='most_frequent'))]),\n",
       "                                                  ['Pclass', 'SibSp', 'Parch']),\n",
       "                                                 ('cat_pipeline',\n",
       "                                                  Pipeline(steps=[('impute',\n",
       "                                                                   SimpleImputer(strategy='most_frequent')),\n",
       "                                                                  ('one_hot',\n",
       "                                                                   OneHotEncoder(handle_unknown='ignore',\n",
       "                                                                                 sparse=False))]),\n",
       "                                                  ['Sex'])])),\n",
       "                ('model', LogisticRegression(random_state=42))])"
      ]
     },
     "execution_count": 29,
     "metadata": {},
     "output_type": "execute_result"
    }
   ],
   "source": [
    "#load the pipeline to use whenever needed\n",
    "joblib.load('pipe.joblib')"
   ]
  },
  {
   "cell_type": "code",
   "execution_count": 30,
   "id": "fccd5a31",
   "metadata": {
    "execution": {
     "iopub.execute_input": "2023-10-16T19:58:03.567406Z",
     "iopub.status.busy": "2023-10-16T19:58:03.565983Z",
     "iopub.status.idle": "2023-10-16T19:58:03.589936Z",
     "shell.execute_reply": "2023-10-16T19:58:03.588487Z"
    },
    "papermill": {
     "duration": 0.040419,
     "end_time": "2023-10-16T19:58:03.592082",
     "exception": false,
     "start_time": "2023-10-16T19:58:03.551663",
     "status": "completed"
    },
    "tags": []
   },
   "outputs": [
    {
     "data": {
      "text/plain": [
       "{'memory': None,\n",
       " 'steps': [('col_trans', ColumnTransformer(n_jobs=-1,\n",
       "                     transformers=[('num_pipeline',\n",
       "                                    Pipeline(steps=[('impute', SimpleImputer()),\n",
       "                                                    ('min_max_scale',\n",
       "                                                     MinMaxScaler())]),\n",
       "                                    ['Age', 'Fare']),\n",
       "                                   ('num_pipeline_new',\n",
       "                                    Pipeline(steps=[('impute2',\n",
       "                                                     SimpleImputer(strategy='most_frequent'))]),\n",
       "                                    ['Pclass', 'SibSp', 'Parch']),\n",
       "                                   ('cat_pipeline',\n",
       "                                    Pipeline(steps=[('impute',\n",
       "                                                     SimpleImputer(strategy='most_frequent')),\n",
       "                                                    ('one_hot',\n",
       "                                                     OneHotEncoder(handle_unknown='ignore',\n",
       "                                                                   sparse=False))]),\n",
       "                                    ['Sex'])])),\n",
       "  ('model', LogisticRegression(random_state=42))],\n",
       " 'verbose': False,\n",
       " 'col_trans': ColumnTransformer(n_jobs=-1,\n",
       "                   transformers=[('num_pipeline',\n",
       "                                  Pipeline(steps=[('impute', SimpleImputer()),\n",
       "                                                  ('min_max_scale',\n",
       "                                                   MinMaxScaler())]),\n",
       "                                  ['Age', 'Fare']),\n",
       "                                 ('num_pipeline_new',\n",
       "                                  Pipeline(steps=[('impute2',\n",
       "                                                   SimpleImputer(strategy='most_frequent'))]),\n",
       "                                  ['Pclass', 'SibSp', 'Parch']),\n",
       "                                 ('cat_pipeline',\n",
       "                                  Pipeline(steps=[('impute',\n",
       "                                                   SimpleImputer(strategy='most_frequent')),\n",
       "                                                  ('one_hot',\n",
       "                                                   OneHotEncoder(handle_unknown='ignore',\n",
       "                                                                 sparse=False))]),\n",
       "                                  ['Sex'])]),\n",
       " 'model': LogisticRegression(random_state=42),\n",
       " 'col_trans__n_jobs': -1,\n",
       " 'col_trans__remainder': 'drop',\n",
       " 'col_trans__sparse_threshold': 0.3,\n",
       " 'col_trans__transformer_weights': None,\n",
       " 'col_trans__transformers': [('num_pipeline',\n",
       "   Pipeline(steps=[('impute', SimpleImputer()), ('min_max_scale', MinMaxScaler())]),\n",
       "   ['Age', 'Fare']),\n",
       "  ('num_pipeline_new',\n",
       "   Pipeline(steps=[('impute2', SimpleImputer(strategy='most_frequent'))]),\n",
       "   ['Pclass', 'SibSp', 'Parch']),\n",
       "  ('cat_pipeline',\n",
       "   Pipeline(steps=[('impute', SimpleImputer(strategy='most_frequent')),\n",
       "                   ('one_hot',\n",
       "                    OneHotEncoder(handle_unknown='ignore', sparse=False))]),\n",
       "   ['Sex'])],\n",
       " 'col_trans__verbose': False,\n",
       " 'col_trans__verbose_feature_names_out': True,\n",
       " 'col_trans__num_pipeline': Pipeline(steps=[('impute', SimpleImputer()), ('min_max_scale', MinMaxScaler())]),\n",
       " 'col_trans__num_pipeline_new': Pipeline(steps=[('impute2', SimpleImputer(strategy='most_frequent'))]),\n",
       " 'col_trans__cat_pipeline': Pipeline(steps=[('impute', SimpleImputer(strategy='most_frequent')),\n",
       "                 ('one_hot',\n",
       "                  OneHotEncoder(handle_unknown='ignore', sparse=False))]),\n",
       " 'col_trans__num_pipeline__memory': None,\n",
       " 'col_trans__num_pipeline__steps': [('impute', SimpleImputer()),\n",
       "  ('min_max_scale', MinMaxScaler())],\n",
       " 'col_trans__num_pipeline__verbose': False,\n",
       " 'col_trans__num_pipeline__impute': SimpleImputer(),\n",
       " 'col_trans__num_pipeline__min_max_scale': MinMaxScaler(),\n",
       " 'col_trans__num_pipeline__impute__add_indicator': False,\n",
       " 'col_trans__num_pipeline__impute__copy': True,\n",
       " 'col_trans__num_pipeline__impute__fill_value': None,\n",
       " 'col_trans__num_pipeline__impute__missing_values': nan,\n",
       " 'col_trans__num_pipeline__impute__strategy': 'mean',\n",
       " 'col_trans__num_pipeline__impute__verbose': 0,\n",
       " 'col_trans__num_pipeline__min_max_scale__clip': False,\n",
       " 'col_trans__num_pipeline__min_max_scale__copy': True,\n",
       " 'col_trans__num_pipeline__min_max_scale__feature_range': (0, 1),\n",
       " 'col_trans__num_pipeline_new__memory': None,\n",
       " 'col_trans__num_pipeline_new__steps': [('impute2',\n",
       "   SimpleImputer(strategy='most_frequent'))],\n",
       " 'col_trans__num_pipeline_new__verbose': False,\n",
       " 'col_trans__num_pipeline_new__impute2': SimpleImputer(strategy='most_frequent'),\n",
       " 'col_trans__num_pipeline_new__impute2__add_indicator': False,\n",
       " 'col_trans__num_pipeline_new__impute2__copy': True,\n",
       " 'col_trans__num_pipeline_new__impute2__fill_value': None,\n",
       " 'col_trans__num_pipeline_new__impute2__missing_values': nan,\n",
       " 'col_trans__num_pipeline_new__impute2__strategy': 'most_frequent',\n",
       " 'col_trans__num_pipeline_new__impute2__verbose': 0,\n",
       " 'col_trans__cat_pipeline__memory': None,\n",
       " 'col_trans__cat_pipeline__steps': [('impute',\n",
       "   SimpleImputer(strategy='most_frequent')),\n",
       "  ('one_hot', OneHotEncoder(handle_unknown='ignore', sparse=False))],\n",
       " 'col_trans__cat_pipeline__verbose': False,\n",
       " 'col_trans__cat_pipeline__impute': SimpleImputer(strategy='most_frequent'),\n",
       " 'col_trans__cat_pipeline__one_hot': OneHotEncoder(handle_unknown='ignore', sparse=False),\n",
       " 'col_trans__cat_pipeline__impute__add_indicator': False,\n",
       " 'col_trans__cat_pipeline__impute__copy': True,\n",
       " 'col_trans__cat_pipeline__impute__fill_value': None,\n",
       " 'col_trans__cat_pipeline__impute__missing_values': nan,\n",
       " 'col_trans__cat_pipeline__impute__strategy': 'most_frequent',\n",
       " 'col_trans__cat_pipeline__impute__verbose': 0,\n",
       " 'col_trans__cat_pipeline__one_hot__categories': 'auto',\n",
       " 'col_trans__cat_pipeline__one_hot__drop': None,\n",
       " 'col_trans__cat_pipeline__one_hot__dtype': numpy.float64,\n",
       " 'col_trans__cat_pipeline__one_hot__handle_unknown': 'ignore',\n",
       " 'col_trans__cat_pipeline__one_hot__sparse': False,\n",
       " 'model__C': 1.0,\n",
       " 'model__class_weight': None,\n",
       " 'model__dual': False,\n",
       " 'model__fit_intercept': True,\n",
       " 'model__intercept_scaling': 1,\n",
       " 'model__l1_ratio': None,\n",
       " 'model__max_iter': 100,\n",
       " 'model__multi_class': 'auto',\n",
       " 'model__n_jobs': None,\n",
       " 'model__penalty': 'l2',\n",
       " 'model__random_state': 42,\n",
       " 'model__solver': 'lbfgs',\n",
       " 'model__tol': 0.0001,\n",
       " 'model__verbose': 0,\n",
       " 'model__warm_start': False}"
      ]
     },
     "execution_count": 30,
     "metadata": {},
     "output_type": "execute_result"
    }
   ],
   "source": [
    "clf_pipeline.get_params()"
   ]
  },
  {
   "cell_type": "markdown",
   "id": "c2b9c27d",
   "metadata": {
    "papermill": {
     "duration": 0.012165,
     "end_time": "2023-10-16T19:58:03.617397",
     "exception": false,
     "start_time": "2023-10-16T19:58:03.605232",
     "status": "completed"
    },
    "tags": []
   },
   "source": [
    "**we can improve our accuracy by hyperparameter tuning and adding functions in pipeline or skipping some steps in it**"
   ]
  },
  {
   "cell_type": "code",
   "execution_count": 31,
   "id": "407fb792",
   "metadata": {
    "execution": {
     "iopub.execute_input": "2023-10-16T19:58:03.642994Z",
     "iopub.status.busy": "2023-10-16T19:58:03.642642Z",
     "iopub.status.idle": "2023-10-16T19:58:03.647282Z",
     "shell.execute_reply": "2023-10-16T19:58:03.646350Z"
    },
    "papermill": {
     "duration": 0.02009,
     "end_time": "2023-10-16T19:58:03.649644",
     "exception": false,
     "start_time": "2023-10-16T19:58:03.629554",
     "status": "completed"
    },
    "tags": []
   },
   "outputs": [],
   "source": [
    "# below is tuning parameter\n",
    "# l1--> Lasso Regression, l2--> Ridge Regression\n",
    "grid_params={'model__penalty': ['none','l2','l1'],\n",
    "             'model__C':np.logspace(-4,4,20)               \n",
    "}"
   ]
  },
  {
   "cell_type": "code",
   "execution_count": 33,
   "id": "65b03ad2",
   "metadata": {
    "execution": {
     "iopub.execute_input": "2023-10-16T19:58:03.675445Z",
     "iopub.status.busy": "2023-10-16T19:58:03.675072Z",
     "iopub.status.idle": "2023-10-16T19:58:21.835948Z",
     "shell.execute_reply": "2023-10-16T19:58:21.834146Z"
    },
    "papermill": {
     "duration": 18.176013,
     "end_time": "2023-10-16T19:58:21.837922",
     "exception": false,
     "start_time": "2023-10-16T19:58:03.661909",
     "status": "completed"
    },
    "tags": []
   },
   "outputs": [
    {
     "name": "stderr",
     "output_type": "stream",
     "text": [
      "C:\\Users\\DIVYA CHITRANSH\\anaconda3\\lib\\site-packages\\sklearn\\linear_model\\_logistic.py:1483: UserWarning: Setting penalty='none' will ignore the C and l1_ratio parameters\n",
      "  warnings.warn(\n",
      "C:\\Users\\DIVYA CHITRANSH\\anaconda3\\lib\\site-packages\\sklearn\\linear_model\\_logistic.py:1483: UserWarning: Setting penalty='none' will ignore the C and l1_ratio parameters\n",
      "  warnings.warn(\n",
      "C:\\Users\\DIVYA CHITRANSH\\anaconda3\\lib\\site-packages\\sklearn\\linear_model\\_logistic.py:1483: UserWarning: Setting penalty='none' will ignore the C and l1_ratio parameters\n",
      "  warnings.warn(\n",
      "C:\\Users\\DIVYA CHITRANSH\\anaconda3\\lib\\site-packages\\sklearn\\linear_model\\_logistic.py:1483: UserWarning: Setting penalty='none' will ignore the C and l1_ratio parameters\n",
      "  warnings.warn(\n",
      "C:\\Users\\DIVYA CHITRANSH\\anaconda3\\lib\\site-packages\\sklearn\\linear_model\\_logistic.py:1483: UserWarning: Setting penalty='none' will ignore the C and l1_ratio parameters\n",
      "  warnings.warn(\n",
      "C:\\Users\\DIVYA CHITRANSH\\anaconda3\\lib\\site-packages\\sklearn\\linear_model\\_logistic.py:1483: UserWarning: Setting penalty='none' will ignore the C and l1_ratio parameters\n",
      "  warnings.warn(\n",
      "C:\\Users\\DIVYA CHITRANSH\\anaconda3\\lib\\site-packages\\sklearn\\linear_model\\_logistic.py:1483: UserWarning: Setting penalty='none' will ignore the C and l1_ratio parameters\n",
      "  warnings.warn(\n",
      "C:\\Users\\DIVYA CHITRANSH\\anaconda3\\lib\\site-packages\\sklearn\\linear_model\\_logistic.py:1483: UserWarning: Setting penalty='none' will ignore the C and l1_ratio parameters\n",
      "  warnings.warn(\n",
      "C:\\Users\\DIVYA CHITRANSH\\anaconda3\\lib\\site-packages\\sklearn\\linear_model\\_logistic.py:1483: UserWarning: Setting penalty='none' will ignore the C and l1_ratio parameters\n",
      "  warnings.warn(\n",
      "C:\\Users\\DIVYA CHITRANSH\\anaconda3\\lib\\site-packages\\sklearn\\linear_model\\_logistic.py:1483: UserWarning: Setting penalty='none' will ignore the C and l1_ratio parameters\n",
      "  warnings.warn(\n",
      "C:\\Users\\DIVYA CHITRANSH\\anaconda3\\lib\\site-packages\\sklearn\\linear_model\\_logistic.py:1483: UserWarning: Setting penalty='none' will ignore the C and l1_ratio parameters\n",
      "  warnings.warn(\n",
      "C:\\Users\\DIVYA CHITRANSH\\anaconda3\\lib\\site-packages\\sklearn\\linear_model\\_logistic.py:1483: UserWarning: Setting penalty='none' will ignore the C and l1_ratio parameters\n",
      "  warnings.warn(\n",
      "C:\\Users\\DIVYA CHITRANSH\\anaconda3\\lib\\site-packages\\sklearn\\linear_model\\_logistic.py:1483: UserWarning: Setting penalty='none' will ignore the C and l1_ratio parameters\n",
      "  warnings.warn(\n",
      "C:\\Users\\DIVYA CHITRANSH\\anaconda3\\lib\\site-packages\\sklearn\\linear_model\\_logistic.py:1483: UserWarning: Setting penalty='none' will ignore the C and l1_ratio parameters\n",
      "  warnings.warn(\n",
      "C:\\Users\\DIVYA CHITRANSH\\anaconda3\\lib\\site-packages\\sklearn\\linear_model\\_logistic.py:1483: UserWarning: Setting penalty='none' will ignore the C and l1_ratio parameters\n",
      "  warnings.warn(\n",
      "C:\\Users\\DIVYA CHITRANSH\\anaconda3\\lib\\site-packages\\sklearn\\linear_model\\_logistic.py:1483: UserWarning: Setting penalty='none' will ignore the C and l1_ratio parameters\n",
      "  warnings.warn(\n",
      "C:\\Users\\DIVYA CHITRANSH\\anaconda3\\lib\\site-packages\\sklearn\\linear_model\\_logistic.py:1483: UserWarning: Setting penalty='none' will ignore the C and l1_ratio parameters\n",
      "  warnings.warn(\n",
      "C:\\Users\\DIVYA CHITRANSH\\anaconda3\\lib\\site-packages\\sklearn\\linear_model\\_logistic.py:1483: UserWarning: Setting penalty='none' will ignore the C and l1_ratio parameters\n",
      "  warnings.warn(\n",
      "C:\\Users\\DIVYA CHITRANSH\\anaconda3\\lib\\site-packages\\sklearn\\linear_model\\_logistic.py:1483: UserWarning: Setting penalty='none' will ignore the C and l1_ratio parameters\n",
      "  warnings.warn(\n",
      "C:\\Users\\DIVYA CHITRANSH\\anaconda3\\lib\\site-packages\\sklearn\\linear_model\\_logistic.py:1483: UserWarning: Setting penalty='none' will ignore the C and l1_ratio parameters\n",
      "  warnings.warn(\n",
      "C:\\Users\\DIVYA CHITRANSH\\anaconda3\\lib\\site-packages\\sklearn\\linear_model\\_logistic.py:1483: UserWarning: Setting penalty='none' will ignore the C and l1_ratio parameters\n",
      "  warnings.warn(\n",
      "C:\\Users\\DIVYA CHITRANSH\\anaconda3\\lib\\site-packages\\sklearn\\linear_model\\_logistic.py:1483: UserWarning: Setting penalty='none' will ignore the C and l1_ratio parameters\n",
      "  warnings.warn(\n",
      "C:\\Users\\DIVYA CHITRANSH\\anaconda3\\lib\\site-packages\\sklearn\\linear_model\\_logistic.py:1483: UserWarning: Setting penalty='none' will ignore the C and l1_ratio parameters\n",
      "  warnings.warn(\n",
      "C:\\Users\\DIVYA CHITRANSH\\anaconda3\\lib\\site-packages\\sklearn\\linear_model\\_logistic.py:1483: UserWarning: Setting penalty='none' will ignore the C and l1_ratio parameters\n",
      "  warnings.warn(\n",
      "C:\\Users\\DIVYA CHITRANSH\\anaconda3\\lib\\site-packages\\sklearn\\linear_model\\_logistic.py:1483: UserWarning: Setting penalty='none' will ignore the C and l1_ratio parameters\n",
      "  warnings.warn(\n",
      "C:\\Users\\DIVYA CHITRANSH\\anaconda3\\lib\\site-packages\\sklearn\\linear_model\\_logistic.py:1483: UserWarning: Setting penalty='none' will ignore the C and l1_ratio parameters\n",
      "  warnings.warn(\n",
      "C:\\Users\\DIVYA CHITRANSH\\anaconda3\\lib\\site-packages\\sklearn\\linear_model\\_logistic.py:1483: UserWarning: Setting penalty='none' will ignore the C and l1_ratio parameters\n",
      "  warnings.warn(\n",
      "C:\\Users\\DIVYA CHITRANSH\\anaconda3\\lib\\site-packages\\sklearn\\linear_model\\_logistic.py:1483: UserWarning: Setting penalty='none' will ignore the C and l1_ratio parameters\n",
      "  warnings.warn(\n",
      "C:\\Users\\DIVYA CHITRANSH\\anaconda3\\lib\\site-packages\\sklearn\\linear_model\\_logistic.py:1483: UserWarning: Setting penalty='none' will ignore the C and l1_ratio parameters\n",
      "  warnings.warn(\n",
      "C:\\Users\\DIVYA CHITRANSH\\anaconda3\\lib\\site-packages\\sklearn\\linear_model\\_logistic.py:1483: UserWarning: Setting penalty='none' will ignore the C and l1_ratio parameters\n",
      "  warnings.warn(\n",
      "C:\\Users\\DIVYA CHITRANSH\\anaconda3\\lib\\site-packages\\sklearn\\linear_model\\_logistic.py:1483: UserWarning: Setting penalty='none' will ignore the C and l1_ratio parameters\n",
      "  warnings.warn(\n",
      "C:\\Users\\DIVYA CHITRANSH\\anaconda3\\lib\\site-packages\\sklearn\\linear_model\\_logistic.py:1483: UserWarning: Setting penalty='none' will ignore the C and l1_ratio parameters\n",
      "  warnings.warn(\n",
      "C:\\Users\\DIVYA CHITRANSH\\anaconda3\\lib\\site-packages\\sklearn\\linear_model\\_logistic.py:1483: UserWarning: Setting penalty='none' will ignore the C and l1_ratio parameters\n",
      "  warnings.warn(\n",
      "C:\\Users\\DIVYA CHITRANSH\\anaconda3\\lib\\site-packages\\sklearn\\linear_model\\_logistic.py:1483: UserWarning: Setting penalty='none' will ignore the C and l1_ratio parameters\n",
      "  warnings.warn(\n",
      "C:\\Users\\DIVYA CHITRANSH\\anaconda3\\lib\\site-packages\\sklearn\\linear_model\\_logistic.py:1483: UserWarning: Setting penalty='none' will ignore the C and l1_ratio parameters\n",
      "  warnings.warn(\n",
      "C:\\Users\\DIVYA CHITRANSH\\anaconda3\\lib\\site-packages\\sklearn\\linear_model\\_logistic.py:1483: UserWarning: Setting penalty='none' will ignore the C and l1_ratio parameters\n",
      "  warnings.warn(\n",
      "C:\\Users\\DIVYA CHITRANSH\\anaconda3\\lib\\site-packages\\sklearn\\linear_model\\_logistic.py:1483: UserWarning: Setting penalty='none' will ignore the C and l1_ratio parameters\n",
      "  warnings.warn(\n",
      "C:\\Users\\DIVYA CHITRANSH\\anaconda3\\lib\\site-packages\\sklearn\\linear_model\\_logistic.py:1483: UserWarning: Setting penalty='none' will ignore the C and l1_ratio parameters\n",
      "  warnings.warn(\n",
      "C:\\Users\\DIVYA CHITRANSH\\anaconda3\\lib\\site-packages\\sklearn\\linear_model\\_logistic.py:1483: UserWarning: Setting penalty='none' will ignore the C and l1_ratio parameters\n",
      "  warnings.warn(\n",
      "C:\\Users\\DIVYA CHITRANSH\\anaconda3\\lib\\site-packages\\sklearn\\linear_model\\_logistic.py:1483: UserWarning: Setting penalty='none' will ignore the C and l1_ratio parameters\n",
      "  warnings.warn(\n",
      "C:\\Users\\DIVYA CHITRANSH\\anaconda3\\lib\\site-packages\\sklearn\\linear_model\\_logistic.py:1483: UserWarning: Setting penalty='none' will ignore the C and l1_ratio parameters\n",
      "  warnings.warn(\n",
      "C:\\Users\\DIVYA CHITRANSH\\anaconda3\\lib\\site-packages\\sklearn\\linear_model\\_logistic.py:1483: UserWarning: Setting penalty='none' will ignore the C and l1_ratio parameters\n",
      "  warnings.warn(\n",
      "C:\\Users\\DIVYA CHITRANSH\\anaconda3\\lib\\site-packages\\sklearn\\linear_model\\_logistic.py:1483: UserWarning: Setting penalty='none' will ignore the C and l1_ratio parameters\n",
      "  warnings.warn(\n",
      "C:\\Users\\DIVYA CHITRANSH\\anaconda3\\lib\\site-packages\\sklearn\\linear_model\\_logistic.py:1483: UserWarning: Setting penalty='none' will ignore the C and l1_ratio parameters\n",
      "  warnings.warn(\n",
      "C:\\Users\\DIVYA CHITRANSH\\anaconda3\\lib\\site-packages\\sklearn\\linear_model\\_logistic.py:1483: UserWarning: Setting penalty='none' will ignore the C and l1_ratio parameters\n",
      "  warnings.warn(\n",
      "C:\\Users\\DIVYA CHITRANSH\\anaconda3\\lib\\site-packages\\sklearn\\linear_model\\_logistic.py:1483: UserWarning: Setting penalty='none' will ignore the C and l1_ratio parameters\n",
      "  warnings.warn(\n",
      "C:\\Users\\DIVYA CHITRANSH\\anaconda3\\lib\\site-packages\\sklearn\\linear_model\\_logistic.py:1483: UserWarning: Setting penalty='none' will ignore the C and l1_ratio parameters\n",
      "  warnings.warn(\n",
      "C:\\Users\\DIVYA CHITRANSH\\anaconda3\\lib\\site-packages\\sklearn\\linear_model\\_logistic.py:1483: UserWarning: Setting penalty='none' will ignore the C and l1_ratio parameters\n",
      "  warnings.warn(\n",
      "C:\\Users\\DIVYA CHITRANSH\\anaconda3\\lib\\site-packages\\sklearn\\linear_model\\_logistic.py:1483: UserWarning: Setting penalty='none' will ignore the C and l1_ratio parameters\n",
      "  warnings.warn(\n",
      "C:\\Users\\DIVYA CHITRANSH\\anaconda3\\lib\\site-packages\\sklearn\\linear_model\\_logistic.py:1483: UserWarning: Setting penalty='none' will ignore the C and l1_ratio parameters\n",
      "  warnings.warn(\n",
      "C:\\Users\\DIVYA CHITRANSH\\anaconda3\\lib\\site-packages\\sklearn\\linear_model\\_logistic.py:1483: UserWarning: Setting penalty='none' will ignore the C and l1_ratio parameters\n",
      "  warnings.warn(\n",
      "C:\\Users\\DIVYA CHITRANSH\\anaconda3\\lib\\site-packages\\sklearn\\linear_model\\_logistic.py:1483: UserWarning: Setting penalty='none' will ignore the C and l1_ratio parameters\n",
      "  warnings.warn(\n",
      "C:\\Users\\DIVYA CHITRANSH\\anaconda3\\lib\\site-packages\\sklearn\\linear_model\\_logistic.py:1483: UserWarning: Setting penalty='none' will ignore the C and l1_ratio parameters\n",
      "  warnings.warn(\n",
      "C:\\Users\\DIVYA CHITRANSH\\anaconda3\\lib\\site-packages\\sklearn\\linear_model\\_logistic.py:1483: UserWarning: Setting penalty='none' will ignore the C and l1_ratio parameters\n",
      "  warnings.warn(\n",
      "C:\\Users\\DIVYA CHITRANSH\\anaconda3\\lib\\site-packages\\sklearn\\linear_model\\_logistic.py:1483: UserWarning: Setting penalty='none' will ignore the C and l1_ratio parameters\n",
      "  warnings.warn(\n",
      "C:\\Users\\DIVYA CHITRANSH\\anaconda3\\lib\\site-packages\\sklearn\\linear_model\\_logistic.py:1483: UserWarning: Setting penalty='none' will ignore the C and l1_ratio parameters\n",
      "  warnings.warn(\n",
      "C:\\Users\\DIVYA CHITRANSH\\anaconda3\\lib\\site-packages\\sklearn\\linear_model\\_logistic.py:1483: UserWarning: Setting penalty='none' will ignore the C and l1_ratio parameters\n",
      "  warnings.warn(\n",
      "C:\\Users\\DIVYA CHITRANSH\\anaconda3\\lib\\site-packages\\sklearn\\linear_model\\_logistic.py:1483: UserWarning: Setting penalty='none' will ignore the C and l1_ratio parameters\n",
      "  warnings.warn(\n",
      "C:\\Users\\DIVYA CHITRANSH\\anaconda3\\lib\\site-packages\\sklearn\\linear_model\\_logistic.py:1483: UserWarning: Setting penalty='none' will ignore the C and l1_ratio parameters\n",
      "  warnings.warn(\n",
      "C:\\Users\\DIVYA CHITRANSH\\anaconda3\\lib\\site-packages\\sklearn\\linear_model\\_logistic.py:1483: UserWarning: Setting penalty='none' will ignore the C and l1_ratio parameters\n",
      "  warnings.warn(\n",
      "C:\\Users\\DIVYA CHITRANSH\\anaconda3\\lib\\site-packages\\sklearn\\linear_model\\_logistic.py:1483: UserWarning: Setting penalty='none' will ignore the C and l1_ratio parameters\n",
      "  warnings.warn(\n",
      "C:\\Users\\DIVYA CHITRANSH\\anaconda3\\lib\\site-packages\\sklearn\\linear_model\\_logistic.py:1483: UserWarning: Setting penalty='none' will ignore the C and l1_ratio parameters\n",
      "  warnings.warn(\n",
      "C:\\Users\\DIVYA CHITRANSH\\anaconda3\\lib\\site-packages\\sklearn\\linear_model\\_logistic.py:1483: UserWarning: Setting penalty='none' will ignore the C and l1_ratio parameters\n",
      "  warnings.warn(\n",
      "C:\\Users\\DIVYA CHITRANSH\\anaconda3\\lib\\site-packages\\sklearn\\linear_model\\_logistic.py:1483: UserWarning: Setting penalty='none' will ignore the C and l1_ratio parameters\n",
      "  warnings.warn(\n",
      "C:\\Users\\DIVYA CHITRANSH\\anaconda3\\lib\\site-packages\\sklearn\\linear_model\\_logistic.py:1483: UserWarning: Setting penalty='none' will ignore the C and l1_ratio parameters\n",
      "  warnings.warn(\n",
      "C:\\Users\\DIVYA CHITRANSH\\anaconda3\\lib\\site-packages\\sklearn\\linear_model\\_logistic.py:1483: UserWarning: Setting penalty='none' will ignore the C and l1_ratio parameters\n",
      "  warnings.warn(\n",
      "C:\\Users\\DIVYA CHITRANSH\\anaconda3\\lib\\site-packages\\sklearn\\linear_model\\_logistic.py:1483: UserWarning: Setting penalty='none' will ignore the C and l1_ratio parameters\n",
      "  warnings.warn(\n",
      "C:\\Users\\DIVYA CHITRANSH\\anaconda3\\lib\\site-packages\\sklearn\\linear_model\\_logistic.py:1483: UserWarning: Setting penalty='none' will ignore the C and l1_ratio parameters\n",
      "  warnings.warn(\n",
      "C:\\Users\\DIVYA CHITRANSH\\anaconda3\\lib\\site-packages\\sklearn\\linear_model\\_logistic.py:1483: UserWarning: Setting penalty='none' will ignore the C and l1_ratio parameters\n",
      "  warnings.warn(\n",
      "C:\\Users\\DIVYA CHITRANSH\\anaconda3\\lib\\site-packages\\sklearn\\linear_model\\_logistic.py:1483: UserWarning: Setting penalty='none' will ignore the C and l1_ratio parameters\n",
      "  warnings.warn(\n",
      "C:\\Users\\DIVYA CHITRANSH\\anaconda3\\lib\\site-packages\\sklearn\\linear_model\\_logistic.py:1483: UserWarning: Setting penalty='none' will ignore the C and l1_ratio parameters\n",
      "  warnings.warn(\n",
      "C:\\Users\\DIVYA CHITRANSH\\anaconda3\\lib\\site-packages\\sklearn\\linear_model\\_logistic.py:1483: UserWarning: Setting penalty='none' will ignore the C and l1_ratio parameters\n",
      "  warnings.warn(\n",
      "C:\\Users\\DIVYA CHITRANSH\\anaconda3\\lib\\site-packages\\sklearn\\linear_model\\_logistic.py:1483: UserWarning: Setting penalty='none' will ignore the C and l1_ratio parameters\n",
      "  warnings.warn(\n",
      "C:\\Users\\DIVYA CHITRANSH\\anaconda3\\lib\\site-packages\\sklearn\\linear_model\\_logistic.py:1483: UserWarning: Setting penalty='none' will ignore the C and l1_ratio parameters\n",
      "  warnings.warn(\n",
      "C:\\Users\\DIVYA CHITRANSH\\anaconda3\\lib\\site-packages\\sklearn\\linear_model\\_logistic.py:1483: UserWarning: Setting penalty='none' will ignore the C and l1_ratio parameters\n",
      "  warnings.warn(\n",
      "C:\\Users\\DIVYA CHITRANSH\\anaconda3\\lib\\site-packages\\sklearn\\linear_model\\_logistic.py:1483: UserWarning: Setting penalty='none' will ignore the C and l1_ratio parameters\n",
      "  warnings.warn(\n",
      "C:\\Users\\DIVYA CHITRANSH\\anaconda3\\lib\\site-packages\\sklearn\\linear_model\\_logistic.py:1483: UserWarning: Setting penalty='none' will ignore the C and l1_ratio parameters\n",
      "  warnings.warn(\n",
      "C:\\Users\\DIVYA CHITRANSH\\anaconda3\\lib\\site-packages\\sklearn\\linear_model\\_logistic.py:1483: UserWarning: Setting penalty='none' will ignore the C and l1_ratio parameters\n",
      "  warnings.warn(\n",
      "C:\\Users\\DIVYA CHITRANSH\\anaconda3\\lib\\site-packages\\sklearn\\linear_model\\_logistic.py:1483: UserWarning: Setting penalty='none' will ignore the C and l1_ratio parameters\n",
      "  warnings.warn(\n",
      "C:\\Users\\DIVYA CHITRANSH\\anaconda3\\lib\\site-packages\\sklearn\\linear_model\\_logistic.py:1483: UserWarning: Setting penalty='none' will ignore the C and l1_ratio parameters\n",
      "  warnings.warn(\n",
      "C:\\Users\\DIVYA CHITRANSH\\anaconda3\\lib\\site-packages\\sklearn\\linear_model\\_logistic.py:1483: UserWarning: Setting penalty='none' will ignore the C and l1_ratio parameters\n",
      "  warnings.warn(\n",
      "C:\\Users\\DIVYA CHITRANSH\\anaconda3\\lib\\site-packages\\sklearn\\linear_model\\_logistic.py:1483: UserWarning: Setting penalty='none' will ignore the C and l1_ratio parameters\n",
      "  warnings.warn(\n",
      "C:\\Users\\DIVYA CHITRANSH\\anaconda3\\lib\\site-packages\\sklearn\\linear_model\\_logistic.py:1483: UserWarning: Setting penalty='none' will ignore the C and l1_ratio parameters\n",
      "  warnings.warn(\n",
      "C:\\Users\\DIVYA CHITRANSH\\anaconda3\\lib\\site-packages\\sklearn\\linear_model\\_logistic.py:1483: UserWarning: Setting penalty='none' will ignore the C and l1_ratio parameters\n",
      "  warnings.warn(\n",
      "C:\\Users\\DIVYA CHITRANSH\\anaconda3\\lib\\site-packages\\sklearn\\linear_model\\_logistic.py:1483: UserWarning: Setting penalty='none' will ignore the C and l1_ratio parameters\n",
      "  warnings.warn(\n",
      "C:\\Users\\DIVYA CHITRANSH\\anaconda3\\lib\\site-packages\\sklearn\\linear_model\\_logistic.py:1483: UserWarning: Setting penalty='none' will ignore the C and l1_ratio parameters\n",
      "  warnings.warn(\n",
      "C:\\Users\\DIVYA CHITRANSH\\anaconda3\\lib\\site-packages\\sklearn\\linear_model\\_logistic.py:1483: UserWarning: Setting penalty='none' will ignore the C and l1_ratio parameters\n",
      "  warnings.warn(\n",
      "C:\\Users\\DIVYA CHITRANSH\\anaconda3\\lib\\site-packages\\sklearn\\linear_model\\_logistic.py:1483: UserWarning: Setting penalty='none' will ignore the C and l1_ratio parameters\n",
      "  warnings.warn(\n",
      "C:\\Users\\DIVYA CHITRANSH\\anaconda3\\lib\\site-packages\\sklearn\\linear_model\\_logistic.py:1483: UserWarning: Setting penalty='none' will ignore the C and l1_ratio parameters\n",
      "  warnings.warn(\n",
      "C:\\Users\\DIVYA CHITRANSH\\anaconda3\\lib\\site-packages\\sklearn\\linear_model\\_logistic.py:1483: UserWarning: Setting penalty='none' will ignore the C and l1_ratio parameters\n",
      "  warnings.warn(\n",
      "C:\\Users\\DIVYA CHITRANSH\\anaconda3\\lib\\site-packages\\sklearn\\linear_model\\_logistic.py:1483: UserWarning: Setting penalty='none' will ignore the C and l1_ratio parameters\n",
      "  warnings.warn(\n",
      "C:\\Users\\DIVYA CHITRANSH\\anaconda3\\lib\\site-packages\\sklearn\\linear_model\\_logistic.py:1483: UserWarning: Setting penalty='none' will ignore the C and l1_ratio parameters\n",
      "  warnings.warn(\n",
      "C:\\Users\\DIVYA CHITRANSH\\anaconda3\\lib\\site-packages\\sklearn\\linear_model\\_logistic.py:1483: UserWarning: Setting penalty='none' will ignore the C and l1_ratio parameters\n",
      "  warnings.warn(\n",
      "C:\\Users\\DIVYA CHITRANSH\\anaconda3\\lib\\site-packages\\sklearn\\linear_model\\_logistic.py:1483: UserWarning: Setting penalty='none' will ignore the C and l1_ratio parameters\n",
      "  warnings.warn(\n",
      "C:\\Users\\DIVYA CHITRANSH\\anaconda3\\lib\\site-packages\\sklearn\\linear_model\\_logistic.py:1483: UserWarning: Setting penalty='none' will ignore the C and l1_ratio parameters\n",
      "  warnings.warn(\n",
      "C:\\Users\\DIVYA CHITRANSH\\anaconda3\\lib\\site-packages\\sklearn\\linear_model\\_logistic.py:1483: UserWarning: Setting penalty='none' will ignore the C and l1_ratio parameters\n",
      "  warnings.warn(\n",
      "C:\\Users\\DIVYA CHITRANSH\\anaconda3\\lib\\site-packages\\sklearn\\linear_model\\_logistic.py:1483: UserWarning: Setting penalty='none' will ignore the C and l1_ratio parameters\n",
      "  warnings.warn(\n",
      "C:\\Users\\DIVYA CHITRANSH\\anaconda3\\lib\\site-packages\\sklearn\\linear_model\\_logistic.py:1483: UserWarning: Setting penalty='none' will ignore the C and l1_ratio parameters\n",
      "  warnings.warn(\n",
      "C:\\Users\\DIVYA CHITRANSH\\anaconda3\\lib\\site-packages\\sklearn\\linear_model\\_logistic.py:1483: UserWarning: Setting penalty='none' will ignore the C and l1_ratio parameters\n",
      "  warnings.warn(\n",
      "C:\\Users\\DIVYA CHITRANSH\\anaconda3\\lib\\site-packages\\sklearn\\linear_model\\_logistic.py:1483: UserWarning: Setting penalty='none' will ignore the C and l1_ratio parameters\n",
      "  warnings.warn(\n",
      "C:\\Users\\DIVYA CHITRANSH\\anaconda3\\lib\\site-packages\\sklearn\\linear_model\\_logistic.py:1483: UserWarning: Setting penalty='none' will ignore the C and l1_ratio parameters\n",
      "  warnings.warn(\n",
      "C:\\Users\\DIVYA CHITRANSH\\anaconda3\\lib\\site-packages\\sklearn\\linear_model\\_logistic.py:1483: UserWarning: Setting penalty='none' will ignore the C and l1_ratio parameters\n",
      "  warnings.warn(\n",
      "C:\\Users\\DIVYA CHITRANSH\\anaconda3\\lib\\site-packages\\sklearn\\linear_model\\_logistic.py:1483: UserWarning: Setting penalty='none' will ignore the C and l1_ratio parameters\n",
      "  warnings.warn(\n",
      "C:\\Users\\DIVYA CHITRANSH\\anaconda3\\lib\\site-packages\\sklearn\\linear_model\\_logistic.py:1483: UserWarning: Setting penalty='none' will ignore the C and l1_ratio parameters\n",
      "  warnings.warn(\n",
      "C:\\Users\\DIVYA CHITRANSH\\anaconda3\\lib\\site-packages\\sklearn\\linear_model\\_logistic.py:1483: UserWarning: Setting penalty='none' will ignore the C and l1_ratio parameters\n",
      "  warnings.warn(\n",
      "C:\\Users\\DIVYA CHITRANSH\\anaconda3\\lib\\site-packages\\sklearn\\linear_model\\_logistic.py:1483: UserWarning: Setting penalty='none' will ignore the C and l1_ratio parameters\n",
      "  warnings.warn(\n",
      "C:\\Users\\DIVYA CHITRANSH\\anaconda3\\lib\\site-packages\\sklearn\\linear_model\\_logistic.py:1483: UserWarning: Setting penalty='none' will ignore the C and l1_ratio parameters\n",
      "  warnings.warn(\n",
      "C:\\Users\\DIVYA CHITRANSH\\anaconda3\\lib\\site-packages\\sklearn\\linear_model\\_logistic.py:1483: UserWarning: Setting penalty='none' will ignore the C and l1_ratio parameters\n",
      "  warnings.warn(\n",
      "C:\\Users\\DIVYA CHITRANSH\\anaconda3\\lib\\site-packages\\sklearn\\linear_model\\_logistic.py:1483: UserWarning: Setting penalty='none' will ignore the C and l1_ratio parameters\n",
      "  warnings.warn(\n",
      "C:\\Users\\DIVYA CHITRANSH\\anaconda3\\lib\\site-packages\\sklearn\\linear_model\\_logistic.py:1483: UserWarning: Setting penalty='none' will ignore the C and l1_ratio parameters\n",
      "  warnings.warn(\n",
      "C:\\Users\\DIVYA CHITRANSH\\anaconda3\\lib\\site-packages\\sklearn\\linear_model\\_logistic.py:1483: UserWarning: Setting penalty='none' will ignore the C and l1_ratio parameters\n",
      "  warnings.warn(\n",
      "C:\\Users\\DIVYA CHITRANSH\\anaconda3\\lib\\site-packages\\sklearn\\linear_model\\_logistic.py:1483: UserWarning: Setting penalty='none' will ignore the C and l1_ratio parameters\n",
      "  warnings.warn(\n",
      "C:\\Users\\DIVYA CHITRANSH\\anaconda3\\lib\\site-packages\\sklearn\\linear_model\\_logistic.py:1483: UserWarning: Setting penalty='none' will ignore the C and l1_ratio parameters\n",
      "  warnings.warn(\n",
      "C:\\Users\\DIVYA CHITRANSH\\anaconda3\\lib\\site-packages\\sklearn\\linear_model\\_logistic.py:1483: UserWarning: Setting penalty='none' will ignore the C and l1_ratio parameters\n",
      "  warnings.warn(\n",
      "C:\\Users\\DIVYA CHITRANSH\\anaconda3\\lib\\site-packages\\sklearn\\linear_model\\_logistic.py:1483: UserWarning: Setting penalty='none' will ignore the C and l1_ratio parameters\n",
      "  warnings.warn(\n",
      "C:\\Users\\DIVYA CHITRANSH\\anaconda3\\lib\\site-packages\\sklearn\\linear_model\\_logistic.py:1483: UserWarning: Setting penalty='none' will ignore the C and l1_ratio parameters\n",
      "  warnings.warn(\n",
      "C:\\Users\\DIVYA CHITRANSH\\anaconda3\\lib\\site-packages\\sklearn\\linear_model\\_logistic.py:1483: UserWarning: Setting penalty='none' will ignore the C and l1_ratio parameters\n",
      "  warnings.warn(\n",
      "C:\\Users\\DIVYA CHITRANSH\\anaconda3\\lib\\site-packages\\sklearn\\linear_model\\_logistic.py:1483: UserWarning: Setting penalty='none' will ignore the C and l1_ratio parameters\n",
      "  warnings.warn(\n",
      "C:\\Users\\DIVYA CHITRANSH\\anaconda3\\lib\\site-packages\\sklearn\\linear_model\\_logistic.py:1483: UserWarning: Setting penalty='none' will ignore the C and l1_ratio parameters\n",
      "  warnings.warn(\n",
      "C:\\Users\\DIVYA CHITRANSH\\anaconda3\\lib\\site-packages\\sklearn\\linear_model\\_logistic.py:1483: UserWarning: Setting penalty='none' will ignore the C and l1_ratio parameters\n",
      "  warnings.warn(\n",
      "C:\\Users\\DIVYA CHITRANSH\\anaconda3\\lib\\site-packages\\sklearn\\linear_model\\_logistic.py:1483: UserWarning: Setting penalty='none' will ignore the C and l1_ratio parameters\n",
      "  warnings.warn(\n",
      "C:\\Users\\DIVYA CHITRANSH\\anaconda3\\lib\\site-packages\\sklearn\\linear_model\\_logistic.py:1483: UserWarning: Setting penalty='none' will ignore the C and l1_ratio parameters\n",
      "  warnings.warn(\n",
      "C:\\Users\\DIVYA CHITRANSH\\anaconda3\\lib\\site-packages\\sklearn\\linear_model\\_logistic.py:1483: UserWarning: Setting penalty='none' will ignore the C and l1_ratio parameters\n",
      "  warnings.warn(\n",
      "C:\\Users\\DIVYA CHITRANSH\\anaconda3\\lib\\site-packages\\sklearn\\linear_model\\_logistic.py:1483: UserWarning: Setting penalty='none' will ignore the C and l1_ratio parameters\n",
      "  warnings.warn(\n",
      "C:\\Users\\DIVYA CHITRANSH\\anaconda3\\lib\\site-packages\\sklearn\\linear_model\\_logistic.py:1483: UserWarning: Setting penalty='none' will ignore the C and l1_ratio parameters\n",
      "  warnings.warn(\n",
      "C:\\Users\\DIVYA CHITRANSH\\anaconda3\\lib\\site-packages\\sklearn\\linear_model\\_logistic.py:1483: UserWarning: Setting penalty='none' will ignore the C and l1_ratio parameters\n",
      "  warnings.warn(\n",
      "C:\\Users\\DIVYA CHITRANSH\\anaconda3\\lib\\site-packages\\sklearn\\linear_model\\_logistic.py:1483: UserWarning: Setting penalty='none' will ignore the C and l1_ratio parameters\n",
      "  warnings.warn(\n",
      "C:\\Users\\DIVYA CHITRANSH\\anaconda3\\lib\\site-packages\\sklearn\\linear_model\\_logistic.py:1483: UserWarning: Setting penalty='none' will ignore the C and l1_ratio parameters\n",
      "  warnings.warn(\n",
      "C:\\Users\\DIVYA CHITRANSH\\anaconda3\\lib\\site-packages\\sklearn\\linear_model\\_logistic.py:1483: UserWarning: Setting penalty='none' will ignore the C and l1_ratio parameters\n",
      "  warnings.warn(\n",
      "C:\\Users\\DIVYA CHITRANSH\\anaconda3\\lib\\site-packages\\sklearn\\linear_model\\_logistic.py:1483: UserWarning: Setting penalty='none' will ignore the C and l1_ratio parameters\n",
      "  warnings.warn(\n",
      "C:\\Users\\DIVYA CHITRANSH\\anaconda3\\lib\\site-packages\\sklearn\\linear_model\\_logistic.py:1483: UserWarning: Setting penalty='none' will ignore the C and l1_ratio parameters\n",
      "  warnings.warn(\n",
      "C:\\Users\\DIVYA CHITRANSH\\anaconda3\\lib\\site-packages\\sklearn\\linear_model\\_logistic.py:1483: UserWarning: Setting penalty='none' will ignore the C and l1_ratio parameters\n",
      "  warnings.warn(\n",
      "C:\\Users\\DIVYA CHITRANSH\\anaconda3\\lib\\site-packages\\sklearn\\linear_model\\_logistic.py:1483: UserWarning: Setting penalty='none' will ignore the C and l1_ratio parameters\n",
      "  warnings.warn(\n",
      "C:\\Users\\DIVYA CHITRANSH\\anaconda3\\lib\\site-packages\\sklearn\\linear_model\\_logistic.py:1483: UserWarning: Setting penalty='none' will ignore the C and l1_ratio parameters\n",
      "  warnings.warn(\n",
      "C:\\Users\\DIVYA CHITRANSH\\anaconda3\\lib\\site-packages\\sklearn\\linear_model\\_logistic.py:1483: UserWarning: Setting penalty='none' will ignore the C and l1_ratio parameters\n",
      "  warnings.warn(\n",
      "C:\\Users\\DIVYA CHITRANSH\\anaconda3\\lib\\site-packages\\sklearn\\linear_model\\_logistic.py:1483: UserWarning: Setting penalty='none' will ignore the C and l1_ratio parameters\n",
      "  warnings.warn(\n",
      "C:\\Users\\DIVYA CHITRANSH\\anaconda3\\lib\\site-packages\\sklearn\\linear_model\\_logistic.py:1483: UserWarning: Setting penalty='none' will ignore the C and l1_ratio parameters\n",
      "  warnings.warn(\n",
      "C:\\Users\\DIVYA CHITRANSH\\anaconda3\\lib\\site-packages\\sklearn\\linear_model\\_logistic.py:1483: UserWarning: Setting penalty='none' will ignore the C and l1_ratio parameters\n",
      "  warnings.warn(\n",
      "C:\\Users\\DIVYA CHITRANSH\\anaconda3\\lib\\site-packages\\sklearn\\linear_model\\_logistic.py:1483: UserWarning: Setting penalty='none' will ignore the C and l1_ratio parameters\n",
      "  warnings.warn(\n",
      "C:\\Users\\DIVYA CHITRANSH\\anaconda3\\lib\\site-packages\\sklearn\\linear_model\\_logistic.py:1483: UserWarning: Setting penalty='none' will ignore the C and l1_ratio parameters\n",
      "  warnings.warn(\n",
      "C:\\Users\\DIVYA CHITRANSH\\anaconda3\\lib\\site-packages\\sklearn\\linear_model\\_logistic.py:1483: UserWarning: Setting penalty='none' will ignore the C and l1_ratio parameters\n",
      "  warnings.warn(\n",
      "C:\\Users\\DIVYA CHITRANSH\\anaconda3\\lib\\site-packages\\sklearn\\linear_model\\_logistic.py:1483: UserWarning: Setting penalty='none' will ignore the C and l1_ratio parameters\n",
      "  warnings.warn(\n",
      "C:\\Users\\DIVYA CHITRANSH\\anaconda3\\lib\\site-packages\\sklearn\\linear_model\\_logistic.py:1483: UserWarning: Setting penalty='none' will ignore the C and l1_ratio parameters\n",
      "  warnings.warn(\n",
      "C:\\Users\\DIVYA CHITRANSH\\anaconda3\\lib\\site-packages\\sklearn\\linear_model\\_logistic.py:1483: UserWarning: Setting penalty='none' will ignore the C and l1_ratio parameters\n",
      "  warnings.warn(\n",
      "C:\\Users\\DIVYA CHITRANSH\\anaconda3\\lib\\site-packages\\sklearn\\linear_model\\_logistic.py:1483: UserWarning: Setting penalty='none' will ignore the C and l1_ratio parameters\n",
      "  warnings.warn(\n",
      "C:\\Users\\DIVYA CHITRANSH\\anaconda3\\lib\\site-packages\\sklearn\\linear_model\\_logistic.py:1483: UserWarning: Setting penalty='none' will ignore the C and l1_ratio parameters\n",
      "  warnings.warn(\n",
      "C:\\Users\\DIVYA CHITRANSH\\anaconda3\\lib\\site-packages\\sklearn\\linear_model\\_logistic.py:1483: UserWarning: Setting penalty='none' will ignore the C and l1_ratio parameters\n",
      "  warnings.warn(\n",
      "C:\\Users\\DIVYA CHITRANSH\\anaconda3\\lib\\site-packages\\sklearn\\linear_model\\_logistic.py:1483: UserWarning: Setting penalty='none' will ignore the C and l1_ratio parameters\n",
      "  warnings.warn(\n",
      "C:\\Users\\DIVYA CHITRANSH\\anaconda3\\lib\\site-packages\\sklearn\\linear_model\\_logistic.py:1483: UserWarning: Setting penalty='none' will ignore the C and l1_ratio parameters\n",
      "  warnings.warn(\n",
      "C:\\Users\\DIVYA CHITRANSH\\anaconda3\\lib\\site-packages\\sklearn\\linear_model\\_logistic.py:1483: UserWarning: Setting penalty='none' will ignore the C and l1_ratio parameters\n",
      "  warnings.warn(\n",
      "C:\\Users\\DIVYA CHITRANSH\\anaconda3\\lib\\site-packages\\sklearn\\linear_model\\_logistic.py:1483: UserWarning: Setting penalty='none' will ignore the C and l1_ratio parameters\n",
      "  warnings.warn(\n",
      "C:\\Users\\DIVYA CHITRANSH\\anaconda3\\lib\\site-packages\\sklearn\\linear_model\\_logistic.py:1483: UserWarning: Setting penalty='none' will ignore the C and l1_ratio parameters\n",
      "  warnings.warn(\n",
      "C:\\Users\\DIVYA CHITRANSH\\anaconda3\\lib\\site-packages\\sklearn\\linear_model\\_logistic.py:1483: UserWarning: Setting penalty='none' will ignore the C and l1_ratio parameters\n",
      "  warnings.warn(\n",
      "C:\\Users\\DIVYA CHITRANSH\\anaconda3\\lib\\site-packages\\sklearn\\linear_model\\_logistic.py:1483: UserWarning: Setting penalty='none' will ignore the C and l1_ratio parameters\n",
      "  warnings.warn(\n",
      "C:\\Users\\DIVYA CHITRANSH\\anaconda3\\lib\\site-packages\\sklearn\\linear_model\\_logistic.py:1483: UserWarning: Setting penalty='none' will ignore the C and l1_ratio parameters\n",
      "  warnings.warn(\n",
      "C:\\Users\\DIVYA CHITRANSH\\anaconda3\\lib\\site-packages\\sklearn\\linear_model\\_logistic.py:1483: UserWarning: Setting penalty='none' will ignore the C and l1_ratio parameters\n",
      "  warnings.warn(\n",
      "C:\\Users\\DIVYA CHITRANSH\\anaconda3\\lib\\site-packages\\sklearn\\linear_model\\_logistic.py:1483: UserWarning: Setting penalty='none' will ignore the C and l1_ratio parameters\n",
      "  warnings.warn(\n",
      "C:\\Users\\DIVYA CHITRANSH\\anaconda3\\lib\\site-packages\\sklearn\\linear_model\\_logistic.py:1483: UserWarning: Setting penalty='none' will ignore the C and l1_ratio parameters\n",
      "  warnings.warn(\n",
      "C:\\Users\\DIVYA CHITRANSH\\anaconda3\\lib\\site-packages\\sklearn\\linear_model\\_logistic.py:1483: UserWarning: Setting penalty='none' will ignore the C and l1_ratio parameters\n",
      "  warnings.warn(\n",
      "C:\\Users\\DIVYA CHITRANSH\\anaconda3\\lib\\site-packages\\sklearn\\linear_model\\_logistic.py:1483: UserWarning: Setting penalty='none' will ignore the C and l1_ratio parameters\n",
      "  warnings.warn(\n",
      "C:\\Users\\DIVYA CHITRANSH\\anaconda3\\lib\\site-packages\\sklearn\\linear_model\\_logistic.py:1483: UserWarning: Setting penalty='none' will ignore the C and l1_ratio parameters\n",
      "  warnings.warn(\n",
      "C:\\Users\\DIVYA CHITRANSH\\anaconda3\\lib\\site-packages\\sklearn\\linear_model\\_logistic.py:1483: UserWarning: Setting penalty='none' will ignore the C and l1_ratio parameters\n",
      "  warnings.warn(\n",
      "C:\\Users\\DIVYA CHITRANSH\\anaconda3\\lib\\site-packages\\sklearn\\linear_model\\_logistic.py:1483: UserWarning: Setting penalty='none' will ignore the C and l1_ratio parameters\n",
      "  warnings.warn(\n",
      "C:\\Users\\DIVYA CHITRANSH\\anaconda3\\lib\\site-packages\\sklearn\\linear_model\\_logistic.py:1483: UserWarning: Setting penalty='none' will ignore the C and l1_ratio parameters\n",
      "  warnings.warn(\n",
      "C:\\Users\\DIVYA CHITRANSH\\anaconda3\\lib\\site-packages\\sklearn\\linear_model\\_logistic.py:1483: UserWarning: Setting penalty='none' will ignore the C and l1_ratio parameters\n",
      "  warnings.warn(\n",
      "C:\\Users\\DIVYA CHITRANSH\\anaconda3\\lib\\site-packages\\sklearn\\linear_model\\_logistic.py:1483: UserWarning: Setting penalty='none' will ignore the C and l1_ratio parameters\n",
      "  warnings.warn(\n",
      "C:\\Users\\DIVYA CHITRANSH\\anaconda3\\lib\\site-packages\\sklearn\\linear_model\\_logistic.py:1483: UserWarning: Setting penalty='none' will ignore the C and l1_ratio parameters\n",
      "  warnings.warn(\n",
      "C:\\Users\\DIVYA CHITRANSH\\anaconda3\\lib\\site-packages\\sklearn\\linear_model\\_logistic.py:1483: UserWarning: Setting penalty='none' will ignore the C and l1_ratio parameters\n",
      "  warnings.warn(\n",
      "C:\\Users\\DIVYA CHITRANSH\\anaconda3\\lib\\site-packages\\sklearn\\linear_model\\_logistic.py:1483: UserWarning: Setting penalty='none' will ignore the C and l1_ratio parameters\n",
      "  warnings.warn(\n",
      "C:\\Users\\DIVYA CHITRANSH\\anaconda3\\lib\\site-packages\\sklearn\\linear_model\\_logistic.py:1483: UserWarning: Setting penalty='none' will ignore the C and l1_ratio parameters\n",
      "  warnings.warn(\n",
      "C:\\Users\\DIVYA CHITRANSH\\anaconda3\\lib\\site-packages\\sklearn\\linear_model\\_logistic.py:1483: UserWarning: Setting penalty='none' will ignore the C and l1_ratio parameters\n",
      "  warnings.warn(\n",
      "C:\\Users\\DIVYA CHITRANSH\\anaconda3\\lib\\site-packages\\sklearn\\linear_model\\_logistic.py:1483: UserWarning: Setting penalty='none' will ignore the C and l1_ratio parameters\n",
      "  warnings.warn(\n",
      "C:\\Users\\DIVYA CHITRANSH\\anaconda3\\lib\\site-packages\\sklearn\\linear_model\\_logistic.py:1483: UserWarning: Setting penalty='none' will ignore the C and l1_ratio parameters\n",
      "  warnings.warn(\n",
      "C:\\Users\\DIVYA CHITRANSH\\anaconda3\\lib\\site-packages\\sklearn\\linear_model\\_logistic.py:1483: UserWarning: Setting penalty='none' will ignore the C and l1_ratio parameters\n",
      "  warnings.warn(\n",
      "C:\\Users\\DIVYA CHITRANSH\\anaconda3\\lib\\site-packages\\sklearn\\linear_model\\_logistic.py:1483: UserWarning: Setting penalty='none' will ignore the C and l1_ratio parameters\n",
      "  warnings.warn(\n",
      "C:\\Users\\DIVYA CHITRANSH\\anaconda3\\lib\\site-packages\\sklearn\\linear_model\\_logistic.py:1483: UserWarning: Setting penalty='none' will ignore the C and l1_ratio parameters\n",
      "  warnings.warn(\n",
      "C:\\Users\\DIVYA CHITRANSH\\anaconda3\\lib\\site-packages\\sklearn\\linear_model\\_logistic.py:1483: UserWarning: Setting penalty='none' will ignore the C and l1_ratio parameters\n",
      "  warnings.warn(\n",
      "C:\\Users\\DIVYA CHITRANSH\\anaconda3\\lib\\site-packages\\sklearn\\linear_model\\_logistic.py:1483: UserWarning: Setting penalty='none' will ignore the C and l1_ratio parameters\n",
      "  warnings.warn(\n",
      "C:\\Users\\DIVYA CHITRANSH\\anaconda3\\lib\\site-packages\\sklearn\\linear_model\\_logistic.py:1483: UserWarning: Setting penalty='none' will ignore the C and l1_ratio parameters\n",
      "  warnings.warn(\n",
      "C:\\Users\\DIVYA CHITRANSH\\anaconda3\\lib\\site-packages\\sklearn\\linear_model\\_logistic.py:1483: UserWarning: Setting penalty='none' will ignore the C and l1_ratio parameters\n",
      "  warnings.warn(\n",
      "C:\\Users\\DIVYA CHITRANSH\\anaconda3\\lib\\site-packages\\sklearn\\linear_model\\_logistic.py:1483: UserWarning: Setting penalty='none' will ignore the C and l1_ratio parameters\n",
      "  warnings.warn(\n",
      "C:\\Users\\DIVYA CHITRANSH\\anaconda3\\lib\\site-packages\\sklearn\\linear_model\\_logistic.py:1483: UserWarning: Setting penalty='none' will ignore the C and l1_ratio parameters\n",
      "  warnings.warn(\n",
      "C:\\Users\\DIVYA CHITRANSH\\anaconda3\\lib\\site-packages\\sklearn\\linear_model\\_logistic.py:1483: UserWarning: Setting penalty='none' will ignore the C and l1_ratio parameters\n",
      "  warnings.warn(\n",
      "C:\\Users\\DIVYA CHITRANSH\\anaconda3\\lib\\site-packages\\sklearn\\linear_model\\_logistic.py:1483: UserWarning: Setting penalty='none' will ignore the C and l1_ratio parameters\n",
      "  warnings.warn(\n",
      "C:\\Users\\DIVYA CHITRANSH\\anaconda3\\lib\\site-packages\\sklearn\\linear_model\\_logistic.py:1483: UserWarning: Setting penalty='none' will ignore the C and l1_ratio parameters\n",
      "  warnings.warn(\n",
      "C:\\Users\\DIVYA CHITRANSH\\anaconda3\\lib\\site-packages\\sklearn\\linear_model\\_logistic.py:1483: UserWarning: Setting penalty='none' will ignore the C and l1_ratio parameters\n",
      "  warnings.warn(\n",
      "C:\\Users\\DIVYA CHITRANSH\\anaconda3\\lib\\site-packages\\sklearn\\linear_model\\_logistic.py:1483: UserWarning: Setting penalty='none' will ignore the C and l1_ratio parameters\n",
      "  warnings.warn(\n",
      "C:\\Users\\DIVYA CHITRANSH\\anaconda3\\lib\\site-packages\\sklearn\\linear_model\\_logistic.py:1483: UserWarning: Setting penalty='none' will ignore the C and l1_ratio parameters\n",
      "  warnings.warn(\n",
      "C:\\Users\\DIVYA CHITRANSH\\anaconda3\\lib\\site-packages\\sklearn\\linear_model\\_logistic.py:1483: UserWarning: Setting penalty='none' will ignore the C and l1_ratio parameters\n",
      "  warnings.warn(\n",
      "C:\\Users\\DIVYA CHITRANSH\\anaconda3\\lib\\site-packages\\sklearn\\linear_model\\_logistic.py:1483: UserWarning: Setting penalty='none' will ignore the C and l1_ratio parameters\n",
      "  warnings.warn(\n",
      "C:\\Users\\DIVYA CHITRANSH\\anaconda3\\lib\\site-packages\\sklearn\\linear_model\\_logistic.py:1483: UserWarning: Setting penalty='none' will ignore the C and l1_ratio parameters\n",
      "  warnings.warn(\n",
      "C:\\Users\\DIVYA CHITRANSH\\anaconda3\\lib\\site-packages\\sklearn\\linear_model\\_logistic.py:1483: UserWarning: Setting penalty='none' will ignore the C and l1_ratio parameters\n",
      "  warnings.warn(\n",
      "C:\\Users\\DIVYA CHITRANSH\\anaconda3\\lib\\site-packages\\sklearn\\linear_model\\_logistic.py:1483: UserWarning: Setting penalty='none' will ignore the C and l1_ratio parameters\n",
      "  warnings.warn(\n",
      "C:\\Users\\DIVYA CHITRANSH\\anaconda3\\lib\\site-packages\\sklearn\\linear_model\\_logistic.py:1483: UserWarning: Setting penalty='none' will ignore the C and l1_ratio parameters\n",
      "  warnings.warn(\n",
      "C:\\Users\\DIVYA CHITRANSH\\anaconda3\\lib\\site-packages\\sklearn\\linear_model\\_logistic.py:1483: UserWarning: Setting penalty='none' will ignore the C and l1_ratio parameters\n",
      "  warnings.warn(\n",
      "C:\\Users\\DIVYA CHITRANSH\\anaconda3\\lib\\site-packages\\sklearn\\linear_model\\_logistic.py:1483: UserWarning: Setting penalty='none' will ignore the C and l1_ratio parameters\n",
      "  warnings.warn(\n",
      "C:\\Users\\DIVYA CHITRANSH\\anaconda3\\lib\\site-packages\\sklearn\\linear_model\\_logistic.py:1483: UserWarning: Setting penalty='none' will ignore the C and l1_ratio parameters\n",
      "  warnings.warn(\n",
      "C:\\Users\\DIVYA CHITRANSH\\anaconda3\\lib\\site-packages\\sklearn\\linear_model\\_logistic.py:1483: UserWarning: Setting penalty='none' will ignore the C and l1_ratio parameters\n",
      "  warnings.warn(\n",
      "C:\\Users\\DIVYA CHITRANSH\\anaconda3\\lib\\site-packages\\sklearn\\linear_model\\_logistic.py:1483: UserWarning: Setting penalty='none' will ignore the C and l1_ratio parameters\n",
      "  warnings.warn(\n",
      "C:\\Users\\DIVYA CHITRANSH\\anaconda3\\lib\\site-packages\\sklearn\\linear_model\\_logistic.py:1483: UserWarning: Setting penalty='none' will ignore the C and l1_ratio parameters\n",
      "  warnings.warn(\n"
     ]
    },
    {
     "name": "stdout",
     "output_type": "stream",
     "text": [
      "best score of train set: 0.8075117370892018\n",
      "best params of train set: {'model__C': 0.23357214690901212, 'model__penalty': 'l2'}\n",
      "best score of test set: 0.7821229050279329\n"
     ]
    },
    {
     "name": "stderr",
     "output_type": "stream",
     "text": [
      "C:\\Users\\DIVYA CHITRANSH\\anaconda3\\lib\\site-packages\\sklearn\\model_selection\\_validation.py:372: FitFailedWarning: \n",
      "200 fits failed out of a total of 600.\n",
      "The score on these train-test partitions for these parameters will be set to nan.\n",
      "If these failures are not expected, you can try to debug them by setting error_score='raise'.\n",
      "\n",
      "Below are more details about the failures:\n",
      "--------------------------------------------------------------------------------\n",
      "200 fits failed with the following error:\n",
      "Traceback (most recent call last):\n",
      "  File \"C:\\Users\\DIVYA CHITRANSH\\anaconda3\\lib\\site-packages\\sklearn\\model_selection\\_validation.py\", line 680, in _fit_and_score\n",
      "    estimator.fit(X_train, y_train, **fit_params)\n",
      "  File \"C:\\Users\\DIVYA CHITRANSH\\anaconda3\\lib\\site-packages\\sklearn\\pipeline.py\", line 394, in fit\n",
      "    self._final_estimator.fit(Xt, y, **fit_params_last_step)\n",
      "  File \"C:\\Users\\DIVYA CHITRANSH\\anaconda3\\lib\\site-packages\\sklearn\\linear_model\\_logistic.py\", line 1461, in fit\n",
      "    solver = _check_solver(self.solver, self.penalty, self.dual)\n",
      "  File \"C:\\Users\\DIVYA CHITRANSH\\anaconda3\\lib\\site-packages\\sklearn\\linear_model\\_logistic.py\", line 447, in _check_solver\n",
      "    raise ValueError(\n",
      "ValueError: Solver lbfgs supports only 'l2' or 'none' penalties, got l1 penalty.\n",
      "\n",
      "  warnings.warn(some_fits_failed_message, FitFailedWarning)\n",
      "C:\\Users\\DIVYA CHITRANSH\\anaconda3\\lib\\site-packages\\sklearn\\model_selection\\_search.py:969: UserWarning: One or more of the test scores are non-finite: [0.80336463 0.61658842        nan 0.80336463 0.61658842        nan\n",
      " 0.80336463 0.61658842        nan 0.80336463 0.61658842        nan\n",
      " 0.80336463 0.73869327        nan 0.80336463 0.78223787        nan\n",
      " 0.80336463 0.80187793        nan 0.80336463 0.80467527        nan\n",
      " 0.80336463 0.80751174        nan 0.80336463 0.80330595        nan\n",
      " 0.80336463 0.79913928        nan 0.80336463 0.80336463        nan\n",
      " 0.80336463 0.80477308        nan 0.80336463 0.80336463        nan\n",
      " 0.80336463 0.80336463        nan 0.80336463 0.80336463        nan\n",
      " 0.80336463 0.80336463        nan 0.80336463 0.80336463        nan\n",
      " 0.80336463 0.80336463        nan 0.80336463 0.80336463        nan]\n",
      "  warnings.warn(\n"
     ]
    }
   ],
   "source": [
    "from sklearn.model_selection import GridSearchCV\n",
    "\n",
    "gs=GridSearchCV(clf_pipeline,grid_params,cv=10,scoring='accuracy')\n",
    "gs.fit(x_train,y_train)\n",
    "print(\"best score of train set:\",(gs.best_score_))\n",
    "print(\"best params of train set:\",(gs.best_params_))\n",
    "print(\"best score of test set:\",(gs.score(x_test,y_test)))"
   ]
  },
  {
   "cell_type": "markdown",
   "id": "30c672a6",
   "metadata": {
    "papermill": {
     "duration": 0.017602,
     "end_time": "2023-10-16T19:58:21.874005",
     "exception": false,
     "start_time": "2023-10-16T19:58:21.856403",
     "status": "completed"
    },
    "tags": []
   },
   "source": [
    "After Parameter tuning we got accuracy of 78.21% on test data without lasso or ridge regression"
   ]
  },
  {
   "cell_type": "markdown",
   "id": "337447db",
   "metadata": {
    "papermill": {
     "duration": 0.017745,
     "end_time": "2023-10-16T19:58:21.909422",
     "exception": false,
     "start_time": "2023-10-16T19:58:21.891677",
     "status": "completed"
    },
    "tags": []
   },
   "source": [
    "With the pipeline, we can create data transformation steps in the pipeline and perform a grid search to find the best step. A grid search will select which step to skip and compare the result of each case.\n",
    "\n",
    "I want to know which scaling method will work best for my data between MinMaxScaler and StandardScaler."
   ]
  },
  {
   "cell_type": "code",
   "execution_count": 34,
   "id": "ba761855",
   "metadata": {
    "execution": {
     "iopub.execute_input": "2023-10-16T19:58:21.946766Z",
     "iopub.status.busy": "2023-10-16T19:58:21.946442Z",
     "iopub.status.idle": "2023-10-16T19:58:21.952618Z",
     "shell.execute_reply": "2023-10-16T19:58:21.951269Z"
    },
    "papermill": {
     "duration": 0.027802,
     "end_time": "2023-10-16T19:58:21.955002",
     "exception": false,
     "start_time": "2023-10-16T19:58:21.927200",
     "status": "completed"
    },
    "tags": []
   },
   "outputs": [],
   "source": [
    "from sklearn.preprocessing import StandardScaler\n",
    "\n",
    "num_pipeline2=Pipeline(steps=[('impute',SimpleImputer(strategy='mean')),('min_max_scale',MinMaxScaler()),('std_scale',StandardScaler())])\n",
    "col_trans2=ColumnTransformer(transformers=[('num_pipeline',num_pipeline2,num_cols_1),('num_pipeline_new',num_pipeline_new,num_cols_2),('cat_pipeline',cat_pipeline,cat_cols )],\n",
    "                               remainder='drop',n_jobs=-1 )\n",
    "clf_pipeline2=Pipeline(steps=[('col_trans2',col_trans2),('model',clf)])"
   ]
  },
  {
   "cell_type": "code",
   "execution_count": 35,
   "id": "69f24578",
   "metadata": {
    "execution": {
     "iopub.execute_input": "2023-10-16T19:58:21.992740Z",
     "iopub.status.busy": "2023-10-16T19:58:21.992375Z",
     "iopub.status.idle": "2023-10-16T19:58:22.046827Z",
     "shell.execute_reply": "2023-10-16T19:58:22.045647Z"
    },
    "papermill": {
     "duration": 0.07541,
     "end_time": "2023-10-16T19:58:22.048570",
     "exception": false,
     "start_time": "2023-10-16T19:58:21.973160",
     "status": "completed"
    },
    "tags": []
   },
   "outputs": [
    {
     "data": {
      "text/html": [
       "<style>#sk-981070a7-1bae-453b-a2a1-322393e827dc {color: black;background-color: white;}#sk-981070a7-1bae-453b-a2a1-322393e827dc pre{padding: 0;}#sk-981070a7-1bae-453b-a2a1-322393e827dc div.sk-toggleable {background-color: white;}#sk-981070a7-1bae-453b-a2a1-322393e827dc label.sk-toggleable__label {cursor: pointer;display: block;width: 100%;margin-bottom: 0;padding: 0.3em;box-sizing: border-box;text-align: center;}#sk-981070a7-1bae-453b-a2a1-322393e827dc label.sk-toggleable__label-arrow:before {content: \"▸\";float: left;margin-right: 0.25em;color: #696969;}#sk-981070a7-1bae-453b-a2a1-322393e827dc label.sk-toggleable__label-arrow:hover:before {color: black;}#sk-981070a7-1bae-453b-a2a1-322393e827dc div.sk-estimator:hover label.sk-toggleable__label-arrow:before {color: black;}#sk-981070a7-1bae-453b-a2a1-322393e827dc div.sk-toggleable__content {max-height: 0;max-width: 0;overflow: hidden;text-align: left;background-color: #f0f8ff;}#sk-981070a7-1bae-453b-a2a1-322393e827dc div.sk-toggleable__content pre {margin: 0.2em;color: black;border-radius: 0.25em;background-color: #f0f8ff;}#sk-981070a7-1bae-453b-a2a1-322393e827dc input.sk-toggleable__control:checked~div.sk-toggleable__content {max-height: 200px;max-width: 100%;overflow: auto;}#sk-981070a7-1bae-453b-a2a1-322393e827dc input.sk-toggleable__control:checked~label.sk-toggleable__label-arrow:before {content: \"▾\";}#sk-981070a7-1bae-453b-a2a1-322393e827dc div.sk-estimator input.sk-toggleable__control:checked~label.sk-toggleable__label {background-color: #d4ebff;}#sk-981070a7-1bae-453b-a2a1-322393e827dc div.sk-label input.sk-toggleable__control:checked~label.sk-toggleable__label {background-color: #d4ebff;}#sk-981070a7-1bae-453b-a2a1-322393e827dc input.sk-hidden--visually {border: 0;clip: rect(1px 1px 1px 1px);clip: rect(1px, 1px, 1px, 1px);height: 1px;margin: -1px;overflow: hidden;padding: 0;position: absolute;width: 1px;}#sk-981070a7-1bae-453b-a2a1-322393e827dc div.sk-estimator {font-family: monospace;background-color: #f0f8ff;border: 1px dotted black;border-radius: 0.25em;box-sizing: border-box;margin-bottom: 0.5em;}#sk-981070a7-1bae-453b-a2a1-322393e827dc div.sk-estimator:hover {background-color: #d4ebff;}#sk-981070a7-1bae-453b-a2a1-322393e827dc div.sk-parallel-item::after {content: \"\";width: 100%;border-bottom: 1px solid gray;flex-grow: 1;}#sk-981070a7-1bae-453b-a2a1-322393e827dc div.sk-label:hover label.sk-toggleable__label {background-color: #d4ebff;}#sk-981070a7-1bae-453b-a2a1-322393e827dc div.sk-serial::before {content: \"\";position: absolute;border-left: 1px solid gray;box-sizing: border-box;top: 2em;bottom: 0;left: 50%;}#sk-981070a7-1bae-453b-a2a1-322393e827dc div.sk-serial {display: flex;flex-direction: column;align-items: center;background-color: white;padding-right: 0.2em;padding-left: 0.2em;}#sk-981070a7-1bae-453b-a2a1-322393e827dc div.sk-item {z-index: 1;}#sk-981070a7-1bae-453b-a2a1-322393e827dc div.sk-parallel {display: flex;align-items: stretch;justify-content: center;background-color: white;}#sk-981070a7-1bae-453b-a2a1-322393e827dc div.sk-parallel::before {content: \"\";position: absolute;border-left: 1px solid gray;box-sizing: border-box;top: 2em;bottom: 0;left: 50%;}#sk-981070a7-1bae-453b-a2a1-322393e827dc div.sk-parallel-item {display: flex;flex-direction: column;position: relative;background-color: white;}#sk-981070a7-1bae-453b-a2a1-322393e827dc div.sk-parallel-item:first-child::after {align-self: flex-end;width: 50%;}#sk-981070a7-1bae-453b-a2a1-322393e827dc div.sk-parallel-item:last-child::after {align-self: flex-start;width: 50%;}#sk-981070a7-1bae-453b-a2a1-322393e827dc div.sk-parallel-item:only-child::after {width: 0;}#sk-981070a7-1bae-453b-a2a1-322393e827dc div.sk-dashed-wrapped {border: 1px dashed gray;margin: 0 0.4em 0.5em 0.4em;box-sizing: border-box;padding-bottom: 0.4em;background-color: white;position: relative;}#sk-981070a7-1bae-453b-a2a1-322393e827dc div.sk-label label {font-family: monospace;font-weight: bold;background-color: white;display: inline-block;line-height: 1.2em;}#sk-981070a7-1bae-453b-a2a1-322393e827dc div.sk-label-container {position: relative;z-index: 2;text-align: center;}#sk-981070a7-1bae-453b-a2a1-322393e827dc div.sk-container {/* jupyter's `normalize.less` sets `[hidden] { display: none; }` but bootstrap.min.css set `[hidden] { display: none !important; }` so we also need the `!important` here to be able to override the default hidden behavior on the sphinx rendered scikit-learn.org. See: https://github.com/scikit-learn/scikit-learn/issues/21755 */display: inline-block !important;position: relative;}#sk-981070a7-1bae-453b-a2a1-322393e827dc div.sk-text-repr-fallback {display: none;}</style><div id=\"sk-981070a7-1bae-453b-a2a1-322393e827dc\" class=\"sk-top-container\"><div class=\"sk-text-repr-fallback\"><pre>Pipeline(steps=[(&#x27;col_trans2&#x27;,\n",
       "                 ColumnTransformer(n_jobs=-1,\n",
       "                                   transformers=[(&#x27;num_pipeline&#x27;,\n",
       "                                                  Pipeline(steps=[(&#x27;impute&#x27;,\n",
       "                                                                   SimpleImputer()),\n",
       "                                                                  (&#x27;min_max_scale&#x27;,\n",
       "                                                                   MinMaxScaler()),\n",
       "                                                                  (&#x27;std_scale&#x27;,\n",
       "                                                                   StandardScaler())]),\n",
       "                                                  [&#x27;Age&#x27;, &#x27;Fare&#x27;]),\n",
       "                                                 (&#x27;num_pipeline_new&#x27;,\n",
       "                                                  Pipeline(steps=[(&#x27;impute2&#x27;,\n",
       "                                                                   SimpleImputer(strategy=&#x27;most_frequent&#x27;))]),\n",
       "                                                  [&#x27;Pclass&#x27;, &#x27;SibSp&#x27;, &#x27;Parch&#x27;]),\n",
       "                                                 (&#x27;cat_pipeline&#x27;,\n",
       "                                                  Pipeline(steps=[(&#x27;impute&#x27;,\n",
       "                                                                   SimpleImputer(strategy=&#x27;most_frequent&#x27;)),\n",
       "                                                                  (&#x27;one_hot&#x27;,\n",
       "                                                                   OneHotEncoder(handle_unknown=&#x27;ignore&#x27;,\n",
       "                                                                                 sparse=False))]),\n",
       "                                                  [&#x27;Sex&#x27;])])),\n",
       "                (&#x27;model&#x27;, LogisticRegression(random_state=42))])</pre><b>Please rerun this cell to show the HTML repr or trust the notebook.</b></div><div class=\"sk-container\" hidden><div class=\"sk-item sk-dashed-wrapped\"><div class=\"sk-label-container\"><div class=\"sk-label sk-toggleable\"><input class=\"sk-toggleable__control sk-hidden--visually\" id=\"9eb930e7-84a4-40fa-859d-668b94b51e76\" type=\"checkbox\" ><label for=\"9eb930e7-84a4-40fa-859d-668b94b51e76\" class=\"sk-toggleable__label sk-toggleable__label-arrow\">Pipeline</label><div class=\"sk-toggleable__content\"><pre>Pipeline(steps=[(&#x27;col_trans2&#x27;,\n",
       "                 ColumnTransformer(n_jobs=-1,\n",
       "                                   transformers=[(&#x27;num_pipeline&#x27;,\n",
       "                                                  Pipeline(steps=[(&#x27;impute&#x27;,\n",
       "                                                                   SimpleImputer()),\n",
       "                                                                  (&#x27;min_max_scale&#x27;,\n",
       "                                                                   MinMaxScaler()),\n",
       "                                                                  (&#x27;std_scale&#x27;,\n",
       "                                                                   StandardScaler())]),\n",
       "                                                  [&#x27;Age&#x27;, &#x27;Fare&#x27;]),\n",
       "                                                 (&#x27;num_pipeline_new&#x27;,\n",
       "                                                  Pipeline(steps=[(&#x27;impute2&#x27;,\n",
       "                                                                   SimpleImputer(strategy=&#x27;most_frequent&#x27;))]),\n",
       "                                                  [&#x27;Pclass&#x27;, &#x27;SibSp&#x27;, &#x27;Parch&#x27;]),\n",
       "                                                 (&#x27;cat_pipeline&#x27;,\n",
       "                                                  Pipeline(steps=[(&#x27;impute&#x27;,\n",
       "                                                                   SimpleImputer(strategy=&#x27;most_frequent&#x27;)),\n",
       "                                                                  (&#x27;one_hot&#x27;,\n",
       "                                                                   OneHotEncoder(handle_unknown=&#x27;ignore&#x27;,\n",
       "                                                                                 sparse=False))]),\n",
       "                                                  [&#x27;Sex&#x27;])])),\n",
       "                (&#x27;model&#x27;, LogisticRegression(random_state=42))])</pre></div></div></div><div class=\"sk-serial\"><div class=\"sk-item sk-dashed-wrapped\"><div class=\"sk-label-container\"><div class=\"sk-label sk-toggleable\"><input class=\"sk-toggleable__control sk-hidden--visually\" id=\"99d8e111-93ee-4b36-b534-ef90137289aa\" type=\"checkbox\" ><label for=\"99d8e111-93ee-4b36-b534-ef90137289aa\" class=\"sk-toggleable__label sk-toggleable__label-arrow\">col_trans2: ColumnTransformer</label><div class=\"sk-toggleable__content\"><pre>ColumnTransformer(n_jobs=-1,\n",
       "                  transformers=[(&#x27;num_pipeline&#x27;,\n",
       "                                 Pipeline(steps=[(&#x27;impute&#x27;, SimpleImputer()),\n",
       "                                                 (&#x27;min_max_scale&#x27;,\n",
       "                                                  MinMaxScaler()),\n",
       "                                                 (&#x27;std_scale&#x27;,\n",
       "                                                  StandardScaler())]),\n",
       "                                 [&#x27;Age&#x27;, &#x27;Fare&#x27;]),\n",
       "                                (&#x27;num_pipeline_new&#x27;,\n",
       "                                 Pipeline(steps=[(&#x27;impute2&#x27;,\n",
       "                                                  SimpleImputer(strategy=&#x27;most_frequent&#x27;))]),\n",
       "                                 [&#x27;Pclass&#x27;, &#x27;SibSp&#x27;, &#x27;Parch&#x27;]),\n",
       "                                (&#x27;cat_pipeline&#x27;,\n",
       "                                 Pipeline(steps=[(&#x27;impute&#x27;,\n",
       "                                                  SimpleImputer(strategy=&#x27;most_frequent&#x27;)),\n",
       "                                                 (&#x27;one_hot&#x27;,\n",
       "                                                  OneHotEncoder(handle_unknown=&#x27;ignore&#x27;,\n",
       "                                                                sparse=False))]),\n",
       "                                 [&#x27;Sex&#x27;])])</pre></div></div></div><div class=\"sk-parallel\"><div class=\"sk-parallel-item\"><div class=\"sk-item\"><div class=\"sk-label-container\"><div class=\"sk-label sk-toggleable\"><input class=\"sk-toggleable__control sk-hidden--visually\" id=\"a6be6160-f060-4394-9f30-c04ce89ab2a1\" type=\"checkbox\" ><label for=\"a6be6160-f060-4394-9f30-c04ce89ab2a1\" class=\"sk-toggleable__label sk-toggleable__label-arrow\">num_pipeline</label><div class=\"sk-toggleable__content\"><pre>[&#x27;Age&#x27;, &#x27;Fare&#x27;]</pre></div></div></div><div class=\"sk-serial\"><div class=\"sk-item\"><div class=\"sk-serial\"><div class=\"sk-item\"><div class=\"sk-estimator sk-toggleable\"><input class=\"sk-toggleable__control sk-hidden--visually\" id=\"50922430-ba3e-48f4-9104-c2f8630f59fe\" type=\"checkbox\" ><label for=\"50922430-ba3e-48f4-9104-c2f8630f59fe\" class=\"sk-toggleable__label sk-toggleable__label-arrow\">SimpleImputer</label><div class=\"sk-toggleable__content\"><pre>SimpleImputer()</pre></div></div></div><div class=\"sk-item\"><div class=\"sk-estimator sk-toggleable\"><input class=\"sk-toggleable__control sk-hidden--visually\" id=\"f88707dd-5be1-4f97-a7e0-f6efcab01d31\" type=\"checkbox\" ><label for=\"f88707dd-5be1-4f97-a7e0-f6efcab01d31\" class=\"sk-toggleable__label sk-toggleable__label-arrow\">MinMaxScaler</label><div class=\"sk-toggleable__content\"><pre>MinMaxScaler()</pre></div></div></div><div class=\"sk-item\"><div class=\"sk-estimator sk-toggleable\"><input class=\"sk-toggleable__control sk-hidden--visually\" id=\"bec015fc-09a8-43ae-8b5c-616b3649c2ee\" type=\"checkbox\" ><label for=\"bec015fc-09a8-43ae-8b5c-616b3649c2ee\" class=\"sk-toggleable__label sk-toggleable__label-arrow\">StandardScaler</label><div class=\"sk-toggleable__content\"><pre>StandardScaler()</pre></div></div></div></div></div></div></div></div><div class=\"sk-parallel-item\"><div class=\"sk-item\"><div class=\"sk-label-container\"><div class=\"sk-label sk-toggleable\"><input class=\"sk-toggleable__control sk-hidden--visually\" id=\"5a78ce06-b2fb-4f4a-ae4b-9fcdf4d6c689\" type=\"checkbox\" ><label for=\"5a78ce06-b2fb-4f4a-ae4b-9fcdf4d6c689\" class=\"sk-toggleable__label sk-toggleable__label-arrow\">num_pipeline_new</label><div class=\"sk-toggleable__content\"><pre>[&#x27;Pclass&#x27;, &#x27;SibSp&#x27;, &#x27;Parch&#x27;]</pre></div></div></div><div class=\"sk-serial\"><div class=\"sk-item\"><div class=\"sk-serial\"><div class=\"sk-item\"><div class=\"sk-estimator sk-toggleable\"><input class=\"sk-toggleable__control sk-hidden--visually\" id=\"bd4476e0-f6a5-4102-b8df-62c850547725\" type=\"checkbox\" ><label for=\"bd4476e0-f6a5-4102-b8df-62c850547725\" class=\"sk-toggleable__label sk-toggleable__label-arrow\">SimpleImputer</label><div class=\"sk-toggleable__content\"><pre>SimpleImputer(strategy=&#x27;most_frequent&#x27;)</pre></div></div></div></div></div></div></div></div><div class=\"sk-parallel-item\"><div class=\"sk-item\"><div class=\"sk-label-container\"><div class=\"sk-label sk-toggleable\"><input class=\"sk-toggleable__control sk-hidden--visually\" id=\"13b4257f-0b81-4f0c-9f3e-886908926e0b\" type=\"checkbox\" ><label for=\"13b4257f-0b81-4f0c-9f3e-886908926e0b\" class=\"sk-toggleable__label sk-toggleable__label-arrow\">cat_pipeline</label><div class=\"sk-toggleable__content\"><pre>[&#x27;Sex&#x27;]</pre></div></div></div><div class=\"sk-serial\"><div class=\"sk-item\"><div class=\"sk-serial\"><div class=\"sk-item\"><div class=\"sk-estimator sk-toggleable\"><input class=\"sk-toggleable__control sk-hidden--visually\" id=\"5d3b1193-d362-4210-ab97-212974e18b0c\" type=\"checkbox\" ><label for=\"5d3b1193-d362-4210-ab97-212974e18b0c\" class=\"sk-toggleable__label sk-toggleable__label-arrow\">SimpleImputer</label><div class=\"sk-toggleable__content\"><pre>SimpleImputer(strategy=&#x27;most_frequent&#x27;)</pre></div></div></div><div class=\"sk-item\"><div class=\"sk-estimator sk-toggleable\"><input class=\"sk-toggleable__control sk-hidden--visually\" id=\"b8bdd6f3-567c-4e85-8791-015bef2c4dcb\" type=\"checkbox\" ><label for=\"b8bdd6f3-567c-4e85-8791-015bef2c4dcb\" class=\"sk-toggleable__label sk-toggleable__label-arrow\">OneHotEncoder</label><div class=\"sk-toggleable__content\"><pre>OneHotEncoder(handle_unknown=&#x27;ignore&#x27;, sparse=False)</pre></div></div></div></div></div></div></div></div></div></div><div class=\"sk-item\"><div class=\"sk-estimator sk-toggleable\"><input class=\"sk-toggleable__control sk-hidden--visually\" id=\"843a8ec9-918a-4919-bf22-9ca3ab5fb1a6\" type=\"checkbox\" ><label for=\"843a8ec9-918a-4919-bf22-9ca3ab5fb1a6\" class=\"sk-toggleable__label sk-toggleable__label-arrow\">LogisticRegression</label><div class=\"sk-toggleable__content\"><pre>LogisticRegression(random_state=42)</pre></div></div></div></div></div></div></div>"
      ],
      "text/plain": [
       "Pipeline(steps=[('col_trans2',\n",
       "                 ColumnTransformer(n_jobs=-1,\n",
       "                                   transformers=[('num_pipeline',\n",
       "                                                  Pipeline(steps=[('impute',\n",
       "                                                                   SimpleImputer()),\n",
       "                                                                  ('min_max_scale',\n",
       "                                                                   MinMaxScaler()),\n",
       "                                                                  ('std_scale',\n",
       "                                                                   StandardScaler())]),\n",
       "                                                  ['Age', 'Fare']),\n",
       "                                                 ('num_pipeline_new',\n",
       "                                                  Pipeline(steps=[('impute2',\n",
       "                                                                   SimpleImputer(strategy='most_frequent'))]),\n",
       "                                                  ['Pclass', 'SibSp', 'Parch']),\n",
       "                                                 ('cat_pipeline',\n",
       "                                                  Pipeline(steps=[('impute',\n",
       "                                                                   SimpleImputer(strategy='most_frequent')),\n",
       "                                                                  ('one_hot',\n",
       "                                                                   OneHotEncoder(handle_unknown='ignore',\n",
       "                                                                                 sparse=False))]),\n",
       "                                                  ['Sex'])])),\n",
       "                ('model', LogisticRegression(random_state=42))])"
      ]
     },
     "metadata": {},
     "output_type": "display_data"
    }
   ],
   "source": [
    "display(clf_pipeline2)"
   ]
  },
  {
   "cell_type": "code",
   "execution_count": 36,
   "id": "762d370f",
   "metadata": {
    "execution": {
     "iopub.execute_input": "2023-10-16T19:58:22.085649Z",
     "iopub.status.busy": "2023-10-16T19:58:22.085259Z",
     "iopub.status.idle": "2023-10-16T19:58:22.116445Z",
     "shell.execute_reply": "2023-10-16T19:58:22.115617Z"
    },
    "papermill": {
     "duration": 0.051767,
     "end_time": "2023-10-16T19:58:22.118133",
     "exception": false,
     "start_time": "2023-10-16T19:58:22.066366",
     "status": "completed"
    },
    "tags": []
   },
   "outputs": [
    {
     "data": {
      "text/plain": [
       "{'memory': None,\n",
       " 'steps': [('col_trans2', ColumnTransformer(n_jobs=-1,\n",
       "                     transformers=[('num_pipeline',\n",
       "                                    Pipeline(steps=[('impute', SimpleImputer()),\n",
       "                                                    ('min_max_scale',\n",
       "                                                     MinMaxScaler()),\n",
       "                                                    ('std_scale',\n",
       "                                                     StandardScaler())]),\n",
       "                                    ['Age', 'Fare']),\n",
       "                                   ('num_pipeline_new',\n",
       "                                    Pipeline(steps=[('impute2',\n",
       "                                                     SimpleImputer(strategy='most_frequent'))]),\n",
       "                                    ['Pclass', 'SibSp', 'Parch']),\n",
       "                                   ('cat_pipeline',\n",
       "                                    Pipeline(steps=[('impute',\n",
       "                                                     SimpleImputer(strategy='most_frequent')),\n",
       "                                                    ('one_hot',\n",
       "                                                     OneHotEncoder(handle_unknown='ignore',\n",
       "                                                                   sparse=False))]),\n",
       "                                    ['Sex'])])),\n",
       "  ('model', LogisticRegression(random_state=42))],\n",
       " 'verbose': False,\n",
       " 'col_trans2': ColumnTransformer(n_jobs=-1,\n",
       "                   transformers=[('num_pipeline',\n",
       "                                  Pipeline(steps=[('impute', SimpleImputer()),\n",
       "                                                  ('min_max_scale',\n",
       "                                                   MinMaxScaler()),\n",
       "                                                  ('std_scale',\n",
       "                                                   StandardScaler())]),\n",
       "                                  ['Age', 'Fare']),\n",
       "                                 ('num_pipeline_new',\n",
       "                                  Pipeline(steps=[('impute2',\n",
       "                                                   SimpleImputer(strategy='most_frequent'))]),\n",
       "                                  ['Pclass', 'SibSp', 'Parch']),\n",
       "                                 ('cat_pipeline',\n",
       "                                  Pipeline(steps=[('impute',\n",
       "                                                   SimpleImputer(strategy='most_frequent')),\n",
       "                                                  ('one_hot',\n",
       "                                                   OneHotEncoder(handle_unknown='ignore',\n",
       "                                                                 sparse=False))]),\n",
       "                                  ['Sex'])]),\n",
       " 'model': LogisticRegression(random_state=42),\n",
       " 'col_trans2__n_jobs': -1,\n",
       " 'col_trans2__remainder': 'drop',\n",
       " 'col_trans2__sparse_threshold': 0.3,\n",
       " 'col_trans2__transformer_weights': None,\n",
       " 'col_trans2__transformers': [('num_pipeline',\n",
       "   Pipeline(steps=[('impute', SimpleImputer()), ('min_max_scale', MinMaxScaler()),\n",
       "                   ('std_scale', StandardScaler())]),\n",
       "   ['Age', 'Fare']),\n",
       "  ('num_pipeline_new',\n",
       "   Pipeline(steps=[('impute2', SimpleImputer(strategy='most_frequent'))]),\n",
       "   ['Pclass', 'SibSp', 'Parch']),\n",
       "  ('cat_pipeline',\n",
       "   Pipeline(steps=[('impute', SimpleImputer(strategy='most_frequent')),\n",
       "                   ('one_hot',\n",
       "                    OneHotEncoder(handle_unknown='ignore', sparse=False))]),\n",
       "   ['Sex'])],\n",
       " 'col_trans2__verbose': False,\n",
       " 'col_trans2__verbose_feature_names_out': True,\n",
       " 'col_trans2__num_pipeline': Pipeline(steps=[('impute', SimpleImputer()), ('min_max_scale', MinMaxScaler()),\n",
       "                 ('std_scale', StandardScaler())]),\n",
       " 'col_trans2__num_pipeline_new': Pipeline(steps=[('impute2', SimpleImputer(strategy='most_frequent'))]),\n",
       " 'col_trans2__cat_pipeline': Pipeline(steps=[('impute', SimpleImputer(strategy='most_frequent')),\n",
       "                 ('one_hot',\n",
       "                  OneHotEncoder(handle_unknown='ignore', sparse=False))]),\n",
       " 'col_trans2__num_pipeline__memory': None,\n",
       " 'col_trans2__num_pipeline__steps': [('impute', SimpleImputer()),\n",
       "  ('min_max_scale', MinMaxScaler()),\n",
       "  ('std_scale', StandardScaler())],\n",
       " 'col_trans2__num_pipeline__verbose': False,\n",
       " 'col_trans2__num_pipeline__impute': SimpleImputer(),\n",
       " 'col_trans2__num_pipeline__min_max_scale': MinMaxScaler(),\n",
       " 'col_trans2__num_pipeline__std_scale': StandardScaler(),\n",
       " 'col_trans2__num_pipeline__impute__add_indicator': False,\n",
       " 'col_trans2__num_pipeline__impute__copy': True,\n",
       " 'col_trans2__num_pipeline__impute__fill_value': None,\n",
       " 'col_trans2__num_pipeline__impute__missing_values': nan,\n",
       " 'col_trans2__num_pipeline__impute__strategy': 'mean',\n",
       " 'col_trans2__num_pipeline__impute__verbose': 0,\n",
       " 'col_trans2__num_pipeline__min_max_scale__clip': False,\n",
       " 'col_trans2__num_pipeline__min_max_scale__copy': True,\n",
       " 'col_trans2__num_pipeline__min_max_scale__feature_range': (0, 1),\n",
       " 'col_trans2__num_pipeline__std_scale__copy': True,\n",
       " 'col_trans2__num_pipeline__std_scale__with_mean': True,\n",
       " 'col_trans2__num_pipeline__std_scale__with_std': True,\n",
       " 'col_trans2__num_pipeline_new__memory': None,\n",
       " 'col_trans2__num_pipeline_new__steps': [('impute2',\n",
       "   SimpleImputer(strategy='most_frequent'))],\n",
       " 'col_trans2__num_pipeline_new__verbose': False,\n",
       " 'col_trans2__num_pipeline_new__impute2': SimpleImputer(strategy='most_frequent'),\n",
       " 'col_trans2__num_pipeline_new__impute2__add_indicator': False,\n",
       " 'col_trans2__num_pipeline_new__impute2__copy': True,\n",
       " 'col_trans2__num_pipeline_new__impute2__fill_value': None,\n",
       " 'col_trans2__num_pipeline_new__impute2__missing_values': nan,\n",
       " 'col_trans2__num_pipeline_new__impute2__strategy': 'most_frequent',\n",
       " 'col_trans2__num_pipeline_new__impute2__verbose': 0,\n",
       " 'col_trans2__cat_pipeline__memory': None,\n",
       " 'col_trans2__cat_pipeline__steps': [('impute',\n",
       "   SimpleImputer(strategy='most_frequent')),\n",
       "  ('one_hot', OneHotEncoder(handle_unknown='ignore', sparse=False))],\n",
       " 'col_trans2__cat_pipeline__verbose': False,\n",
       " 'col_trans2__cat_pipeline__impute': SimpleImputer(strategy='most_frequent'),\n",
       " 'col_trans2__cat_pipeline__one_hot': OneHotEncoder(handle_unknown='ignore', sparse=False),\n",
       " 'col_trans2__cat_pipeline__impute__add_indicator': False,\n",
       " 'col_trans2__cat_pipeline__impute__copy': True,\n",
       " 'col_trans2__cat_pipeline__impute__fill_value': None,\n",
       " 'col_trans2__cat_pipeline__impute__missing_values': nan,\n",
       " 'col_trans2__cat_pipeline__impute__strategy': 'most_frequent',\n",
       " 'col_trans2__cat_pipeline__impute__verbose': 0,\n",
       " 'col_trans2__cat_pipeline__one_hot__categories': 'auto',\n",
       " 'col_trans2__cat_pipeline__one_hot__drop': None,\n",
       " 'col_trans2__cat_pipeline__one_hot__dtype': numpy.float64,\n",
       " 'col_trans2__cat_pipeline__one_hot__handle_unknown': 'ignore',\n",
       " 'col_trans2__cat_pipeline__one_hot__sparse': False,\n",
       " 'model__C': 1.0,\n",
       " 'model__class_weight': None,\n",
       " 'model__dual': False,\n",
       " 'model__fit_intercept': True,\n",
       " 'model__intercept_scaling': 1,\n",
       " 'model__l1_ratio': None,\n",
       " 'model__max_iter': 100,\n",
       " 'model__multi_class': 'auto',\n",
       " 'model__n_jobs': None,\n",
       " 'model__penalty': 'l2',\n",
       " 'model__random_state': 42,\n",
       " 'model__solver': 'lbfgs',\n",
       " 'model__tol': 0.0001,\n",
       " 'model__verbose': 0,\n",
       " 'model__warm_start': False}"
      ]
     },
     "execution_count": 36,
     "metadata": {},
     "output_type": "execute_result"
    }
   ],
   "source": [
    "clf_pipeline2.get_params()"
   ]
  },
  {
   "cell_type": "markdown",
   "id": "ffd16150",
   "metadata": {
    "papermill": {
     "duration": 0.017514,
     "end_time": "2023-10-16T19:58:22.154622",
     "exception": false,
     "start_time": "2023-10-16T19:58:22.137108",
     "status": "completed"
    },
    "tags": []
   },
   "source": [
    "In grid search parameters, specify the steps you want to skip and set their value to passthrough.\n",
    "\n",
    "Since MinMaxScaler and StandardScaler should not perform at the same time, I will use a list of dictionaries for the grid search parameters.\n",
    "\n",
    "[{case 1},{case 2}]"
   ]
  },
  {
   "cell_type": "code",
   "execution_count": 37,
   "id": "7cc41a46",
   "metadata": {
    "execution": {
     "iopub.execute_input": "2023-10-16T19:58:22.195034Z",
     "iopub.status.busy": "2023-10-16T19:58:22.193711Z",
     "iopub.status.idle": "2023-10-16T19:58:22.610565Z",
     "shell.execute_reply": "2023-10-16T19:58:22.608912Z"
    },
    "papermill": {
     "duration": 0.439058,
     "end_time": "2023-10-16T19:58:22.612046",
     "exception": false,
     "start_time": "2023-10-16T19:58:22.172988",
     "status": "completed"
    },
    "tags": []
   },
   "outputs": [
    {
     "name": "stdout",
     "output_type": "stream",
     "text": [
      "best score of train set: 0.8019600118191667\n",
      "best params of train set: {'col_trans2__num_pipeline__min_max_scale': 'passthrough'}\n",
      "best score of test set: 0.7821229050279329\n"
     ]
    }
   ],
   "source": [
    "#below is list of dictionaries\n",
    "grid_step_params=[{'col_trans2__num_pipeline__min_max_scale':['passthrough']},{'col_trans2__num_pipeline__std_scale':['passthrough']}]\n",
    "gs2=GridSearchCV(clf_pipeline2,grid_step_params,cv=5,scoring='accuracy')\n",
    "gs2.fit(x_train,y_train)\n",
    "print(\"best score of train set:\",(gs2.best_score_))\n",
    "print(\"best params of train set:\",(gs2.best_params_))\n",
    "print(\"best score of test set:\",(gs2.score(x_test,y_test)))"
   ]
  },
  {
   "cell_type": "markdown",
   "id": "25c0ba3b",
   "metadata": {
    "papermill": {
     "duration": 0.019808,
     "end_time": "2023-10-16T19:58:22.651822",
     "exception": false,
     "start_time": "2023-10-16T19:58:22.632014",
     "status": "completed"
    },
    "tags": []
   },
   "source": [
    "After Parameter tuning we got accuracy of 78.77% on test data with using StandardScaler\n",
    "\n",
    "The best case is minmax_scale : ‘passthrough’, so StandardScaler is the best scaling method for this data."
   ]
  },
  {
   "cell_type": "markdown",
   "id": "b6d3ef4f",
   "metadata": {
    "papermill": {
     "duration": 0.017442,
     "end_time": "2023-10-16T19:58:22.687654",
     "exception": false,
     "start_time": "2023-10-16T19:58:22.670212",
     "status": "completed"
    },
    "tags": []
   },
   "source": [
    "**You can find the best hyperparameter sets and the best data preparation method by adding tuning parameters to the dictionary of each case of the data preparation method.**"
   ]
  },
  {
   "cell_type": "code",
   "execution_count": 38,
   "id": "bc284ca2",
   "metadata": {
    "execution": {
     "iopub.execute_input": "2023-10-16T19:58:22.727374Z",
     "iopub.status.busy": "2023-10-16T19:58:22.727011Z",
     "iopub.status.idle": "2023-10-16T19:58:22.732813Z",
     "shell.execute_reply": "2023-10-16T19:58:22.731677Z"
    },
    "papermill": {
     "duration": 0.027415,
     "end_time": "2023-10-16T19:58:22.734984",
     "exception": false,
     "start_time": "2023-10-16T19:58:22.707569",
     "status": "completed"
    },
    "tags": []
   },
   "outputs": [],
   "source": [
    "grid_params={'model__penalty': ['none','l2','l1'],\n",
    "             'model__C':np.logspace(-4,4,20)               \n",
    "}\n",
    "grid_step_params2=[{**{'col_trans2__num_pipeline__min_max_scale':['passthrough']},**grid_params},{**{'col_trans2__num_pipeline__std_scale':['passthrough']},**grid_params}]\n"
   ]
  },
  {
   "cell_type": "code",
   "execution_count": 39,
   "id": "0d664fe4",
   "metadata": {
    "execution": {
     "iopub.execute_input": "2023-10-16T19:58:22.774217Z",
     "iopub.status.busy": "2023-10-16T19:58:22.773896Z",
     "iopub.status.idle": "2023-10-16T19:58:40.665046Z",
     "shell.execute_reply": "2023-10-16T19:58:40.663358Z"
    },
    "papermill": {
     "duration": 17.91274,
     "end_time": "2023-10-16T19:58:40.666889",
     "exception": false,
     "start_time": "2023-10-16T19:58:22.754149",
     "status": "completed"
    },
    "tags": []
   },
   "outputs": [
    {
     "name": "stderr",
     "output_type": "stream",
     "text": [
      "C:\\Users\\DIVYA CHITRANSH\\anaconda3\\lib\\site-packages\\sklearn\\linear_model\\_logistic.py:1483: UserWarning: Setting penalty='none' will ignore the C and l1_ratio parameters\n",
      "  warnings.warn(\n",
      "C:\\Users\\DIVYA CHITRANSH\\anaconda3\\lib\\site-packages\\sklearn\\linear_model\\_logistic.py:1483: UserWarning: Setting penalty='none' will ignore the C and l1_ratio parameters\n",
      "  warnings.warn(\n",
      "C:\\Users\\DIVYA CHITRANSH\\anaconda3\\lib\\site-packages\\sklearn\\linear_model\\_logistic.py:1483: UserWarning: Setting penalty='none' will ignore the C and l1_ratio parameters\n",
      "  warnings.warn(\n",
      "C:\\Users\\DIVYA CHITRANSH\\anaconda3\\lib\\site-packages\\sklearn\\linear_model\\_logistic.py:1483: UserWarning: Setting penalty='none' will ignore the C and l1_ratio parameters\n",
      "  warnings.warn(\n",
      "C:\\Users\\DIVYA CHITRANSH\\anaconda3\\lib\\site-packages\\sklearn\\linear_model\\_logistic.py:1483: UserWarning: Setting penalty='none' will ignore the C and l1_ratio parameters\n",
      "  warnings.warn(\n",
      "C:\\Users\\DIVYA CHITRANSH\\anaconda3\\lib\\site-packages\\sklearn\\linear_model\\_logistic.py:1483: UserWarning: Setting penalty='none' will ignore the C and l1_ratio parameters\n",
      "  warnings.warn(\n",
      "C:\\Users\\DIVYA CHITRANSH\\anaconda3\\lib\\site-packages\\sklearn\\linear_model\\_logistic.py:1483: UserWarning: Setting penalty='none' will ignore the C and l1_ratio parameters\n",
      "  warnings.warn(\n",
      "C:\\Users\\DIVYA CHITRANSH\\anaconda3\\lib\\site-packages\\sklearn\\linear_model\\_logistic.py:1483: UserWarning: Setting penalty='none' will ignore the C and l1_ratio parameters\n",
      "  warnings.warn(\n",
      "C:\\Users\\DIVYA CHITRANSH\\anaconda3\\lib\\site-packages\\sklearn\\linear_model\\_logistic.py:1483: UserWarning: Setting penalty='none' will ignore the C and l1_ratio parameters\n",
      "  warnings.warn(\n",
      "C:\\Users\\DIVYA CHITRANSH\\anaconda3\\lib\\site-packages\\sklearn\\linear_model\\_logistic.py:1483: UserWarning: Setting penalty='none' will ignore the C and l1_ratio parameters\n",
      "  warnings.warn(\n",
      "C:\\Users\\DIVYA CHITRANSH\\anaconda3\\lib\\site-packages\\sklearn\\linear_model\\_logistic.py:1483: UserWarning: Setting penalty='none' will ignore the C and l1_ratio parameters\n",
      "  warnings.warn(\n",
      "C:\\Users\\DIVYA CHITRANSH\\anaconda3\\lib\\site-packages\\sklearn\\linear_model\\_logistic.py:1483: UserWarning: Setting penalty='none' will ignore the C and l1_ratio parameters\n",
      "  warnings.warn(\n",
      "C:\\Users\\DIVYA CHITRANSH\\anaconda3\\lib\\site-packages\\sklearn\\linear_model\\_logistic.py:1483: UserWarning: Setting penalty='none' will ignore the C and l1_ratio parameters\n",
      "  warnings.warn(\n",
      "C:\\Users\\DIVYA CHITRANSH\\anaconda3\\lib\\site-packages\\sklearn\\linear_model\\_logistic.py:1483: UserWarning: Setting penalty='none' will ignore the C and l1_ratio parameters\n",
      "  warnings.warn(\n",
      "C:\\Users\\DIVYA CHITRANSH\\anaconda3\\lib\\site-packages\\sklearn\\linear_model\\_logistic.py:1483: UserWarning: Setting penalty='none' will ignore the C and l1_ratio parameters\n",
      "  warnings.warn(\n",
      "C:\\Users\\DIVYA CHITRANSH\\anaconda3\\lib\\site-packages\\sklearn\\linear_model\\_logistic.py:1483: UserWarning: Setting penalty='none' will ignore the C and l1_ratio parameters\n",
      "  warnings.warn(\n",
      "C:\\Users\\DIVYA CHITRANSH\\anaconda3\\lib\\site-packages\\sklearn\\linear_model\\_logistic.py:1483: UserWarning: Setting penalty='none' will ignore the C and l1_ratio parameters\n",
      "  warnings.warn(\n",
      "C:\\Users\\DIVYA CHITRANSH\\anaconda3\\lib\\site-packages\\sklearn\\linear_model\\_logistic.py:1483: UserWarning: Setting penalty='none' will ignore the C and l1_ratio parameters\n",
      "  warnings.warn(\n",
      "C:\\Users\\DIVYA CHITRANSH\\anaconda3\\lib\\site-packages\\sklearn\\linear_model\\_logistic.py:1483: UserWarning: Setting penalty='none' will ignore the C and l1_ratio parameters\n",
      "  warnings.warn(\n",
      "C:\\Users\\DIVYA CHITRANSH\\anaconda3\\lib\\site-packages\\sklearn\\linear_model\\_logistic.py:1483: UserWarning: Setting penalty='none' will ignore the C and l1_ratio parameters\n",
      "  warnings.warn(\n",
      "C:\\Users\\DIVYA CHITRANSH\\anaconda3\\lib\\site-packages\\sklearn\\linear_model\\_logistic.py:1483: UserWarning: Setting penalty='none' will ignore the C and l1_ratio parameters\n",
      "  warnings.warn(\n",
      "C:\\Users\\DIVYA CHITRANSH\\anaconda3\\lib\\site-packages\\sklearn\\linear_model\\_logistic.py:1483: UserWarning: Setting penalty='none' will ignore the C and l1_ratio parameters\n",
      "  warnings.warn(\n",
      "C:\\Users\\DIVYA CHITRANSH\\anaconda3\\lib\\site-packages\\sklearn\\linear_model\\_logistic.py:1483: UserWarning: Setting penalty='none' will ignore the C and l1_ratio parameters\n",
      "  warnings.warn(\n",
      "C:\\Users\\DIVYA CHITRANSH\\anaconda3\\lib\\site-packages\\sklearn\\linear_model\\_logistic.py:1483: UserWarning: Setting penalty='none' will ignore the C and l1_ratio parameters\n",
      "  warnings.warn(\n",
      "C:\\Users\\DIVYA CHITRANSH\\anaconda3\\lib\\site-packages\\sklearn\\linear_model\\_logistic.py:1483: UserWarning: Setting penalty='none' will ignore the C and l1_ratio parameters\n",
      "  warnings.warn(\n",
      "C:\\Users\\DIVYA CHITRANSH\\anaconda3\\lib\\site-packages\\sklearn\\linear_model\\_logistic.py:1483: UserWarning: Setting penalty='none' will ignore the C and l1_ratio parameters\n",
      "  warnings.warn(\n",
      "C:\\Users\\DIVYA CHITRANSH\\anaconda3\\lib\\site-packages\\sklearn\\linear_model\\_logistic.py:1483: UserWarning: Setting penalty='none' will ignore the C and l1_ratio parameters\n",
      "  warnings.warn(\n",
      "C:\\Users\\DIVYA CHITRANSH\\anaconda3\\lib\\site-packages\\sklearn\\linear_model\\_logistic.py:1483: UserWarning: Setting penalty='none' will ignore the C and l1_ratio parameters\n",
      "  warnings.warn(\n",
      "C:\\Users\\DIVYA CHITRANSH\\anaconda3\\lib\\site-packages\\sklearn\\linear_model\\_logistic.py:1483: UserWarning: Setting penalty='none' will ignore the C and l1_ratio parameters\n",
      "  warnings.warn(\n",
      "C:\\Users\\DIVYA CHITRANSH\\anaconda3\\lib\\site-packages\\sklearn\\linear_model\\_logistic.py:1483: UserWarning: Setting penalty='none' will ignore the C and l1_ratio parameters\n",
      "  warnings.warn(\n",
      "C:\\Users\\DIVYA CHITRANSH\\anaconda3\\lib\\site-packages\\sklearn\\linear_model\\_logistic.py:1483: UserWarning: Setting penalty='none' will ignore the C and l1_ratio parameters\n",
      "  warnings.warn(\n",
      "C:\\Users\\DIVYA CHITRANSH\\anaconda3\\lib\\site-packages\\sklearn\\linear_model\\_logistic.py:1483: UserWarning: Setting penalty='none' will ignore the C and l1_ratio parameters\n",
      "  warnings.warn(\n",
      "C:\\Users\\DIVYA CHITRANSH\\anaconda3\\lib\\site-packages\\sklearn\\linear_model\\_logistic.py:1483: UserWarning: Setting penalty='none' will ignore the C and l1_ratio parameters\n",
      "  warnings.warn(\n",
      "C:\\Users\\DIVYA CHITRANSH\\anaconda3\\lib\\site-packages\\sklearn\\linear_model\\_logistic.py:1483: UserWarning: Setting penalty='none' will ignore the C and l1_ratio parameters\n",
      "  warnings.warn(\n",
      "C:\\Users\\DIVYA CHITRANSH\\anaconda3\\lib\\site-packages\\sklearn\\linear_model\\_logistic.py:1483: UserWarning: Setting penalty='none' will ignore the C and l1_ratio parameters\n",
      "  warnings.warn(\n",
      "C:\\Users\\DIVYA CHITRANSH\\anaconda3\\lib\\site-packages\\sklearn\\linear_model\\_logistic.py:1483: UserWarning: Setting penalty='none' will ignore the C and l1_ratio parameters\n",
      "  warnings.warn(\n",
      "C:\\Users\\DIVYA CHITRANSH\\anaconda3\\lib\\site-packages\\sklearn\\linear_model\\_logistic.py:1483: UserWarning: Setting penalty='none' will ignore the C and l1_ratio parameters\n",
      "  warnings.warn(\n",
      "C:\\Users\\DIVYA CHITRANSH\\anaconda3\\lib\\site-packages\\sklearn\\linear_model\\_logistic.py:1483: UserWarning: Setting penalty='none' will ignore the C and l1_ratio parameters\n",
      "  warnings.warn(\n",
      "C:\\Users\\DIVYA CHITRANSH\\anaconda3\\lib\\site-packages\\sklearn\\linear_model\\_logistic.py:1483: UserWarning: Setting penalty='none' will ignore the C and l1_ratio parameters\n",
      "  warnings.warn(\n",
      "C:\\Users\\DIVYA CHITRANSH\\anaconda3\\lib\\site-packages\\sklearn\\linear_model\\_logistic.py:1483: UserWarning: Setting penalty='none' will ignore the C and l1_ratio parameters\n",
      "  warnings.warn(\n",
      "C:\\Users\\DIVYA CHITRANSH\\anaconda3\\lib\\site-packages\\sklearn\\linear_model\\_logistic.py:1483: UserWarning: Setting penalty='none' will ignore the C and l1_ratio parameters\n",
      "  warnings.warn(\n",
      "C:\\Users\\DIVYA CHITRANSH\\anaconda3\\lib\\site-packages\\sklearn\\linear_model\\_logistic.py:1483: UserWarning: Setting penalty='none' will ignore the C and l1_ratio parameters\n",
      "  warnings.warn(\n",
      "C:\\Users\\DIVYA CHITRANSH\\anaconda3\\lib\\site-packages\\sklearn\\linear_model\\_logistic.py:1483: UserWarning: Setting penalty='none' will ignore the C and l1_ratio parameters\n",
      "  warnings.warn(\n",
      "C:\\Users\\DIVYA CHITRANSH\\anaconda3\\lib\\site-packages\\sklearn\\linear_model\\_logistic.py:1483: UserWarning: Setting penalty='none' will ignore the C and l1_ratio parameters\n",
      "  warnings.warn(\n",
      "C:\\Users\\DIVYA CHITRANSH\\anaconda3\\lib\\site-packages\\sklearn\\linear_model\\_logistic.py:1483: UserWarning: Setting penalty='none' will ignore the C and l1_ratio parameters\n",
      "  warnings.warn(\n",
      "C:\\Users\\DIVYA CHITRANSH\\anaconda3\\lib\\site-packages\\sklearn\\linear_model\\_logistic.py:1483: UserWarning: Setting penalty='none' will ignore the C and l1_ratio parameters\n",
      "  warnings.warn(\n",
      "C:\\Users\\DIVYA CHITRANSH\\anaconda3\\lib\\site-packages\\sklearn\\linear_model\\_logistic.py:1483: UserWarning: Setting penalty='none' will ignore the C and l1_ratio parameters\n",
      "  warnings.warn(\n",
      "C:\\Users\\DIVYA CHITRANSH\\anaconda3\\lib\\site-packages\\sklearn\\linear_model\\_logistic.py:1483: UserWarning: Setting penalty='none' will ignore the C and l1_ratio parameters\n",
      "  warnings.warn(\n",
      "C:\\Users\\DIVYA CHITRANSH\\anaconda3\\lib\\site-packages\\sklearn\\linear_model\\_logistic.py:1483: UserWarning: Setting penalty='none' will ignore the C and l1_ratio parameters\n",
      "  warnings.warn(\n",
      "C:\\Users\\DIVYA CHITRANSH\\anaconda3\\lib\\site-packages\\sklearn\\linear_model\\_logistic.py:1483: UserWarning: Setting penalty='none' will ignore the C and l1_ratio parameters\n",
      "  warnings.warn(\n",
      "C:\\Users\\DIVYA CHITRANSH\\anaconda3\\lib\\site-packages\\sklearn\\linear_model\\_logistic.py:1483: UserWarning: Setting penalty='none' will ignore the C and l1_ratio parameters\n",
      "  warnings.warn(\n",
      "C:\\Users\\DIVYA CHITRANSH\\anaconda3\\lib\\site-packages\\sklearn\\linear_model\\_logistic.py:1483: UserWarning: Setting penalty='none' will ignore the C and l1_ratio parameters\n",
      "  warnings.warn(\n",
      "C:\\Users\\DIVYA CHITRANSH\\anaconda3\\lib\\site-packages\\sklearn\\linear_model\\_logistic.py:1483: UserWarning: Setting penalty='none' will ignore the C and l1_ratio parameters\n",
      "  warnings.warn(\n",
      "C:\\Users\\DIVYA CHITRANSH\\anaconda3\\lib\\site-packages\\sklearn\\linear_model\\_logistic.py:1483: UserWarning: Setting penalty='none' will ignore the C and l1_ratio parameters\n",
      "  warnings.warn(\n",
      "C:\\Users\\DIVYA CHITRANSH\\anaconda3\\lib\\site-packages\\sklearn\\linear_model\\_logistic.py:1483: UserWarning: Setting penalty='none' will ignore the C and l1_ratio parameters\n",
      "  warnings.warn(\n",
      "C:\\Users\\DIVYA CHITRANSH\\anaconda3\\lib\\site-packages\\sklearn\\linear_model\\_logistic.py:1483: UserWarning: Setting penalty='none' will ignore the C and l1_ratio parameters\n",
      "  warnings.warn(\n",
      "C:\\Users\\DIVYA CHITRANSH\\anaconda3\\lib\\site-packages\\sklearn\\linear_model\\_logistic.py:1483: UserWarning: Setting penalty='none' will ignore the C and l1_ratio parameters\n",
      "  warnings.warn(\n",
      "C:\\Users\\DIVYA CHITRANSH\\anaconda3\\lib\\site-packages\\sklearn\\linear_model\\_logistic.py:1483: UserWarning: Setting penalty='none' will ignore the C and l1_ratio parameters\n",
      "  warnings.warn(\n",
      "C:\\Users\\DIVYA CHITRANSH\\anaconda3\\lib\\site-packages\\sklearn\\linear_model\\_logistic.py:1483: UserWarning: Setting penalty='none' will ignore the C and l1_ratio parameters\n",
      "  warnings.warn(\n",
      "C:\\Users\\DIVYA CHITRANSH\\anaconda3\\lib\\site-packages\\sklearn\\linear_model\\_logistic.py:1483: UserWarning: Setting penalty='none' will ignore the C and l1_ratio parameters\n",
      "  warnings.warn(\n",
      "C:\\Users\\DIVYA CHITRANSH\\anaconda3\\lib\\site-packages\\sklearn\\linear_model\\_logistic.py:1483: UserWarning: Setting penalty='none' will ignore the C and l1_ratio parameters\n",
      "  warnings.warn(\n",
      "C:\\Users\\DIVYA CHITRANSH\\anaconda3\\lib\\site-packages\\sklearn\\linear_model\\_logistic.py:1483: UserWarning: Setting penalty='none' will ignore the C and l1_ratio parameters\n",
      "  warnings.warn(\n",
      "C:\\Users\\DIVYA CHITRANSH\\anaconda3\\lib\\site-packages\\sklearn\\linear_model\\_logistic.py:1483: UserWarning: Setting penalty='none' will ignore the C and l1_ratio parameters\n",
      "  warnings.warn(\n",
      "C:\\Users\\DIVYA CHITRANSH\\anaconda3\\lib\\site-packages\\sklearn\\linear_model\\_logistic.py:1483: UserWarning: Setting penalty='none' will ignore the C and l1_ratio parameters\n",
      "  warnings.warn(\n",
      "C:\\Users\\DIVYA CHITRANSH\\anaconda3\\lib\\site-packages\\sklearn\\linear_model\\_logistic.py:1483: UserWarning: Setting penalty='none' will ignore the C and l1_ratio parameters\n",
      "  warnings.warn(\n",
      "C:\\Users\\DIVYA CHITRANSH\\anaconda3\\lib\\site-packages\\sklearn\\linear_model\\_logistic.py:1483: UserWarning: Setting penalty='none' will ignore the C and l1_ratio parameters\n",
      "  warnings.warn(\n",
      "C:\\Users\\DIVYA CHITRANSH\\anaconda3\\lib\\site-packages\\sklearn\\linear_model\\_logistic.py:1483: UserWarning: Setting penalty='none' will ignore the C and l1_ratio parameters\n",
      "  warnings.warn(\n",
      "C:\\Users\\DIVYA CHITRANSH\\anaconda3\\lib\\site-packages\\sklearn\\linear_model\\_logistic.py:1483: UserWarning: Setting penalty='none' will ignore the C and l1_ratio parameters\n",
      "  warnings.warn(\n",
      "C:\\Users\\DIVYA CHITRANSH\\anaconda3\\lib\\site-packages\\sklearn\\linear_model\\_logistic.py:1483: UserWarning: Setting penalty='none' will ignore the C and l1_ratio parameters\n",
      "  warnings.warn(\n",
      "C:\\Users\\DIVYA CHITRANSH\\anaconda3\\lib\\site-packages\\sklearn\\linear_model\\_logistic.py:1483: UserWarning: Setting penalty='none' will ignore the C and l1_ratio parameters\n",
      "  warnings.warn(\n",
      "C:\\Users\\DIVYA CHITRANSH\\anaconda3\\lib\\site-packages\\sklearn\\linear_model\\_logistic.py:1483: UserWarning: Setting penalty='none' will ignore the C and l1_ratio parameters\n",
      "  warnings.warn(\n",
      "C:\\Users\\DIVYA CHITRANSH\\anaconda3\\lib\\site-packages\\sklearn\\linear_model\\_logistic.py:1483: UserWarning: Setting penalty='none' will ignore the C and l1_ratio parameters\n",
      "  warnings.warn(\n",
      "C:\\Users\\DIVYA CHITRANSH\\anaconda3\\lib\\site-packages\\sklearn\\linear_model\\_logistic.py:1483: UserWarning: Setting penalty='none' will ignore the C and l1_ratio parameters\n",
      "  warnings.warn(\n",
      "C:\\Users\\DIVYA CHITRANSH\\anaconda3\\lib\\site-packages\\sklearn\\linear_model\\_logistic.py:1483: UserWarning: Setting penalty='none' will ignore the C and l1_ratio parameters\n",
      "  warnings.warn(\n",
      "C:\\Users\\DIVYA CHITRANSH\\anaconda3\\lib\\site-packages\\sklearn\\linear_model\\_logistic.py:1483: UserWarning: Setting penalty='none' will ignore the C and l1_ratio parameters\n",
      "  warnings.warn(\n",
      "C:\\Users\\DIVYA CHITRANSH\\anaconda3\\lib\\site-packages\\sklearn\\linear_model\\_logistic.py:1483: UserWarning: Setting penalty='none' will ignore the C and l1_ratio parameters\n",
      "  warnings.warn(\n",
      "C:\\Users\\DIVYA CHITRANSH\\anaconda3\\lib\\site-packages\\sklearn\\linear_model\\_logistic.py:1483: UserWarning: Setting penalty='none' will ignore the C and l1_ratio parameters\n",
      "  warnings.warn(\n",
      "C:\\Users\\DIVYA CHITRANSH\\anaconda3\\lib\\site-packages\\sklearn\\linear_model\\_logistic.py:1483: UserWarning: Setting penalty='none' will ignore the C and l1_ratio parameters\n",
      "  warnings.warn(\n",
      "C:\\Users\\DIVYA CHITRANSH\\anaconda3\\lib\\site-packages\\sklearn\\linear_model\\_logistic.py:1483: UserWarning: Setting penalty='none' will ignore the C and l1_ratio parameters\n",
      "  warnings.warn(\n",
      "C:\\Users\\DIVYA CHITRANSH\\anaconda3\\lib\\site-packages\\sklearn\\linear_model\\_logistic.py:1483: UserWarning: Setting penalty='none' will ignore the C and l1_ratio parameters\n",
      "  warnings.warn(\n",
      "C:\\Users\\DIVYA CHITRANSH\\anaconda3\\lib\\site-packages\\sklearn\\linear_model\\_logistic.py:1483: UserWarning: Setting penalty='none' will ignore the C and l1_ratio parameters\n",
      "  warnings.warn(\n",
      "C:\\Users\\DIVYA CHITRANSH\\anaconda3\\lib\\site-packages\\sklearn\\linear_model\\_logistic.py:1483: UserWarning: Setting penalty='none' will ignore the C and l1_ratio parameters\n",
      "  warnings.warn(\n",
      "C:\\Users\\DIVYA CHITRANSH\\anaconda3\\lib\\site-packages\\sklearn\\linear_model\\_logistic.py:1483: UserWarning: Setting penalty='none' will ignore the C and l1_ratio parameters\n",
      "  warnings.warn(\n",
      "C:\\Users\\DIVYA CHITRANSH\\anaconda3\\lib\\site-packages\\sklearn\\linear_model\\_logistic.py:1483: UserWarning: Setting penalty='none' will ignore the C and l1_ratio parameters\n",
      "  warnings.warn(\n",
      "C:\\Users\\DIVYA CHITRANSH\\anaconda3\\lib\\site-packages\\sklearn\\linear_model\\_logistic.py:1483: UserWarning: Setting penalty='none' will ignore the C and l1_ratio parameters\n",
      "  warnings.warn(\n",
      "C:\\Users\\DIVYA CHITRANSH\\anaconda3\\lib\\site-packages\\sklearn\\linear_model\\_logistic.py:1483: UserWarning: Setting penalty='none' will ignore the C and l1_ratio parameters\n",
      "  warnings.warn(\n",
      "C:\\Users\\DIVYA CHITRANSH\\anaconda3\\lib\\site-packages\\sklearn\\linear_model\\_logistic.py:1483: UserWarning: Setting penalty='none' will ignore the C and l1_ratio parameters\n",
      "  warnings.warn(\n",
      "C:\\Users\\DIVYA CHITRANSH\\anaconda3\\lib\\site-packages\\sklearn\\linear_model\\_logistic.py:1483: UserWarning: Setting penalty='none' will ignore the C and l1_ratio parameters\n",
      "  warnings.warn(\n",
      "C:\\Users\\DIVYA CHITRANSH\\anaconda3\\lib\\site-packages\\sklearn\\linear_model\\_logistic.py:1483: UserWarning: Setting penalty='none' will ignore the C and l1_ratio parameters\n",
      "  warnings.warn(\n",
      "C:\\Users\\DIVYA CHITRANSH\\anaconda3\\lib\\site-packages\\sklearn\\linear_model\\_logistic.py:1483: UserWarning: Setting penalty='none' will ignore the C and l1_ratio parameters\n",
      "  warnings.warn(\n",
      "C:\\Users\\DIVYA CHITRANSH\\anaconda3\\lib\\site-packages\\sklearn\\linear_model\\_logistic.py:1483: UserWarning: Setting penalty='none' will ignore the C and l1_ratio parameters\n",
      "  warnings.warn(\n",
      "C:\\Users\\DIVYA CHITRANSH\\anaconda3\\lib\\site-packages\\sklearn\\linear_model\\_logistic.py:1483: UserWarning: Setting penalty='none' will ignore the C and l1_ratio parameters\n",
      "  warnings.warn(\n",
      "C:\\Users\\DIVYA CHITRANSH\\anaconda3\\lib\\site-packages\\sklearn\\linear_model\\_logistic.py:1483: UserWarning: Setting penalty='none' will ignore the C and l1_ratio parameters\n",
      "  warnings.warn(\n",
      "C:\\Users\\DIVYA CHITRANSH\\anaconda3\\lib\\site-packages\\sklearn\\linear_model\\_logistic.py:1483: UserWarning: Setting penalty='none' will ignore the C and l1_ratio parameters\n",
      "  warnings.warn(\n",
      "C:\\Users\\DIVYA CHITRANSH\\anaconda3\\lib\\site-packages\\sklearn\\linear_model\\_logistic.py:1483: UserWarning: Setting penalty='none' will ignore the C and l1_ratio parameters\n",
      "  warnings.warn(\n",
      "C:\\Users\\DIVYA CHITRANSH\\anaconda3\\lib\\site-packages\\sklearn\\linear_model\\_logistic.py:1483: UserWarning: Setting penalty='none' will ignore the C and l1_ratio parameters\n",
      "  warnings.warn(\n",
      "C:\\Users\\DIVYA CHITRANSH\\anaconda3\\lib\\site-packages\\sklearn\\linear_model\\_logistic.py:1483: UserWarning: Setting penalty='none' will ignore the C and l1_ratio parameters\n",
      "  warnings.warn(\n",
      "C:\\Users\\DIVYA CHITRANSH\\anaconda3\\lib\\site-packages\\sklearn\\linear_model\\_logistic.py:1483: UserWarning: Setting penalty='none' will ignore the C and l1_ratio parameters\n",
      "  warnings.warn(\n",
      "C:\\Users\\DIVYA CHITRANSH\\anaconda3\\lib\\site-packages\\sklearn\\linear_model\\_logistic.py:1483: UserWarning: Setting penalty='none' will ignore the C and l1_ratio parameters\n",
      "  warnings.warn(\n",
      "C:\\Users\\DIVYA CHITRANSH\\anaconda3\\lib\\site-packages\\sklearn\\linear_model\\_logistic.py:1483: UserWarning: Setting penalty='none' will ignore the C and l1_ratio parameters\n",
      "  warnings.warn(\n",
      "C:\\Users\\DIVYA CHITRANSH\\anaconda3\\lib\\site-packages\\sklearn\\linear_model\\_logistic.py:1483: UserWarning: Setting penalty='none' will ignore the C and l1_ratio parameters\n",
      "  warnings.warn(\n",
      "C:\\Users\\DIVYA CHITRANSH\\anaconda3\\lib\\site-packages\\sklearn\\linear_model\\_logistic.py:1483: UserWarning: Setting penalty='none' will ignore the C and l1_ratio parameters\n",
      "  warnings.warn(\n",
      "C:\\Users\\DIVYA CHITRANSH\\anaconda3\\lib\\site-packages\\sklearn\\linear_model\\_logistic.py:1483: UserWarning: Setting penalty='none' will ignore the C and l1_ratio parameters\n",
      "  warnings.warn(\n",
      "C:\\Users\\DIVYA CHITRANSH\\anaconda3\\lib\\site-packages\\sklearn\\linear_model\\_logistic.py:1483: UserWarning: Setting penalty='none' will ignore the C and l1_ratio parameters\n",
      "  warnings.warn(\n",
      "C:\\Users\\DIVYA CHITRANSH\\anaconda3\\lib\\site-packages\\sklearn\\linear_model\\_logistic.py:1483: UserWarning: Setting penalty='none' will ignore the C and l1_ratio parameters\n",
      "  warnings.warn(\n",
      "C:\\Users\\DIVYA CHITRANSH\\anaconda3\\lib\\site-packages\\sklearn\\linear_model\\_logistic.py:1483: UserWarning: Setting penalty='none' will ignore the C and l1_ratio parameters\n",
      "  warnings.warn(\n",
      "C:\\Users\\DIVYA CHITRANSH\\anaconda3\\lib\\site-packages\\sklearn\\linear_model\\_logistic.py:1483: UserWarning: Setting penalty='none' will ignore the C and l1_ratio parameters\n",
      "  warnings.warn(\n",
      "C:\\Users\\DIVYA CHITRANSH\\anaconda3\\lib\\site-packages\\sklearn\\linear_model\\_logistic.py:1483: UserWarning: Setting penalty='none' will ignore the C and l1_ratio parameters\n",
      "  warnings.warn(\n",
      "C:\\Users\\DIVYA CHITRANSH\\anaconda3\\lib\\site-packages\\sklearn\\linear_model\\_logistic.py:1483: UserWarning: Setting penalty='none' will ignore the C and l1_ratio parameters\n",
      "  warnings.warn(\n",
      "C:\\Users\\DIVYA CHITRANSH\\anaconda3\\lib\\site-packages\\sklearn\\linear_model\\_logistic.py:1483: UserWarning: Setting penalty='none' will ignore the C and l1_ratio parameters\n",
      "  warnings.warn(\n",
      "C:\\Users\\DIVYA CHITRANSH\\anaconda3\\lib\\site-packages\\sklearn\\linear_model\\_logistic.py:1483: UserWarning: Setting penalty='none' will ignore the C and l1_ratio parameters\n",
      "  warnings.warn(\n",
      "C:\\Users\\DIVYA CHITRANSH\\anaconda3\\lib\\site-packages\\sklearn\\linear_model\\_logistic.py:1483: UserWarning: Setting penalty='none' will ignore the C and l1_ratio parameters\n",
      "  warnings.warn(\n",
      "C:\\Users\\DIVYA CHITRANSH\\anaconda3\\lib\\site-packages\\sklearn\\linear_model\\_logistic.py:1483: UserWarning: Setting penalty='none' will ignore the C and l1_ratio parameters\n",
      "  warnings.warn(\n",
      "C:\\Users\\DIVYA CHITRANSH\\anaconda3\\lib\\site-packages\\sklearn\\linear_model\\_logistic.py:1483: UserWarning: Setting penalty='none' will ignore the C and l1_ratio parameters\n",
      "  warnings.warn(\n",
      "C:\\Users\\DIVYA CHITRANSH\\anaconda3\\lib\\site-packages\\sklearn\\linear_model\\_logistic.py:1483: UserWarning: Setting penalty='none' will ignore the C and l1_ratio parameters\n",
      "  warnings.warn(\n",
      "C:\\Users\\DIVYA CHITRANSH\\anaconda3\\lib\\site-packages\\sklearn\\linear_model\\_logistic.py:1483: UserWarning: Setting penalty='none' will ignore the C and l1_ratio parameters\n",
      "  warnings.warn(\n",
      "C:\\Users\\DIVYA CHITRANSH\\anaconda3\\lib\\site-packages\\sklearn\\linear_model\\_logistic.py:1483: UserWarning: Setting penalty='none' will ignore the C and l1_ratio parameters\n",
      "  warnings.warn(\n",
      "C:\\Users\\DIVYA CHITRANSH\\anaconda3\\lib\\site-packages\\sklearn\\linear_model\\_logistic.py:1483: UserWarning: Setting penalty='none' will ignore the C and l1_ratio parameters\n",
      "  warnings.warn(\n",
      "C:\\Users\\DIVYA CHITRANSH\\anaconda3\\lib\\site-packages\\sklearn\\linear_model\\_logistic.py:1483: UserWarning: Setting penalty='none' will ignore the C and l1_ratio parameters\n",
      "  warnings.warn(\n",
      "C:\\Users\\DIVYA CHITRANSH\\anaconda3\\lib\\site-packages\\sklearn\\linear_model\\_logistic.py:1483: UserWarning: Setting penalty='none' will ignore the C and l1_ratio parameters\n",
      "  warnings.warn(\n",
      "C:\\Users\\DIVYA CHITRANSH\\anaconda3\\lib\\site-packages\\sklearn\\linear_model\\_logistic.py:1483: UserWarning: Setting penalty='none' will ignore the C and l1_ratio parameters\n",
      "  warnings.warn(\n",
      "C:\\Users\\DIVYA CHITRANSH\\anaconda3\\lib\\site-packages\\sklearn\\linear_model\\_logistic.py:1483: UserWarning: Setting penalty='none' will ignore the C and l1_ratio parameters\n",
      "  warnings.warn(\n",
      "C:\\Users\\DIVYA CHITRANSH\\anaconda3\\lib\\site-packages\\sklearn\\linear_model\\_logistic.py:1483: UserWarning: Setting penalty='none' will ignore the C and l1_ratio parameters\n",
      "  warnings.warn(\n",
      "C:\\Users\\DIVYA CHITRANSH\\anaconda3\\lib\\site-packages\\sklearn\\linear_model\\_logistic.py:1483: UserWarning: Setting penalty='none' will ignore the C and l1_ratio parameters\n",
      "  warnings.warn(\n",
      "C:\\Users\\DIVYA CHITRANSH\\anaconda3\\lib\\site-packages\\sklearn\\linear_model\\_logistic.py:1483: UserWarning: Setting penalty='none' will ignore the C and l1_ratio parameters\n",
      "  warnings.warn(\n",
      "C:\\Users\\DIVYA CHITRANSH\\anaconda3\\lib\\site-packages\\sklearn\\linear_model\\_logistic.py:1483: UserWarning: Setting penalty='none' will ignore the C and l1_ratio parameters\n",
      "  warnings.warn(\n",
      "C:\\Users\\DIVYA CHITRANSH\\anaconda3\\lib\\site-packages\\sklearn\\linear_model\\_logistic.py:1483: UserWarning: Setting penalty='none' will ignore the C and l1_ratio parameters\n",
      "  warnings.warn(\n",
      "C:\\Users\\DIVYA CHITRANSH\\anaconda3\\lib\\site-packages\\sklearn\\linear_model\\_logistic.py:1483: UserWarning: Setting penalty='none' will ignore the C and l1_ratio parameters\n",
      "  warnings.warn(\n",
      "C:\\Users\\DIVYA CHITRANSH\\anaconda3\\lib\\site-packages\\sklearn\\linear_model\\_logistic.py:1483: UserWarning: Setting penalty='none' will ignore the C and l1_ratio parameters\n",
      "  warnings.warn(\n",
      "C:\\Users\\DIVYA CHITRANSH\\anaconda3\\lib\\site-packages\\sklearn\\linear_model\\_logistic.py:1483: UserWarning: Setting penalty='none' will ignore the C and l1_ratio parameters\n",
      "  warnings.warn(\n",
      "C:\\Users\\DIVYA CHITRANSH\\anaconda3\\lib\\site-packages\\sklearn\\linear_model\\_logistic.py:1483: UserWarning: Setting penalty='none' will ignore the C and l1_ratio parameters\n",
      "  warnings.warn(\n",
      "C:\\Users\\DIVYA CHITRANSH\\anaconda3\\lib\\site-packages\\sklearn\\linear_model\\_logistic.py:1483: UserWarning: Setting penalty='none' will ignore the C and l1_ratio parameters\n",
      "  warnings.warn(\n",
      "C:\\Users\\DIVYA CHITRANSH\\anaconda3\\lib\\site-packages\\sklearn\\linear_model\\_logistic.py:1483: UserWarning: Setting penalty='none' will ignore the C and l1_ratio parameters\n",
      "  warnings.warn(\n",
      "C:\\Users\\DIVYA CHITRANSH\\anaconda3\\lib\\site-packages\\sklearn\\linear_model\\_logistic.py:1483: UserWarning: Setting penalty='none' will ignore the C and l1_ratio parameters\n",
      "  warnings.warn(\n",
      "C:\\Users\\DIVYA CHITRANSH\\anaconda3\\lib\\site-packages\\sklearn\\linear_model\\_logistic.py:1483: UserWarning: Setting penalty='none' will ignore the C and l1_ratio parameters\n",
      "  warnings.warn(\n",
      "C:\\Users\\DIVYA CHITRANSH\\anaconda3\\lib\\site-packages\\sklearn\\linear_model\\_logistic.py:1483: UserWarning: Setting penalty='none' will ignore the C and l1_ratio parameters\n",
      "  warnings.warn(\n",
      "C:\\Users\\DIVYA CHITRANSH\\anaconda3\\lib\\site-packages\\sklearn\\linear_model\\_logistic.py:1483: UserWarning: Setting penalty='none' will ignore the C and l1_ratio parameters\n",
      "  warnings.warn(\n",
      "C:\\Users\\DIVYA CHITRANSH\\anaconda3\\lib\\site-packages\\sklearn\\linear_model\\_logistic.py:1483: UserWarning: Setting penalty='none' will ignore the C and l1_ratio parameters\n",
      "  warnings.warn(\n",
      "C:\\Users\\DIVYA CHITRANSH\\anaconda3\\lib\\site-packages\\sklearn\\linear_model\\_logistic.py:1483: UserWarning: Setting penalty='none' will ignore the C and l1_ratio parameters\n",
      "  warnings.warn(\n",
      "C:\\Users\\DIVYA CHITRANSH\\anaconda3\\lib\\site-packages\\sklearn\\linear_model\\_logistic.py:1483: UserWarning: Setting penalty='none' will ignore the C and l1_ratio parameters\n",
      "  warnings.warn(\n",
      "C:\\Users\\DIVYA CHITRANSH\\anaconda3\\lib\\site-packages\\sklearn\\linear_model\\_logistic.py:1483: UserWarning: Setting penalty='none' will ignore the C and l1_ratio parameters\n",
      "  warnings.warn(\n",
      "C:\\Users\\DIVYA CHITRANSH\\anaconda3\\lib\\site-packages\\sklearn\\linear_model\\_logistic.py:1483: UserWarning: Setting penalty='none' will ignore the C and l1_ratio parameters\n",
      "  warnings.warn(\n",
      "C:\\Users\\DIVYA CHITRANSH\\anaconda3\\lib\\site-packages\\sklearn\\linear_model\\_logistic.py:1483: UserWarning: Setting penalty='none' will ignore the C and l1_ratio parameters\n",
      "  warnings.warn(\n",
      "C:\\Users\\DIVYA CHITRANSH\\anaconda3\\lib\\site-packages\\sklearn\\linear_model\\_logistic.py:1483: UserWarning: Setting penalty='none' will ignore the C and l1_ratio parameters\n",
      "  warnings.warn(\n",
      "C:\\Users\\DIVYA CHITRANSH\\anaconda3\\lib\\site-packages\\sklearn\\linear_model\\_logistic.py:1483: UserWarning: Setting penalty='none' will ignore the C and l1_ratio parameters\n",
      "  warnings.warn(\n",
      "C:\\Users\\DIVYA CHITRANSH\\anaconda3\\lib\\site-packages\\sklearn\\linear_model\\_logistic.py:1483: UserWarning: Setting penalty='none' will ignore the C and l1_ratio parameters\n",
      "  warnings.warn(\n",
      "C:\\Users\\DIVYA CHITRANSH\\anaconda3\\lib\\site-packages\\sklearn\\linear_model\\_logistic.py:1483: UserWarning: Setting penalty='none' will ignore the C and l1_ratio parameters\n",
      "  warnings.warn(\n",
      "C:\\Users\\DIVYA CHITRANSH\\anaconda3\\lib\\site-packages\\sklearn\\linear_model\\_logistic.py:1483: UserWarning: Setting penalty='none' will ignore the C and l1_ratio parameters\n",
      "  warnings.warn(\n",
      "C:\\Users\\DIVYA CHITRANSH\\anaconda3\\lib\\site-packages\\sklearn\\linear_model\\_logistic.py:1483: UserWarning: Setting penalty='none' will ignore the C and l1_ratio parameters\n",
      "  warnings.warn(\n",
      "C:\\Users\\DIVYA CHITRANSH\\anaconda3\\lib\\site-packages\\sklearn\\linear_model\\_logistic.py:1483: UserWarning: Setting penalty='none' will ignore the C and l1_ratio parameters\n",
      "  warnings.warn(\n",
      "C:\\Users\\DIVYA CHITRANSH\\anaconda3\\lib\\site-packages\\sklearn\\linear_model\\_logistic.py:1483: UserWarning: Setting penalty='none' will ignore the C and l1_ratio parameters\n",
      "  warnings.warn(\n",
      "C:\\Users\\DIVYA CHITRANSH\\anaconda3\\lib\\site-packages\\sklearn\\linear_model\\_logistic.py:1483: UserWarning: Setting penalty='none' will ignore the C and l1_ratio parameters\n",
      "  warnings.warn(\n",
      "C:\\Users\\DIVYA CHITRANSH\\anaconda3\\lib\\site-packages\\sklearn\\linear_model\\_logistic.py:1483: UserWarning: Setting penalty='none' will ignore the C and l1_ratio parameters\n",
      "  warnings.warn(\n",
      "C:\\Users\\DIVYA CHITRANSH\\anaconda3\\lib\\site-packages\\sklearn\\linear_model\\_logistic.py:1483: UserWarning: Setting penalty='none' will ignore the C and l1_ratio parameters\n",
      "  warnings.warn(\n",
      "C:\\Users\\DIVYA CHITRANSH\\anaconda3\\lib\\site-packages\\sklearn\\linear_model\\_logistic.py:1483: UserWarning: Setting penalty='none' will ignore the C and l1_ratio parameters\n",
      "  warnings.warn(\n",
      "C:\\Users\\DIVYA CHITRANSH\\anaconda3\\lib\\site-packages\\sklearn\\linear_model\\_logistic.py:1483: UserWarning: Setting penalty='none' will ignore the C and l1_ratio parameters\n",
      "  warnings.warn(\n",
      "C:\\Users\\DIVYA CHITRANSH\\anaconda3\\lib\\site-packages\\sklearn\\linear_model\\_logistic.py:1483: UserWarning: Setting penalty='none' will ignore the C and l1_ratio parameters\n",
      "  warnings.warn(\n",
      "C:\\Users\\DIVYA CHITRANSH\\anaconda3\\lib\\site-packages\\sklearn\\linear_model\\_logistic.py:1483: UserWarning: Setting penalty='none' will ignore the C and l1_ratio parameters\n",
      "  warnings.warn(\n",
      "C:\\Users\\DIVYA CHITRANSH\\anaconda3\\lib\\site-packages\\sklearn\\linear_model\\_logistic.py:1483: UserWarning: Setting penalty='none' will ignore the C and l1_ratio parameters\n",
      "  warnings.warn(\n",
      "C:\\Users\\DIVYA CHITRANSH\\anaconda3\\lib\\site-packages\\sklearn\\linear_model\\_logistic.py:1483: UserWarning: Setting penalty='none' will ignore the C and l1_ratio parameters\n",
      "  warnings.warn(\n",
      "C:\\Users\\DIVYA CHITRANSH\\anaconda3\\lib\\site-packages\\sklearn\\linear_model\\_logistic.py:1483: UserWarning: Setting penalty='none' will ignore the C and l1_ratio parameters\n",
      "  warnings.warn(\n",
      "C:\\Users\\DIVYA CHITRANSH\\anaconda3\\lib\\site-packages\\sklearn\\linear_model\\_logistic.py:1483: UserWarning: Setting penalty='none' will ignore the C and l1_ratio parameters\n",
      "  warnings.warn(\n",
      "C:\\Users\\DIVYA CHITRANSH\\anaconda3\\lib\\site-packages\\sklearn\\linear_model\\_logistic.py:1483: UserWarning: Setting penalty='none' will ignore the C and l1_ratio parameters\n",
      "  warnings.warn(\n",
      "C:\\Users\\DIVYA CHITRANSH\\anaconda3\\lib\\site-packages\\sklearn\\linear_model\\_logistic.py:1483: UserWarning: Setting penalty='none' will ignore the C and l1_ratio parameters\n",
      "  warnings.warn(\n",
      "C:\\Users\\DIVYA CHITRANSH\\anaconda3\\lib\\site-packages\\sklearn\\linear_model\\_logistic.py:1483: UserWarning: Setting penalty='none' will ignore the C and l1_ratio parameters\n",
      "  warnings.warn(\n",
      "C:\\Users\\DIVYA CHITRANSH\\anaconda3\\lib\\site-packages\\sklearn\\linear_model\\_logistic.py:1483: UserWarning: Setting penalty='none' will ignore the C and l1_ratio parameters\n",
      "  warnings.warn(\n",
      "C:\\Users\\DIVYA CHITRANSH\\anaconda3\\lib\\site-packages\\sklearn\\linear_model\\_logistic.py:1483: UserWarning: Setting penalty='none' will ignore the C and l1_ratio parameters\n",
      "  warnings.warn(\n",
      "C:\\Users\\DIVYA CHITRANSH\\anaconda3\\lib\\site-packages\\sklearn\\linear_model\\_logistic.py:1483: UserWarning: Setting penalty='none' will ignore the C and l1_ratio parameters\n",
      "  warnings.warn(\n",
      "C:\\Users\\DIVYA CHITRANSH\\anaconda3\\lib\\site-packages\\sklearn\\linear_model\\_logistic.py:1483: UserWarning: Setting penalty='none' will ignore the C and l1_ratio parameters\n",
      "  warnings.warn(\n",
      "C:\\Users\\DIVYA CHITRANSH\\anaconda3\\lib\\site-packages\\sklearn\\linear_model\\_logistic.py:1483: UserWarning: Setting penalty='none' will ignore the C and l1_ratio parameters\n",
      "  warnings.warn(\n",
      "C:\\Users\\DIVYA CHITRANSH\\anaconda3\\lib\\site-packages\\sklearn\\linear_model\\_logistic.py:1483: UserWarning: Setting penalty='none' will ignore the C and l1_ratio parameters\n",
      "  warnings.warn(\n",
      "C:\\Users\\DIVYA CHITRANSH\\anaconda3\\lib\\site-packages\\sklearn\\linear_model\\_logistic.py:1483: UserWarning: Setting penalty='none' will ignore the C and l1_ratio parameters\n",
      "  warnings.warn(\n",
      "C:\\Users\\DIVYA CHITRANSH\\anaconda3\\lib\\site-packages\\sklearn\\linear_model\\_logistic.py:1483: UserWarning: Setting penalty='none' will ignore the C and l1_ratio parameters\n",
      "  warnings.warn(\n",
      "C:\\Users\\DIVYA CHITRANSH\\anaconda3\\lib\\site-packages\\sklearn\\linear_model\\_logistic.py:1483: UserWarning: Setting penalty='none' will ignore the C and l1_ratio parameters\n",
      "  warnings.warn(\n",
      "C:\\Users\\DIVYA CHITRANSH\\anaconda3\\lib\\site-packages\\sklearn\\linear_model\\_logistic.py:1483: UserWarning: Setting penalty='none' will ignore the C and l1_ratio parameters\n",
      "  warnings.warn(\n",
      "C:\\Users\\DIVYA CHITRANSH\\anaconda3\\lib\\site-packages\\sklearn\\linear_model\\_logistic.py:1483: UserWarning: Setting penalty='none' will ignore the C and l1_ratio parameters\n",
      "  warnings.warn(\n",
      "C:\\Users\\DIVYA CHITRANSH\\anaconda3\\lib\\site-packages\\sklearn\\linear_model\\_logistic.py:1483: UserWarning: Setting penalty='none' will ignore the C and l1_ratio parameters\n",
      "  warnings.warn(\n",
      "C:\\Users\\DIVYA CHITRANSH\\anaconda3\\lib\\site-packages\\sklearn\\linear_model\\_logistic.py:1483: UserWarning: Setting penalty='none' will ignore the C and l1_ratio parameters\n",
      "  warnings.warn(\n",
      "C:\\Users\\DIVYA CHITRANSH\\anaconda3\\lib\\site-packages\\sklearn\\linear_model\\_logistic.py:1483: UserWarning: Setting penalty='none' will ignore the C and l1_ratio parameters\n",
      "  warnings.warn(\n",
      "C:\\Users\\DIVYA CHITRANSH\\anaconda3\\lib\\site-packages\\sklearn\\linear_model\\_logistic.py:1483: UserWarning: Setting penalty='none' will ignore the C and l1_ratio parameters\n",
      "  warnings.warn(\n",
      "C:\\Users\\DIVYA CHITRANSH\\anaconda3\\lib\\site-packages\\sklearn\\linear_model\\_logistic.py:1483: UserWarning: Setting penalty='none' will ignore the C and l1_ratio parameters\n",
      "  warnings.warn(\n",
      "C:\\Users\\DIVYA CHITRANSH\\anaconda3\\lib\\site-packages\\sklearn\\linear_model\\_logistic.py:1483: UserWarning: Setting penalty='none' will ignore the C and l1_ratio parameters\n",
      "  warnings.warn(\n",
      "C:\\Users\\DIVYA CHITRANSH\\anaconda3\\lib\\site-packages\\sklearn\\linear_model\\_logistic.py:1483: UserWarning: Setting penalty='none' will ignore the C and l1_ratio parameters\n",
      "  warnings.warn(\n",
      "C:\\Users\\DIVYA CHITRANSH\\anaconda3\\lib\\site-packages\\sklearn\\linear_model\\_logistic.py:1483: UserWarning: Setting penalty='none' will ignore the C and l1_ratio parameters\n",
      "  warnings.warn(\n",
      "C:\\Users\\DIVYA CHITRANSH\\anaconda3\\lib\\site-packages\\sklearn\\linear_model\\_logistic.py:1483: UserWarning: Setting penalty='none' will ignore the C and l1_ratio parameters\n",
      "  warnings.warn(\n",
      "C:\\Users\\DIVYA CHITRANSH\\anaconda3\\lib\\site-packages\\sklearn\\linear_model\\_logistic.py:1483: UserWarning: Setting penalty='none' will ignore the C and l1_ratio parameters\n",
      "  warnings.warn(\n",
      "C:\\Users\\DIVYA CHITRANSH\\anaconda3\\lib\\site-packages\\sklearn\\linear_model\\_logistic.py:1483: UserWarning: Setting penalty='none' will ignore the C and l1_ratio parameters\n",
      "  warnings.warn(\n",
      "C:\\Users\\DIVYA CHITRANSH\\anaconda3\\lib\\site-packages\\sklearn\\linear_model\\_logistic.py:1483: UserWarning: Setting penalty='none' will ignore the C and l1_ratio parameters\n",
      "  warnings.warn(\n",
      "C:\\Users\\DIVYA CHITRANSH\\anaconda3\\lib\\site-packages\\sklearn\\linear_model\\_logistic.py:1483: UserWarning: Setting penalty='none' will ignore the C and l1_ratio parameters\n",
      "  warnings.warn(\n",
      "C:\\Users\\DIVYA CHITRANSH\\anaconda3\\lib\\site-packages\\sklearn\\linear_model\\_logistic.py:1483: UserWarning: Setting penalty='none' will ignore the C and l1_ratio parameters\n",
      "  warnings.warn(\n",
      "C:\\Users\\DIVYA CHITRANSH\\anaconda3\\lib\\site-packages\\sklearn\\linear_model\\_logistic.py:1483: UserWarning: Setting penalty='none' will ignore the C and l1_ratio parameters\n",
      "  warnings.warn(\n",
      "C:\\Users\\DIVYA CHITRANSH\\anaconda3\\lib\\site-packages\\sklearn\\linear_model\\_logistic.py:1483: UserWarning: Setting penalty='none' will ignore the C and l1_ratio parameters\n",
      "  warnings.warn(\n",
      "C:\\Users\\DIVYA CHITRANSH\\anaconda3\\lib\\site-packages\\sklearn\\linear_model\\_logistic.py:1483: UserWarning: Setting penalty='none' will ignore the C and l1_ratio parameters\n",
      "  warnings.warn(\n",
      "C:\\Users\\DIVYA CHITRANSH\\anaconda3\\lib\\site-packages\\sklearn\\linear_model\\_logistic.py:1483: UserWarning: Setting penalty='none' will ignore the C and l1_ratio parameters\n",
      "  warnings.warn(\n",
      "C:\\Users\\DIVYA CHITRANSH\\anaconda3\\lib\\site-packages\\sklearn\\linear_model\\_logistic.py:1483: UserWarning: Setting penalty='none' will ignore the C and l1_ratio parameters\n",
      "  warnings.warn(\n",
      "C:\\Users\\DIVYA CHITRANSH\\anaconda3\\lib\\site-packages\\sklearn\\linear_model\\_logistic.py:1483: UserWarning: Setting penalty='none' will ignore the C and l1_ratio parameters\n",
      "  warnings.warn(\n",
      "C:\\Users\\DIVYA CHITRANSH\\anaconda3\\lib\\site-packages\\sklearn\\linear_model\\_logistic.py:1483: UserWarning: Setting penalty='none' will ignore the C and l1_ratio parameters\n",
      "  warnings.warn(\n",
      "C:\\Users\\DIVYA CHITRANSH\\anaconda3\\lib\\site-packages\\sklearn\\linear_model\\_logistic.py:1483: UserWarning: Setting penalty='none' will ignore the C and l1_ratio parameters\n",
      "  warnings.warn(\n",
      "C:\\Users\\DIVYA CHITRANSH\\anaconda3\\lib\\site-packages\\sklearn\\linear_model\\_logistic.py:1483: UserWarning: Setting penalty='none' will ignore the C and l1_ratio parameters\n",
      "  warnings.warn(\n",
      "C:\\Users\\DIVYA CHITRANSH\\anaconda3\\lib\\site-packages\\sklearn\\linear_model\\_logistic.py:1483: UserWarning: Setting penalty='none' will ignore the C and l1_ratio parameters\n",
      "  warnings.warn(\n"
     ]
    },
    {
     "name": "stdout",
     "output_type": "stream",
     "text": [
      "best score of train set: 0.8075445681079485\n",
      "best params of train set: {'col_trans2__num_pipeline__std_scale': 'passthrough', 'model__C': 0.08858667904100823, 'model__penalty': 'l2'}\n",
      "best score of test set: 0.7821229050279329\n"
     ]
    },
    {
     "name": "stderr",
     "output_type": "stream",
     "text": [
      "C:\\Users\\DIVYA CHITRANSH\\anaconda3\\lib\\site-packages\\sklearn\\model_selection\\_validation.py:372: FitFailedWarning: \n",
      "200 fits failed out of a total of 600.\n",
      "The score on these train-test partitions for these parameters will be set to nan.\n",
      "If these failures are not expected, you can try to debug them by setting error_score='raise'.\n",
      "\n",
      "Below are more details about the failures:\n",
      "--------------------------------------------------------------------------------\n",
      "200 fits failed with the following error:\n",
      "Traceback (most recent call last):\n",
      "  File \"C:\\Users\\DIVYA CHITRANSH\\anaconda3\\lib\\site-packages\\sklearn\\model_selection\\_validation.py\", line 680, in _fit_and_score\n",
      "    estimator.fit(X_train, y_train, **fit_params)\n",
      "  File \"C:\\Users\\DIVYA CHITRANSH\\anaconda3\\lib\\site-packages\\sklearn\\pipeline.py\", line 394, in fit\n",
      "    self._final_estimator.fit(Xt, y, **fit_params_last_step)\n",
      "  File \"C:\\Users\\DIVYA CHITRANSH\\anaconda3\\lib\\site-packages\\sklearn\\linear_model\\_logistic.py\", line 1461, in fit\n",
      "    solver = _check_solver(self.solver, self.penalty, self.dual)\n",
      "  File \"C:\\Users\\DIVYA CHITRANSH\\anaconda3\\lib\\site-packages\\sklearn\\linear_model\\_logistic.py\", line 447, in _check_solver\n",
      "    raise ValueError(\n",
      "ValueError: Solver lbfgs supports only 'l2' or 'none' penalties, got l1 penalty.\n",
      "\n",
      "  warnings.warn(some_fits_failed_message, FitFailedWarning)\n",
      "C:\\Users\\DIVYA CHITRANSH\\anaconda3\\lib\\site-packages\\sklearn\\model_selection\\_search.py:969: UserWarning: One or more of the test scores are non-finite: [0.80196001 0.61657638        nan 0.80196001 0.61657638        nan\n",
      " 0.80196001 0.61939328        nan 0.80196001 0.6376539         nan\n",
      " 0.80196001 0.72893726        nan 0.80196001 0.78368955        nan\n",
      " 0.80196001 0.80477691        nan 0.80196001 0.80334876        nan\n",
      " 0.80196001 0.80055156        nan 0.80196001 0.80476706        nan\n",
      " 0.80196001 0.80196001        nan 0.80196001 0.80196001        nan\n",
      " 0.80196001 0.80196001        nan 0.80196001 0.80196001        nan\n",
      " 0.80196001 0.80196001        nan 0.80196001 0.80196001        nan\n",
      " 0.80196001 0.80196001        nan 0.80196001 0.80196001        nan\n",
      " 0.80196001 0.80196001        nan 0.80196001 0.80196001        nan\n",
      " 0.80196001 0.61657638        nan 0.80196001 0.61657638        nan\n",
      " 0.80196001 0.61657638        nan 0.80196001 0.61657638        nan\n",
      " 0.80196001 0.73031616        nan 0.80196001 0.7794839         nan\n",
      " 0.80196001 0.80333891        nan 0.80196001 0.80754457        nan\n",
      " 0.80196001 0.80332907        nan 0.80196001 0.79352901        nan\n",
      " 0.80196001 0.79635576        nan 0.80196001 0.80055156        nan\n",
      " 0.80196001 0.80335861        nan 0.80196001 0.80196001        nan\n",
      " 0.80196001 0.80196001        nan 0.80196001 0.80196001        nan\n",
      " 0.80196001 0.80196001        nan 0.80196001 0.80196001        nan\n",
      " 0.80196001 0.80196001        nan 0.80196001 0.80196001        nan]\n",
      "  warnings.warn(\n"
     ]
    }
   ],
   "source": [
    "gs3=GridSearchCV(clf_pipeline2,grid_step_params2, cv=5, scoring='accuracy')\n",
    "gs3.fit(x_train,y_train)\n",
    "print(\"best score of train set:\",(gs3.best_score_))\n",
    "print(\"best params of train set:\",(gs3.best_params_))\n",
    "print(\"best score of test set:\",(gs3.score(x_test,y_test)))"
   ]
  },
  {
   "cell_type": "markdown",
   "id": "9a65ad79",
   "metadata": {
    "papermill": {
     "duration": 0.022424,
     "end_time": "2023-10-16T19:58:40.713507",
     "exception": false,
     "start_time": "2023-10-16T19:58:40.691083",
     "status": "completed"
    },
    "tags": []
   },
   "source": [
    "After hyperparameter tuning and finding the method which gives most accuracy is StandardScaler method and with 'model__C': 0.23357214690901212, 'model__penalty': 'l2'}\n",
    "The accuracy is 78.21%"
   ]
  },
  {
   "cell_type": "code",
   "execution_count": 40,
   "id": "d3ca76fb",
   "metadata": {
    "execution": {
     "iopub.execute_input": "2023-10-16T19:58:40.760754Z",
     "iopub.status.busy": "2023-10-16T19:58:40.760430Z",
     "iopub.status.idle": "2023-10-16T19:58:40.764963Z",
     "shell.execute_reply": "2023-10-16T19:58:40.764066Z"
    },
    "papermill": {
     "duration": 0.030914,
     "end_time": "2023-10-16T19:58:40.767095",
     "exception": false,
     "start_time": "2023-10-16T19:58:40.736181",
     "status": "completed"
    },
    "tags": []
   },
   "outputs": [],
   "source": [
    "from sklearn.neighbors import KNeighborsClassifier\n",
    "clf_knn = KNeighborsClassifier(n_neighbors = 15)\n",
    "clf_pipeline_knn=Pipeline(steps=[('col_trans',col_trans),('model',clf_knn)])\n"
   ]
  },
  {
   "cell_type": "code",
   "execution_count": 41,
   "id": "1ac843b2",
   "metadata": {
    "execution": {
     "iopub.execute_input": "2023-10-16T19:58:40.818661Z",
     "iopub.status.busy": "2023-10-16T19:58:40.818261Z",
     "iopub.status.idle": "2023-10-16T19:58:40.864107Z",
     "shell.execute_reply": "2023-10-16T19:58:40.862770Z"
    },
    "papermill": {
     "duration": 0.074447,
     "end_time": "2023-10-16T19:58:40.866417",
     "exception": false,
     "start_time": "2023-10-16T19:58:40.791970",
     "status": "completed"
    },
    "tags": []
   },
   "outputs": [
    {
     "data": {
      "text/html": [
       "<style>#sk-08a0cc30-6979-4bac-a2d5-6698768d1264 {color: black;background-color: white;}#sk-08a0cc30-6979-4bac-a2d5-6698768d1264 pre{padding: 0;}#sk-08a0cc30-6979-4bac-a2d5-6698768d1264 div.sk-toggleable {background-color: white;}#sk-08a0cc30-6979-4bac-a2d5-6698768d1264 label.sk-toggleable__label {cursor: pointer;display: block;width: 100%;margin-bottom: 0;padding: 0.3em;box-sizing: border-box;text-align: center;}#sk-08a0cc30-6979-4bac-a2d5-6698768d1264 label.sk-toggleable__label-arrow:before {content: \"▸\";float: left;margin-right: 0.25em;color: #696969;}#sk-08a0cc30-6979-4bac-a2d5-6698768d1264 label.sk-toggleable__label-arrow:hover:before {color: black;}#sk-08a0cc30-6979-4bac-a2d5-6698768d1264 div.sk-estimator:hover label.sk-toggleable__label-arrow:before {color: black;}#sk-08a0cc30-6979-4bac-a2d5-6698768d1264 div.sk-toggleable__content {max-height: 0;max-width: 0;overflow: hidden;text-align: left;background-color: #f0f8ff;}#sk-08a0cc30-6979-4bac-a2d5-6698768d1264 div.sk-toggleable__content pre {margin: 0.2em;color: black;border-radius: 0.25em;background-color: #f0f8ff;}#sk-08a0cc30-6979-4bac-a2d5-6698768d1264 input.sk-toggleable__control:checked~div.sk-toggleable__content {max-height: 200px;max-width: 100%;overflow: auto;}#sk-08a0cc30-6979-4bac-a2d5-6698768d1264 input.sk-toggleable__control:checked~label.sk-toggleable__label-arrow:before {content: \"▾\";}#sk-08a0cc30-6979-4bac-a2d5-6698768d1264 div.sk-estimator input.sk-toggleable__control:checked~label.sk-toggleable__label {background-color: #d4ebff;}#sk-08a0cc30-6979-4bac-a2d5-6698768d1264 div.sk-label input.sk-toggleable__control:checked~label.sk-toggleable__label {background-color: #d4ebff;}#sk-08a0cc30-6979-4bac-a2d5-6698768d1264 input.sk-hidden--visually {border: 0;clip: rect(1px 1px 1px 1px);clip: rect(1px, 1px, 1px, 1px);height: 1px;margin: -1px;overflow: hidden;padding: 0;position: absolute;width: 1px;}#sk-08a0cc30-6979-4bac-a2d5-6698768d1264 div.sk-estimator {font-family: monospace;background-color: #f0f8ff;border: 1px dotted black;border-radius: 0.25em;box-sizing: border-box;margin-bottom: 0.5em;}#sk-08a0cc30-6979-4bac-a2d5-6698768d1264 div.sk-estimator:hover {background-color: #d4ebff;}#sk-08a0cc30-6979-4bac-a2d5-6698768d1264 div.sk-parallel-item::after {content: \"\";width: 100%;border-bottom: 1px solid gray;flex-grow: 1;}#sk-08a0cc30-6979-4bac-a2d5-6698768d1264 div.sk-label:hover label.sk-toggleable__label {background-color: #d4ebff;}#sk-08a0cc30-6979-4bac-a2d5-6698768d1264 div.sk-serial::before {content: \"\";position: absolute;border-left: 1px solid gray;box-sizing: border-box;top: 2em;bottom: 0;left: 50%;}#sk-08a0cc30-6979-4bac-a2d5-6698768d1264 div.sk-serial {display: flex;flex-direction: column;align-items: center;background-color: white;padding-right: 0.2em;padding-left: 0.2em;}#sk-08a0cc30-6979-4bac-a2d5-6698768d1264 div.sk-item {z-index: 1;}#sk-08a0cc30-6979-4bac-a2d5-6698768d1264 div.sk-parallel {display: flex;align-items: stretch;justify-content: center;background-color: white;}#sk-08a0cc30-6979-4bac-a2d5-6698768d1264 div.sk-parallel::before {content: \"\";position: absolute;border-left: 1px solid gray;box-sizing: border-box;top: 2em;bottom: 0;left: 50%;}#sk-08a0cc30-6979-4bac-a2d5-6698768d1264 div.sk-parallel-item {display: flex;flex-direction: column;position: relative;background-color: white;}#sk-08a0cc30-6979-4bac-a2d5-6698768d1264 div.sk-parallel-item:first-child::after {align-self: flex-end;width: 50%;}#sk-08a0cc30-6979-4bac-a2d5-6698768d1264 div.sk-parallel-item:last-child::after {align-self: flex-start;width: 50%;}#sk-08a0cc30-6979-4bac-a2d5-6698768d1264 div.sk-parallel-item:only-child::after {width: 0;}#sk-08a0cc30-6979-4bac-a2d5-6698768d1264 div.sk-dashed-wrapped {border: 1px dashed gray;margin: 0 0.4em 0.5em 0.4em;box-sizing: border-box;padding-bottom: 0.4em;background-color: white;position: relative;}#sk-08a0cc30-6979-4bac-a2d5-6698768d1264 div.sk-label label {font-family: monospace;font-weight: bold;background-color: white;display: inline-block;line-height: 1.2em;}#sk-08a0cc30-6979-4bac-a2d5-6698768d1264 div.sk-label-container {position: relative;z-index: 2;text-align: center;}#sk-08a0cc30-6979-4bac-a2d5-6698768d1264 div.sk-container {/* jupyter's `normalize.less` sets `[hidden] { display: none; }` but bootstrap.min.css set `[hidden] { display: none !important; }` so we also need the `!important` here to be able to override the default hidden behavior on the sphinx rendered scikit-learn.org. See: https://github.com/scikit-learn/scikit-learn/issues/21755 */display: inline-block !important;position: relative;}#sk-08a0cc30-6979-4bac-a2d5-6698768d1264 div.sk-text-repr-fallback {display: none;}</style><div id=\"sk-08a0cc30-6979-4bac-a2d5-6698768d1264\" class=\"sk-top-container\"><div class=\"sk-text-repr-fallback\"><pre>Pipeline(steps=[(&#x27;col_trans&#x27;,\n",
       "                 ColumnTransformer(n_jobs=-1,\n",
       "                                   transformers=[(&#x27;num_pipeline&#x27;,\n",
       "                                                  Pipeline(steps=[(&#x27;impute&#x27;,\n",
       "                                                                   SimpleImputer()),\n",
       "                                                                  (&#x27;min_max_scale&#x27;,\n",
       "                                                                   MinMaxScaler())]),\n",
       "                                                  [&#x27;Age&#x27;, &#x27;Fare&#x27;]),\n",
       "                                                 (&#x27;num_pipeline_new&#x27;,\n",
       "                                                  Pipeline(steps=[(&#x27;impute2&#x27;,\n",
       "                                                                   SimpleImputer(strategy=&#x27;most_frequent&#x27;))]),\n",
       "                                                  [&#x27;Pclass&#x27;, &#x27;SibSp&#x27;, &#x27;Parch&#x27;]),\n",
       "                                                 (&#x27;cat_pipeline&#x27;,\n",
       "                                                  Pipeline(steps=[(&#x27;impute&#x27;,\n",
       "                                                                   SimpleImputer(strategy=&#x27;most_frequent&#x27;)),\n",
       "                                                                  (&#x27;one_hot&#x27;,\n",
       "                                                                   OneHotEncoder(handle_unknown=&#x27;ignore&#x27;,\n",
       "                                                                                 sparse=False))]),\n",
       "                                                  [&#x27;Sex&#x27;])])),\n",
       "                (&#x27;model&#x27;, KNeighborsClassifier(n_neighbors=15))])</pre><b>Please rerun this cell to show the HTML repr or trust the notebook.</b></div><div class=\"sk-container\" hidden><div class=\"sk-item sk-dashed-wrapped\"><div class=\"sk-label-container\"><div class=\"sk-label sk-toggleable\"><input class=\"sk-toggleable__control sk-hidden--visually\" id=\"066a0abb-0fbe-489a-ae0e-3d46619a4ace\" type=\"checkbox\" ><label for=\"066a0abb-0fbe-489a-ae0e-3d46619a4ace\" class=\"sk-toggleable__label sk-toggleable__label-arrow\">Pipeline</label><div class=\"sk-toggleable__content\"><pre>Pipeline(steps=[(&#x27;col_trans&#x27;,\n",
       "                 ColumnTransformer(n_jobs=-1,\n",
       "                                   transformers=[(&#x27;num_pipeline&#x27;,\n",
       "                                                  Pipeline(steps=[(&#x27;impute&#x27;,\n",
       "                                                                   SimpleImputer()),\n",
       "                                                                  (&#x27;min_max_scale&#x27;,\n",
       "                                                                   MinMaxScaler())]),\n",
       "                                                  [&#x27;Age&#x27;, &#x27;Fare&#x27;]),\n",
       "                                                 (&#x27;num_pipeline_new&#x27;,\n",
       "                                                  Pipeline(steps=[(&#x27;impute2&#x27;,\n",
       "                                                                   SimpleImputer(strategy=&#x27;most_frequent&#x27;))]),\n",
       "                                                  [&#x27;Pclass&#x27;, &#x27;SibSp&#x27;, &#x27;Parch&#x27;]),\n",
       "                                                 (&#x27;cat_pipeline&#x27;,\n",
       "                                                  Pipeline(steps=[(&#x27;impute&#x27;,\n",
       "                                                                   SimpleImputer(strategy=&#x27;most_frequent&#x27;)),\n",
       "                                                                  (&#x27;one_hot&#x27;,\n",
       "                                                                   OneHotEncoder(handle_unknown=&#x27;ignore&#x27;,\n",
       "                                                                                 sparse=False))]),\n",
       "                                                  [&#x27;Sex&#x27;])])),\n",
       "                (&#x27;model&#x27;, KNeighborsClassifier(n_neighbors=15))])</pre></div></div></div><div class=\"sk-serial\"><div class=\"sk-item sk-dashed-wrapped\"><div class=\"sk-label-container\"><div class=\"sk-label sk-toggleable\"><input class=\"sk-toggleable__control sk-hidden--visually\" id=\"2d4f0492-4992-4143-a005-82f96a60fe4b\" type=\"checkbox\" ><label for=\"2d4f0492-4992-4143-a005-82f96a60fe4b\" class=\"sk-toggleable__label sk-toggleable__label-arrow\">col_trans: ColumnTransformer</label><div class=\"sk-toggleable__content\"><pre>ColumnTransformer(n_jobs=-1,\n",
       "                  transformers=[(&#x27;num_pipeline&#x27;,\n",
       "                                 Pipeline(steps=[(&#x27;impute&#x27;, SimpleImputer()),\n",
       "                                                 (&#x27;min_max_scale&#x27;,\n",
       "                                                  MinMaxScaler())]),\n",
       "                                 [&#x27;Age&#x27;, &#x27;Fare&#x27;]),\n",
       "                                (&#x27;num_pipeline_new&#x27;,\n",
       "                                 Pipeline(steps=[(&#x27;impute2&#x27;,\n",
       "                                                  SimpleImputer(strategy=&#x27;most_frequent&#x27;))]),\n",
       "                                 [&#x27;Pclass&#x27;, &#x27;SibSp&#x27;, &#x27;Parch&#x27;]),\n",
       "                                (&#x27;cat_pipeline&#x27;,\n",
       "                                 Pipeline(steps=[(&#x27;impute&#x27;,\n",
       "                                                  SimpleImputer(strategy=&#x27;most_frequent&#x27;)),\n",
       "                                                 (&#x27;one_hot&#x27;,\n",
       "                                                  OneHotEncoder(handle_unknown=&#x27;ignore&#x27;,\n",
       "                                                                sparse=False))]),\n",
       "                                 [&#x27;Sex&#x27;])])</pre></div></div></div><div class=\"sk-parallel\"><div class=\"sk-parallel-item\"><div class=\"sk-item\"><div class=\"sk-label-container\"><div class=\"sk-label sk-toggleable\"><input class=\"sk-toggleable__control sk-hidden--visually\" id=\"1c89cb68-a77a-41ec-b540-4dd6e608dbb5\" type=\"checkbox\" ><label for=\"1c89cb68-a77a-41ec-b540-4dd6e608dbb5\" class=\"sk-toggleable__label sk-toggleable__label-arrow\">num_pipeline</label><div class=\"sk-toggleable__content\"><pre>[&#x27;Age&#x27;, &#x27;Fare&#x27;]</pre></div></div></div><div class=\"sk-serial\"><div class=\"sk-item\"><div class=\"sk-serial\"><div class=\"sk-item\"><div class=\"sk-estimator sk-toggleable\"><input class=\"sk-toggleable__control sk-hidden--visually\" id=\"b7a72b6a-366b-44da-b4e6-834ce18880fa\" type=\"checkbox\" ><label for=\"b7a72b6a-366b-44da-b4e6-834ce18880fa\" class=\"sk-toggleable__label sk-toggleable__label-arrow\">SimpleImputer</label><div class=\"sk-toggleable__content\"><pre>SimpleImputer()</pre></div></div></div><div class=\"sk-item\"><div class=\"sk-estimator sk-toggleable\"><input class=\"sk-toggleable__control sk-hidden--visually\" id=\"5c535d51-f020-4865-853a-48b5967f799a\" type=\"checkbox\" ><label for=\"5c535d51-f020-4865-853a-48b5967f799a\" class=\"sk-toggleable__label sk-toggleable__label-arrow\">MinMaxScaler</label><div class=\"sk-toggleable__content\"><pre>MinMaxScaler()</pre></div></div></div></div></div></div></div></div><div class=\"sk-parallel-item\"><div class=\"sk-item\"><div class=\"sk-label-container\"><div class=\"sk-label sk-toggleable\"><input class=\"sk-toggleable__control sk-hidden--visually\" id=\"cf9c2517-d7df-44ba-b69c-fd00922d13ae\" type=\"checkbox\" ><label for=\"cf9c2517-d7df-44ba-b69c-fd00922d13ae\" class=\"sk-toggleable__label sk-toggleable__label-arrow\">num_pipeline_new</label><div class=\"sk-toggleable__content\"><pre>[&#x27;Pclass&#x27;, &#x27;SibSp&#x27;, &#x27;Parch&#x27;]</pre></div></div></div><div class=\"sk-serial\"><div class=\"sk-item\"><div class=\"sk-serial\"><div class=\"sk-item\"><div class=\"sk-estimator sk-toggleable\"><input class=\"sk-toggleable__control sk-hidden--visually\" id=\"2f4e6582-c416-4378-b251-142c5e98d3b1\" type=\"checkbox\" ><label for=\"2f4e6582-c416-4378-b251-142c5e98d3b1\" class=\"sk-toggleable__label sk-toggleable__label-arrow\">SimpleImputer</label><div class=\"sk-toggleable__content\"><pre>SimpleImputer(strategy=&#x27;most_frequent&#x27;)</pre></div></div></div></div></div></div></div></div><div class=\"sk-parallel-item\"><div class=\"sk-item\"><div class=\"sk-label-container\"><div class=\"sk-label sk-toggleable\"><input class=\"sk-toggleable__control sk-hidden--visually\" id=\"ec7734de-8ac9-4966-9b76-757d6b80cd66\" type=\"checkbox\" ><label for=\"ec7734de-8ac9-4966-9b76-757d6b80cd66\" class=\"sk-toggleable__label sk-toggleable__label-arrow\">cat_pipeline</label><div class=\"sk-toggleable__content\"><pre>[&#x27;Sex&#x27;]</pre></div></div></div><div class=\"sk-serial\"><div class=\"sk-item\"><div class=\"sk-serial\"><div class=\"sk-item\"><div class=\"sk-estimator sk-toggleable\"><input class=\"sk-toggleable__control sk-hidden--visually\" id=\"34593609-3579-4393-8d49-45452bf90e3a\" type=\"checkbox\" ><label for=\"34593609-3579-4393-8d49-45452bf90e3a\" class=\"sk-toggleable__label sk-toggleable__label-arrow\">SimpleImputer</label><div class=\"sk-toggleable__content\"><pre>SimpleImputer(strategy=&#x27;most_frequent&#x27;)</pre></div></div></div><div class=\"sk-item\"><div class=\"sk-estimator sk-toggleable\"><input class=\"sk-toggleable__control sk-hidden--visually\" id=\"3825d8d9-1f94-4b50-b54d-5872127378d2\" type=\"checkbox\" ><label for=\"3825d8d9-1f94-4b50-b54d-5872127378d2\" class=\"sk-toggleable__label sk-toggleable__label-arrow\">OneHotEncoder</label><div class=\"sk-toggleable__content\"><pre>OneHotEncoder(handle_unknown=&#x27;ignore&#x27;, sparse=False)</pre></div></div></div></div></div></div></div></div></div></div><div class=\"sk-item\"><div class=\"sk-estimator sk-toggleable\"><input class=\"sk-toggleable__control sk-hidden--visually\" id=\"993295af-2f5b-4d08-8c94-2a3da7465e6c\" type=\"checkbox\" ><label for=\"993295af-2f5b-4d08-8c94-2a3da7465e6c\" class=\"sk-toggleable__label sk-toggleable__label-arrow\">KNeighborsClassifier</label><div class=\"sk-toggleable__content\"><pre>KNeighborsClassifier(n_neighbors=15)</pre></div></div></div></div></div></div></div>"
      ],
      "text/plain": [
       "Pipeline(steps=[('col_trans',\n",
       "                 ColumnTransformer(n_jobs=-1,\n",
       "                                   transformers=[('num_pipeline',\n",
       "                                                  Pipeline(steps=[('impute',\n",
       "                                                                   SimpleImputer()),\n",
       "                                                                  ('min_max_scale',\n",
       "                                                                   MinMaxScaler())]),\n",
       "                                                  ['Age', 'Fare']),\n",
       "                                                 ('num_pipeline_new',\n",
       "                                                  Pipeline(steps=[('impute2',\n",
       "                                                                   SimpleImputer(strategy='most_frequent'))]),\n",
       "                                                  ['Pclass', 'SibSp', 'Parch']),\n",
       "                                                 ('cat_pipeline',\n",
       "                                                  Pipeline(steps=[('impute',\n",
       "                                                                   SimpleImputer(strategy='most_frequent')),\n",
       "                                                                  ('one_hot',\n",
       "                                                                   OneHotEncoder(handle_unknown='ignore',\n",
       "                                                                                 sparse=False))]),\n",
       "                                                  ['Sex'])])),\n",
       "                ('model', KNeighborsClassifier(n_neighbors=15))])"
      ]
     },
     "metadata": {},
     "output_type": "display_data"
    }
   ],
   "source": [
    "display(clf_pipeline_knn)"
   ]
  },
  {
   "cell_type": "code",
   "execution_count": 42,
   "id": "5059aad3",
   "metadata": {
    "execution": {
     "iopub.execute_input": "2023-10-16T19:58:40.919189Z",
     "iopub.status.busy": "2023-10-16T19:58:40.918786Z",
     "iopub.status.idle": "2023-10-16T19:58:40.967052Z",
     "shell.execute_reply": "2023-10-16T19:58:40.965944Z"
    },
    "papermill": {
     "duration": 0.078,
     "end_time": "2023-10-16T19:58:40.968805",
     "exception": false,
     "start_time": "2023-10-16T19:58:40.890805",
     "status": "completed"
    },
    "tags": []
   },
   "outputs": [
    {
     "data": {
      "text/plain": [
       "0.7486033519553073"
      ]
     },
     "execution_count": 42,
     "metadata": {},
     "output_type": "execute_result"
    }
   ],
   "source": [
    "clf_pipeline_knn.fit(x_train,y_train)\n",
    "clf_pipeline_knn.score(x_test,y_test)"
   ]
  },
  {
   "cell_type": "markdown",
   "id": "6fa96497",
   "metadata": {
    "papermill": {
     "duration": 0.024422,
     "end_time": "2023-10-16T19:58:41.016446",
     "exception": false,
     "start_time": "2023-10-16T19:58:40.992024",
     "status": "completed"
    },
    "tags": []
   },
   "source": [
    "Has score less than that of LogisticRegressions'"
   ]
  },
  {
   "cell_type": "code",
   "execution_count": 43,
   "id": "37ca3c4a",
   "metadata": {
    "execution": {
     "iopub.execute_input": "2023-10-16T19:58:41.067796Z",
     "iopub.status.busy": "2023-10-16T19:58:41.067459Z",
     "iopub.status.idle": "2023-10-16T19:58:41.073192Z",
     "shell.execute_reply": "2023-10-16T19:58:41.071607Z"
    },
    "papermill": {
     "duration": 0.034214,
     "end_time": "2023-10-16T19:58:41.075164",
     "exception": false,
     "start_time": "2023-10-16T19:58:41.040950",
     "status": "completed"
    },
    "tags": []
   },
   "outputs": [],
   "source": [
    "from sklearn.svm import SVC\n",
    "clf_svc = SVC(kernel='rbf', max_iter=500)\n",
    "clf_pipeline_svc=Pipeline(steps=[('col_trans',col_trans),('model',clf_svc)])"
   ]
  },
  {
   "cell_type": "code",
   "execution_count": 44,
   "id": "fb850b13",
   "metadata": {
    "execution": {
     "iopub.execute_input": "2023-10-16T19:58:41.125131Z",
     "iopub.status.busy": "2023-10-16T19:58:41.124782Z",
     "iopub.status.idle": "2023-10-16T19:58:41.171434Z",
     "shell.execute_reply": "2023-10-16T19:58:41.170367Z"
    },
    "papermill": {
     "duration": 0.073983,
     "end_time": "2023-10-16T19:58:41.173102",
     "exception": false,
     "start_time": "2023-10-16T19:58:41.099119",
     "status": "completed"
    },
    "tags": []
   },
   "outputs": [
    {
     "data": {
      "text/html": [
       "<style>#sk-3b290328-2a7b-4e72-9a6b-7d9437fed8ea {color: black;background-color: white;}#sk-3b290328-2a7b-4e72-9a6b-7d9437fed8ea pre{padding: 0;}#sk-3b290328-2a7b-4e72-9a6b-7d9437fed8ea div.sk-toggleable {background-color: white;}#sk-3b290328-2a7b-4e72-9a6b-7d9437fed8ea label.sk-toggleable__label {cursor: pointer;display: block;width: 100%;margin-bottom: 0;padding: 0.3em;box-sizing: border-box;text-align: center;}#sk-3b290328-2a7b-4e72-9a6b-7d9437fed8ea label.sk-toggleable__label-arrow:before {content: \"▸\";float: left;margin-right: 0.25em;color: #696969;}#sk-3b290328-2a7b-4e72-9a6b-7d9437fed8ea label.sk-toggleable__label-arrow:hover:before {color: black;}#sk-3b290328-2a7b-4e72-9a6b-7d9437fed8ea div.sk-estimator:hover label.sk-toggleable__label-arrow:before {color: black;}#sk-3b290328-2a7b-4e72-9a6b-7d9437fed8ea div.sk-toggleable__content {max-height: 0;max-width: 0;overflow: hidden;text-align: left;background-color: #f0f8ff;}#sk-3b290328-2a7b-4e72-9a6b-7d9437fed8ea div.sk-toggleable__content pre {margin: 0.2em;color: black;border-radius: 0.25em;background-color: #f0f8ff;}#sk-3b290328-2a7b-4e72-9a6b-7d9437fed8ea input.sk-toggleable__control:checked~div.sk-toggleable__content {max-height: 200px;max-width: 100%;overflow: auto;}#sk-3b290328-2a7b-4e72-9a6b-7d9437fed8ea input.sk-toggleable__control:checked~label.sk-toggleable__label-arrow:before {content: \"▾\";}#sk-3b290328-2a7b-4e72-9a6b-7d9437fed8ea div.sk-estimator input.sk-toggleable__control:checked~label.sk-toggleable__label {background-color: #d4ebff;}#sk-3b290328-2a7b-4e72-9a6b-7d9437fed8ea div.sk-label input.sk-toggleable__control:checked~label.sk-toggleable__label {background-color: #d4ebff;}#sk-3b290328-2a7b-4e72-9a6b-7d9437fed8ea input.sk-hidden--visually {border: 0;clip: rect(1px 1px 1px 1px);clip: rect(1px, 1px, 1px, 1px);height: 1px;margin: -1px;overflow: hidden;padding: 0;position: absolute;width: 1px;}#sk-3b290328-2a7b-4e72-9a6b-7d9437fed8ea div.sk-estimator {font-family: monospace;background-color: #f0f8ff;border: 1px dotted black;border-radius: 0.25em;box-sizing: border-box;margin-bottom: 0.5em;}#sk-3b290328-2a7b-4e72-9a6b-7d9437fed8ea div.sk-estimator:hover {background-color: #d4ebff;}#sk-3b290328-2a7b-4e72-9a6b-7d9437fed8ea div.sk-parallel-item::after {content: \"\";width: 100%;border-bottom: 1px solid gray;flex-grow: 1;}#sk-3b290328-2a7b-4e72-9a6b-7d9437fed8ea div.sk-label:hover label.sk-toggleable__label {background-color: #d4ebff;}#sk-3b290328-2a7b-4e72-9a6b-7d9437fed8ea div.sk-serial::before {content: \"\";position: absolute;border-left: 1px solid gray;box-sizing: border-box;top: 2em;bottom: 0;left: 50%;}#sk-3b290328-2a7b-4e72-9a6b-7d9437fed8ea div.sk-serial {display: flex;flex-direction: column;align-items: center;background-color: white;padding-right: 0.2em;padding-left: 0.2em;}#sk-3b290328-2a7b-4e72-9a6b-7d9437fed8ea div.sk-item {z-index: 1;}#sk-3b290328-2a7b-4e72-9a6b-7d9437fed8ea div.sk-parallel {display: flex;align-items: stretch;justify-content: center;background-color: white;}#sk-3b290328-2a7b-4e72-9a6b-7d9437fed8ea div.sk-parallel::before {content: \"\";position: absolute;border-left: 1px solid gray;box-sizing: border-box;top: 2em;bottom: 0;left: 50%;}#sk-3b290328-2a7b-4e72-9a6b-7d9437fed8ea div.sk-parallel-item {display: flex;flex-direction: column;position: relative;background-color: white;}#sk-3b290328-2a7b-4e72-9a6b-7d9437fed8ea div.sk-parallel-item:first-child::after {align-self: flex-end;width: 50%;}#sk-3b290328-2a7b-4e72-9a6b-7d9437fed8ea div.sk-parallel-item:last-child::after {align-self: flex-start;width: 50%;}#sk-3b290328-2a7b-4e72-9a6b-7d9437fed8ea div.sk-parallel-item:only-child::after {width: 0;}#sk-3b290328-2a7b-4e72-9a6b-7d9437fed8ea div.sk-dashed-wrapped {border: 1px dashed gray;margin: 0 0.4em 0.5em 0.4em;box-sizing: border-box;padding-bottom: 0.4em;background-color: white;position: relative;}#sk-3b290328-2a7b-4e72-9a6b-7d9437fed8ea div.sk-label label {font-family: monospace;font-weight: bold;background-color: white;display: inline-block;line-height: 1.2em;}#sk-3b290328-2a7b-4e72-9a6b-7d9437fed8ea div.sk-label-container {position: relative;z-index: 2;text-align: center;}#sk-3b290328-2a7b-4e72-9a6b-7d9437fed8ea div.sk-container {/* jupyter's `normalize.less` sets `[hidden] { display: none; }` but bootstrap.min.css set `[hidden] { display: none !important; }` so we also need the `!important` here to be able to override the default hidden behavior on the sphinx rendered scikit-learn.org. See: https://github.com/scikit-learn/scikit-learn/issues/21755 */display: inline-block !important;position: relative;}#sk-3b290328-2a7b-4e72-9a6b-7d9437fed8ea div.sk-text-repr-fallback {display: none;}</style><div id=\"sk-3b290328-2a7b-4e72-9a6b-7d9437fed8ea\" class=\"sk-top-container\"><div class=\"sk-text-repr-fallback\"><pre>Pipeline(steps=[(&#x27;col_trans&#x27;,\n",
       "                 ColumnTransformer(n_jobs=-1,\n",
       "                                   transformers=[(&#x27;num_pipeline&#x27;,\n",
       "                                                  Pipeline(steps=[(&#x27;impute&#x27;,\n",
       "                                                                   SimpleImputer()),\n",
       "                                                                  (&#x27;min_max_scale&#x27;,\n",
       "                                                                   MinMaxScaler())]),\n",
       "                                                  [&#x27;Age&#x27;, &#x27;Fare&#x27;]),\n",
       "                                                 (&#x27;num_pipeline_new&#x27;,\n",
       "                                                  Pipeline(steps=[(&#x27;impute2&#x27;,\n",
       "                                                                   SimpleImputer(strategy=&#x27;most_frequent&#x27;))]),\n",
       "                                                  [&#x27;Pclass&#x27;, &#x27;SibSp&#x27;, &#x27;Parch&#x27;]),\n",
       "                                                 (&#x27;cat_pipeline&#x27;,\n",
       "                                                  Pipeline(steps=[(&#x27;impute&#x27;,\n",
       "                                                                   SimpleImputer(strategy=&#x27;most_frequent&#x27;)),\n",
       "                                                                  (&#x27;one_hot&#x27;,\n",
       "                                                                   OneHotEncoder(handle_unknown=&#x27;ignore&#x27;,\n",
       "                                                                                 sparse=False))]),\n",
       "                                                  [&#x27;Sex&#x27;])])),\n",
       "                (&#x27;model&#x27;, SVC(max_iter=500))])</pre><b>Please rerun this cell to show the HTML repr or trust the notebook.</b></div><div class=\"sk-container\" hidden><div class=\"sk-item sk-dashed-wrapped\"><div class=\"sk-label-container\"><div class=\"sk-label sk-toggleable\"><input class=\"sk-toggleable__control sk-hidden--visually\" id=\"ddba2d00-243d-48e6-b084-18f2ddd14563\" type=\"checkbox\" ><label for=\"ddba2d00-243d-48e6-b084-18f2ddd14563\" class=\"sk-toggleable__label sk-toggleable__label-arrow\">Pipeline</label><div class=\"sk-toggleable__content\"><pre>Pipeline(steps=[(&#x27;col_trans&#x27;,\n",
       "                 ColumnTransformer(n_jobs=-1,\n",
       "                                   transformers=[(&#x27;num_pipeline&#x27;,\n",
       "                                                  Pipeline(steps=[(&#x27;impute&#x27;,\n",
       "                                                                   SimpleImputer()),\n",
       "                                                                  (&#x27;min_max_scale&#x27;,\n",
       "                                                                   MinMaxScaler())]),\n",
       "                                                  [&#x27;Age&#x27;, &#x27;Fare&#x27;]),\n",
       "                                                 (&#x27;num_pipeline_new&#x27;,\n",
       "                                                  Pipeline(steps=[(&#x27;impute2&#x27;,\n",
       "                                                                   SimpleImputer(strategy=&#x27;most_frequent&#x27;))]),\n",
       "                                                  [&#x27;Pclass&#x27;, &#x27;SibSp&#x27;, &#x27;Parch&#x27;]),\n",
       "                                                 (&#x27;cat_pipeline&#x27;,\n",
       "                                                  Pipeline(steps=[(&#x27;impute&#x27;,\n",
       "                                                                   SimpleImputer(strategy=&#x27;most_frequent&#x27;)),\n",
       "                                                                  (&#x27;one_hot&#x27;,\n",
       "                                                                   OneHotEncoder(handle_unknown=&#x27;ignore&#x27;,\n",
       "                                                                                 sparse=False))]),\n",
       "                                                  [&#x27;Sex&#x27;])])),\n",
       "                (&#x27;model&#x27;, SVC(max_iter=500))])</pre></div></div></div><div class=\"sk-serial\"><div class=\"sk-item sk-dashed-wrapped\"><div class=\"sk-label-container\"><div class=\"sk-label sk-toggleable\"><input class=\"sk-toggleable__control sk-hidden--visually\" id=\"5a96e023-6f0d-44af-95c1-6873559fbb47\" type=\"checkbox\" ><label for=\"5a96e023-6f0d-44af-95c1-6873559fbb47\" class=\"sk-toggleable__label sk-toggleable__label-arrow\">col_trans: ColumnTransformer</label><div class=\"sk-toggleable__content\"><pre>ColumnTransformer(n_jobs=-1,\n",
       "                  transformers=[(&#x27;num_pipeline&#x27;,\n",
       "                                 Pipeline(steps=[(&#x27;impute&#x27;, SimpleImputer()),\n",
       "                                                 (&#x27;min_max_scale&#x27;,\n",
       "                                                  MinMaxScaler())]),\n",
       "                                 [&#x27;Age&#x27;, &#x27;Fare&#x27;]),\n",
       "                                (&#x27;num_pipeline_new&#x27;,\n",
       "                                 Pipeline(steps=[(&#x27;impute2&#x27;,\n",
       "                                                  SimpleImputer(strategy=&#x27;most_frequent&#x27;))]),\n",
       "                                 [&#x27;Pclass&#x27;, &#x27;SibSp&#x27;, &#x27;Parch&#x27;]),\n",
       "                                (&#x27;cat_pipeline&#x27;,\n",
       "                                 Pipeline(steps=[(&#x27;impute&#x27;,\n",
       "                                                  SimpleImputer(strategy=&#x27;most_frequent&#x27;)),\n",
       "                                                 (&#x27;one_hot&#x27;,\n",
       "                                                  OneHotEncoder(handle_unknown=&#x27;ignore&#x27;,\n",
       "                                                                sparse=False))]),\n",
       "                                 [&#x27;Sex&#x27;])])</pre></div></div></div><div class=\"sk-parallel\"><div class=\"sk-parallel-item\"><div class=\"sk-item\"><div class=\"sk-label-container\"><div class=\"sk-label sk-toggleable\"><input class=\"sk-toggleable__control sk-hidden--visually\" id=\"7070f7e1-51d1-440e-88a1-01608517b583\" type=\"checkbox\" ><label for=\"7070f7e1-51d1-440e-88a1-01608517b583\" class=\"sk-toggleable__label sk-toggleable__label-arrow\">num_pipeline</label><div class=\"sk-toggleable__content\"><pre>[&#x27;Age&#x27;, &#x27;Fare&#x27;]</pre></div></div></div><div class=\"sk-serial\"><div class=\"sk-item\"><div class=\"sk-serial\"><div class=\"sk-item\"><div class=\"sk-estimator sk-toggleable\"><input class=\"sk-toggleable__control sk-hidden--visually\" id=\"b3ecb9b9-b381-4466-8e96-55ecefaaf9b6\" type=\"checkbox\" ><label for=\"b3ecb9b9-b381-4466-8e96-55ecefaaf9b6\" class=\"sk-toggleable__label sk-toggleable__label-arrow\">SimpleImputer</label><div class=\"sk-toggleable__content\"><pre>SimpleImputer()</pre></div></div></div><div class=\"sk-item\"><div class=\"sk-estimator sk-toggleable\"><input class=\"sk-toggleable__control sk-hidden--visually\" id=\"8ed45c10-82fb-4fd9-8b51-ad45d4b067a9\" type=\"checkbox\" ><label for=\"8ed45c10-82fb-4fd9-8b51-ad45d4b067a9\" class=\"sk-toggleable__label sk-toggleable__label-arrow\">MinMaxScaler</label><div class=\"sk-toggleable__content\"><pre>MinMaxScaler()</pre></div></div></div></div></div></div></div></div><div class=\"sk-parallel-item\"><div class=\"sk-item\"><div class=\"sk-label-container\"><div class=\"sk-label sk-toggleable\"><input class=\"sk-toggleable__control sk-hidden--visually\" id=\"410fc1a6-e842-4663-8ad5-ac4ec6c42497\" type=\"checkbox\" ><label for=\"410fc1a6-e842-4663-8ad5-ac4ec6c42497\" class=\"sk-toggleable__label sk-toggleable__label-arrow\">num_pipeline_new</label><div class=\"sk-toggleable__content\"><pre>[&#x27;Pclass&#x27;, &#x27;SibSp&#x27;, &#x27;Parch&#x27;]</pre></div></div></div><div class=\"sk-serial\"><div class=\"sk-item\"><div class=\"sk-serial\"><div class=\"sk-item\"><div class=\"sk-estimator sk-toggleable\"><input class=\"sk-toggleable__control sk-hidden--visually\" id=\"a5451b68-b898-48fe-87a1-b7638a7c0b89\" type=\"checkbox\" ><label for=\"a5451b68-b898-48fe-87a1-b7638a7c0b89\" class=\"sk-toggleable__label sk-toggleable__label-arrow\">SimpleImputer</label><div class=\"sk-toggleable__content\"><pre>SimpleImputer(strategy=&#x27;most_frequent&#x27;)</pre></div></div></div></div></div></div></div></div><div class=\"sk-parallel-item\"><div class=\"sk-item\"><div class=\"sk-label-container\"><div class=\"sk-label sk-toggleable\"><input class=\"sk-toggleable__control sk-hidden--visually\" id=\"f6590e96-c4ce-485a-846a-9a11e24d1bf3\" type=\"checkbox\" ><label for=\"f6590e96-c4ce-485a-846a-9a11e24d1bf3\" class=\"sk-toggleable__label sk-toggleable__label-arrow\">cat_pipeline</label><div class=\"sk-toggleable__content\"><pre>[&#x27;Sex&#x27;]</pre></div></div></div><div class=\"sk-serial\"><div class=\"sk-item\"><div class=\"sk-serial\"><div class=\"sk-item\"><div class=\"sk-estimator sk-toggleable\"><input class=\"sk-toggleable__control sk-hidden--visually\" id=\"b31ab6d9-c334-4293-a066-46fdeab7ff80\" type=\"checkbox\" ><label for=\"b31ab6d9-c334-4293-a066-46fdeab7ff80\" class=\"sk-toggleable__label sk-toggleable__label-arrow\">SimpleImputer</label><div class=\"sk-toggleable__content\"><pre>SimpleImputer(strategy=&#x27;most_frequent&#x27;)</pre></div></div></div><div class=\"sk-item\"><div class=\"sk-estimator sk-toggleable\"><input class=\"sk-toggleable__control sk-hidden--visually\" id=\"6bea1f83-a9e8-409e-9699-b8e2172bf4ab\" type=\"checkbox\" ><label for=\"6bea1f83-a9e8-409e-9699-b8e2172bf4ab\" class=\"sk-toggleable__label sk-toggleable__label-arrow\">OneHotEncoder</label><div class=\"sk-toggleable__content\"><pre>OneHotEncoder(handle_unknown=&#x27;ignore&#x27;, sparse=False)</pre></div></div></div></div></div></div></div></div></div></div><div class=\"sk-item\"><div class=\"sk-estimator sk-toggleable\"><input class=\"sk-toggleable__control sk-hidden--visually\" id=\"a26bb4ef-a5d9-49b3-b16f-94d9d1c16aa5\" type=\"checkbox\" ><label for=\"a26bb4ef-a5d9-49b3-b16f-94d9d1c16aa5\" class=\"sk-toggleable__label sk-toggleable__label-arrow\">SVC</label><div class=\"sk-toggleable__content\"><pre>SVC(max_iter=500)</pre></div></div></div></div></div></div></div>"
      ],
      "text/plain": [
       "Pipeline(steps=[('col_trans',\n",
       "                 ColumnTransformer(n_jobs=-1,\n",
       "                                   transformers=[('num_pipeline',\n",
       "                                                  Pipeline(steps=[('impute',\n",
       "                                                                   SimpleImputer()),\n",
       "                                                                  ('min_max_scale',\n",
       "                                                                   MinMaxScaler())]),\n",
       "                                                  ['Age', 'Fare']),\n",
       "                                                 ('num_pipeline_new',\n",
       "                                                  Pipeline(steps=[('impute2',\n",
       "                                                                   SimpleImputer(strategy='most_frequent'))]),\n",
       "                                                  ['Pclass', 'SibSp', 'Parch']),\n",
       "                                                 ('cat_pipeline',\n",
       "                                                  Pipeline(steps=[('impute',\n",
       "                                                                   SimpleImputer(strategy='most_frequent')),\n",
       "                                                                  ('one_hot',\n",
       "                                                                   OneHotEncoder(handle_unknown='ignore',\n",
       "                                                                                 sparse=False))]),\n",
       "                                                  ['Sex'])])),\n",
       "                ('model', SVC(max_iter=500))])"
      ]
     },
     "metadata": {},
     "output_type": "display_data"
    }
   ],
   "source": [
    "display(clf_pipeline_svc)"
   ]
  },
  {
   "cell_type": "code",
   "execution_count": 45,
   "id": "73370e0d",
   "metadata": {
    "execution": {
     "iopub.execute_input": "2023-10-16T19:58:41.224207Z",
     "iopub.status.busy": "2023-10-16T19:58:41.223935Z",
     "iopub.status.idle": "2023-10-16T19:58:41.276358Z",
     "shell.execute_reply": "2023-10-16T19:58:41.274602Z"
    },
    "papermill": {
     "duration": 0.080575,
     "end_time": "2023-10-16T19:58:41.279239",
     "exception": false,
     "start_time": "2023-10-16T19:58:41.198664",
     "status": "completed"
    },
    "tags": []
   },
   "outputs": [
    {
     "data": {
      "text/plain": [
       "0.7821229050279329"
      ]
     },
     "execution_count": 45,
     "metadata": {},
     "output_type": "execute_result"
    }
   ],
   "source": [
    "clf_pipeline_svc.fit(x_train,y_train)\n",
    "clf_pipeline_svc.score(x_test,y_test)"
   ]
  },
  {
   "cell_type": "markdown",
   "id": "d34aebe3",
   "metadata": {
    "papermill": {
     "duration": 0.024329,
     "end_time": "2023-10-16T19:58:41.327754",
     "exception": false,
     "start_time": "2023-10-16T19:58:41.303425",
     "status": "completed"
    },
    "tags": []
   },
   "source": [
    "Clf_pipeline and clf_pipeline_svc gives same score, 78.21%"
   ]
  },
  {
   "cell_type": "code",
   "execution_count": 46,
   "id": "5589ad3f",
   "metadata": {
    "execution": {
     "iopub.execute_input": "2023-10-16T19:58:41.378971Z",
     "iopub.status.busy": "2023-10-16T19:58:41.378630Z",
     "iopub.status.idle": "2023-10-16T19:58:41.554964Z",
     "shell.execute_reply": "2023-10-16T19:58:41.553648Z"
    },
    "papermill": {
     "duration": 0.205263,
     "end_time": "2023-10-16T19:58:41.557411",
     "exception": false,
     "start_time": "2023-10-16T19:58:41.352148",
     "status": "completed"
    },
    "tags": []
   },
   "outputs": [],
   "source": [
    "from sklearn.ensemble import RandomForestClassifier\n",
    "\n",
    "clf_rf = RandomForestClassifier(n_estimators=100, max_depth=5, random_state=1)\n",
    "clf_pipeline_rfc=Pipeline(steps=[('col_trans',col_trans),('model',clf_rf)])"
   ]
  },
  {
   "cell_type": "code",
   "execution_count": 47,
   "id": "933a6a01",
   "metadata": {
    "execution": {
     "iopub.execute_input": "2023-10-16T19:58:41.607753Z",
     "iopub.status.busy": "2023-10-16T19:58:41.607457Z",
     "iopub.status.idle": "2023-10-16T19:58:41.655778Z",
     "shell.execute_reply": "2023-10-16T19:58:41.654096Z"
    },
    "papermill": {
     "duration": 0.075611,
     "end_time": "2023-10-16T19:58:41.657899",
     "exception": false,
     "start_time": "2023-10-16T19:58:41.582288",
     "status": "completed"
    },
    "tags": []
   },
   "outputs": [
    {
     "data": {
      "text/html": [
       "<style>#sk-d2919eaf-cf0b-48df-a70e-c03b1dbd38e5 {color: black;background-color: white;}#sk-d2919eaf-cf0b-48df-a70e-c03b1dbd38e5 pre{padding: 0;}#sk-d2919eaf-cf0b-48df-a70e-c03b1dbd38e5 div.sk-toggleable {background-color: white;}#sk-d2919eaf-cf0b-48df-a70e-c03b1dbd38e5 label.sk-toggleable__label {cursor: pointer;display: block;width: 100%;margin-bottom: 0;padding: 0.3em;box-sizing: border-box;text-align: center;}#sk-d2919eaf-cf0b-48df-a70e-c03b1dbd38e5 label.sk-toggleable__label-arrow:before {content: \"▸\";float: left;margin-right: 0.25em;color: #696969;}#sk-d2919eaf-cf0b-48df-a70e-c03b1dbd38e5 label.sk-toggleable__label-arrow:hover:before {color: black;}#sk-d2919eaf-cf0b-48df-a70e-c03b1dbd38e5 div.sk-estimator:hover label.sk-toggleable__label-arrow:before {color: black;}#sk-d2919eaf-cf0b-48df-a70e-c03b1dbd38e5 div.sk-toggleable__content {max-height: 0;max-width: 0;overflow: hidden;text-align: left;background-color: #f0f8ff;}#sk-d2919eaf-cf0b-48df-a70e-c03b1dbd38e5 div.sk-toggleable__content pre {margin: 0.2em;color: black;border-radius: 0.25em;background-color: #f0f8ff;}#sk-d2919eaf-cf0b-48df-a70e-c03b1dbd38e5 input.sk-toggleable__control:checked~div.sk-toggleable__content {max-height: 200px;max-width: 100%;overflow: auto;}#sk-d2919eaf-cf0b-48df-a70e-c03b1dbd38e5 input.sk-toggleable__control:checked~label.sk-toggleable__label-arrow:before {content: \"▾\";}#sk-d2919eaf-cf0b-48df-a70e-c03b1dbd38e5 div.sk-estimator input.sk-toggleable__control:checked~label.sk-toggleable__label {background-color: #d4ebff;}#sk-d2919eaf-cf0b-48df-a70e-c03b1dbd38e5 div.sk-label input.sk-toggleable__control:checked~label.sk-toggleable__label {background-color: #d4ebff;}#sk-d2919eaf-cf0b-48df-a70e-c03b1dbd38e5 input.sk-hidden--visually {border: 0;clip: rect(1px 1px 1px 1px);clip: rect(1px, 1px, 1px, 1px);height: 1px;margin: -1px;overflow: hidden;padding: 0;position: absolute;width: 1px;}#sk-d2919eaf-cf0b-48df-a70e-c03b1dbd38e5 div.sk-estimator {font-family: monospace;background-color: #f0f8ff;border: 1px dotted black;border-radius: 0.25em;box-sizing: border-box;margin-bottom: 0.5em;}#sk-d2919eaf-cf0b-48df-a70e-c03b1dbd38e5 div.sk-estimator:hover {background-color: #d4ebff;}#sk-d2919eaf-cf0b-48df-a70e-c03b1dbd38e5 div.sk-parallel-item::after {content: \"\";width: 100%;border-bottom: 1px solid gray;flex-grow: 1;}#sk-d2919eaf-cf0b-48df-a70e-c03b1dbd38e5 div.sk-label:hover label.sk-toggleable__label {background-color: #d4ebff;}#sk-d2919eaf-cf0b-48df-a70e-c03b1dbd38e5 div.sk-serial::before {content: \"\";position: absolute;border-left: 1px solid gray;box-sizing: border-box;top: 2em;bottom: 0;left: 50%;}#sk-d2919eaf-cf0b-48df-a70e-c03b1dbd38e5 div.sk-serial {display: flex;flex-direction: column;align-items: center;background-color: white;padding-right: 0.2em;padding-left: 0.2em;}#sk-d2919eaf-cf0b-48df-a70e-c03b1dbd38e5 div.sk-item {z-index: 1;}#sk-d2919eaf-cf0b-48df-a70e-c03b1dbd38e5 div.sk-parallel {display: flex;align-items: stretch;justify-content: center;background-color: white;}#sk-d2919eaf-cf0b-48df-a70e-c03b1dbd38e5 div.sk-parallel::before {content: \"\";position: absolute;border-left: 1px solid gray;box-sizing: border-box;top: 2em;bottom: 0;left: 50%;}#sk-d2919eaf-cf0b-48df-a70e-c03b1dbd38e5 div.sk-parallel-item {display: flex;flex-direction: column;position: relative;background-color: white;}#sk-d2919eaf-cf0b-48df-a70e-c03b1dbd38e5 div.sk-parallel-item:first-child::after {align-self: flex-end;width: 50%;}#sk-d2919eaf-cf0b-48df-a70e-c03b1dbd38e5 div.sk-parallel-item:last-child::after {align-self: flex-start;width: 50%;}#sk-d2919eaf-cf0b-48df-a70e-c03b1dbd38e5 div.sk-parallel-item:only-child::after {width: 0;}#sk-d2919eaf-cf0b-48df-a70e-c03b1dbd38e5 div.sk-dashed-wrapped {border: 1px dashed gray;margin: 0 0.4em 0.5em 0.4em;box-sizing: border-box;padding-bottom: 0.4em;background-color: white;position: relative;}#sk-d2919eaf-cf0b-48df-a70e-c03b1dbd38e5 div.sk-label label {font-family: monospace;font-weight: bold;background-color: white;display: inline-block;line-height: 1.2em;}#sk-d2919eaf-cf0b-48df-a70e-c03b1dbd38e5 div.sk-label-container {position: relative;z-index: 2;text-align: center;}#sk-d2919eaf-cf0b-48df-a70e-c03b1dbd38e5 div.sk-container {/* jupyter's `normalize.less` sets `[hidden] { display: none; }` but bootstrap.min.css set `[hidden] { display: none !important; }` so we also need the `!important` here to be able to override the default hidden behavior on the sphinx rendered scikit-learn.org. See: https://github.com/scikit-learn/scikit-learn/issues/21755 */display: inline-block !important;position: relative;}#sk-d2919eaf-cf0b-48df-a70e-c03b1dbd38e5 div.sk-text-repr-fallback {display: none;}</style><div id=\"sk-d2919eaf-cf0b-48df-a70e-c03b1dbd38e5\" class=\"sk-top-container\"><div class=\"sk-text-repr-fallback\"><pre>Pipeline(steps=[(&#x27;col_trans&#x27;,\n",
       "                 ColumnTransformer(n_jobs=-1,\n",
       "                                   transformers=[(&#x27;num_pipeline&#x27;,\n",
       "                                                  Pipeline(steps=[(&#x27;impute&#x27;,\n",
       "                                                                   SimpleImputer()),\n",
       "                                                                  (&#x27;min_max_scale&#x27;,\n",
       "                                                                   MinMaxScaler())]),\n",
       "                                                  [&#x27;Age&#x27;, &#x27;Fare&#x27;]),\n",
       "                                                 (&#x27;num_pipeline_new&#x27;,\n",
       "                                                  Pipeline(steps=[(&#x27;impute2&#x27;,\n",
       "                                                                   SimpleImputer(strategy=&#x27;most_frequent&#x27;))]),\n",
       "                                                  [&#x27;Pclass&#x27;, &#x27;SibSp&#x27;, &#x27;Parch&#x27;]),\n",
       "                                                 (&#x27;cat_pipeline&#x27;,\n",
       "                                                  Pipeline(steps=[(&#x27;impute&#x27;,\n",
       "                                                                   SimpleImputer(strategy=&#x27;most_frequent&#x27;)),\n",
       "                                                                  (&#x27;one_hot&#x27;,\n",
       "                                                                   OneHotEncoder(handle_unknown=&#x27;ignore&#x27;,\n",
       "                                                                                 sparse=False))]),\n",
       "                                                  [&#x27;Sex&#x27;])])),\n",
       "                (&#x27;model&#x27;, RandomForestClassifier(max_depth=5, random_state=1))])</pre><b>Please rerun this cell to show the HTML repr or trust the notebook.</b></div><div class=\"sk-container\" hidden><div class=\"sk-item sk-dashed-wrapped\"><div class=\"sk-label-container\"><div class=\"sk-label sk-toggleable\"><input class=\"sk-toggleable__control sk-hidden--visually\" id=\"bab16628-9ef5-4e90-9893-e4a4d432fdf3\" type=\"checkbox\" ><label for=\"bab16628-9ef5-4e90-9893-e4a4d432fdf3\" class=\"sk-toggleable__label sk-toggleable__label-arrow\">Pipeline</label><div class=\"sk-toggleable__content\"><pre>Pipeline(steps=[(&#x27;col_trans&#x27;,\n",
       "                 ColumnTransformer(n_jobs=-1,\n",
       "                                   transformers=[(&#x27;num_pipeline&#x27;,\n",
       "                                                  Pipeline(steps=[(&#x27;impute&#x27;,\n",
       "                                                                   SimpleImputer()),\n",
       "                                                                  (&#x27;min_max_scale&#x27;,\n",
       "                                                                   MinMaxScaler())]),\n",
       "                                                  [&#x27;Age&#x27;, &#x27;Fare&#x27;]),\n",
       "                                                 (&#x27;num_pipeline_new&#x27;,\n",
       "                                                  Pipeline(steps=[(&#x27;impute2&#x27;,\n",
       "                                                                   SimpleImputer(strategy=&#x27;most_frequent&#x27;))]),\n",
       "                                                  [&#x27;Pclass&#x27;, &#x27;SibSp&#x27;, &#x27;Parch&#x27;]),\n",
       "                                                 (&#x27;cat_pipeline&#x27;,\n",
       "                                                  Pipeline(steps=[(&#x27;impute&#x27;,\n",
       "                                                                   SimpleImputer(strategy=&#x27;most_frequent&#x27;)),\n",
       "                                                                  (&#x27;one_hot&#x27;,\n",
       "                                                                   OneHotEncoder(handle_unknown=&#x27;ignore&#x27;,\n",
       "                                                                                 sparse=False))]),\n",
       "                                                  [&#x27;Sex&#x27;])])),\n",
       "                (&#x27;model&#x27;, RandomForestClassifier(max_depth=5, random_state=1))])</pre></div></div></div><div class=\"sk-serial\"><div class=\"sk-item sk-dashed-wrapped\"><div class=\"sk-label-container\"><div class=\"sk-label sk-toggleable\"><input class=\"sk-toggleable__control sk-hidden--visually\" id=\"2e31b2a7-5931-4af3-ab5c-eab0afebc08b\" type=\"checkbox\" ><label for=\"2e31b2a7-5931-4af3-ab5c-eab0afebc08b\" class=\"sk-toggleable__label sk-toggleable__label-arrow\">col_trans: ColumnTransformer</label><div class=\"sk-toggleable__content\"><pre>ColumnTransformer(n_jobs=-1,\n",
       "                  transformers=[(&#x27;num_pipeline&#x27;,\n",
       "                                 Pipeline(steps=[(&#x27;impute&#x27;, SimpleImputer()),\n",
       "                                                 (&#x27;min_max_scale&#x27;,\n",
       "                                                  MinMaxScaler())]),\n",
       "                                 [&#x27;Age&#x27;, &#x27;Fare&#x27;]),\n",
       "                                (&#x27;num_pipeline_new&#x27;,\n",
       "                                 Pipeline(steps=[(&#x27;impute2&#x27;,\n",
       "                                                  SimpleImputer(strategy=&#x27;most_frequent&#x27;))]),\n",
       "                                 [&#x27;Pclass&#x27;, &#x27;SibSp&#x27;, &#x27;Parch&#x27;]),\n",
       "                                (&#x27;cat_pipeline&#x27;,\n",
       "                                 Pipeline(steps=[(&#x27;impute&#x27;,\n",
       "                                                  SimpleImputer(strategy=&#x27;most_frequent&#x27;)),\n",
       "                                                 (&#x27;one_hot&#x27;,\n",
       "                                                  OneHotEncoder(handle_unknown=&#x27;ignore&#x27;,\n",
       "                                                                sparse=False))]),\n",
       "                                 [&#x27;Sex&#x27;])])</pre></div></div></div><div class=\"sk-parallel\"><div class=\"sk-parallel-item\"><div class=\"sk-item\"><div class=\"sk-label-container\"><div class=\"sk-label sk-toggleable\"><input class=\"sk-toggleable__control sk-hidden--visually\" id=\"ff1e71b8-0521-4716-86a1-0838d88de745\" type=\"checkbox\" ><label for=\"ff1e71b8-0521-4716-86a1-0838d88de745\" class=\"sk-toggleable__label sk-toggleable__label-arrow\">num_pipeline</label><div class=\"sk-toggleable__content\"><pre>[&#x27;Age&#x27;, &#x27;Fare&#x27;]</pre></div></div></div><div class=\"sk-serial\"><div class=\"sk-item\"><div class=\"sk-serial\"><div class=\"sk-item\"><div class=\"sk-estimator sk-toggleable\"><input class=\"sk-toggleable__control sk-hidden--visually\" id=\"369d44c6-c370-493d-a334-8963bb283343\" type=\"checkbox\" ><label for=\"369d44c6-c370-493d-a334-8963bb283343\" class=\"sk-toggleable__label sk-toggleable__label-arrow\">SimpleImputer</label><div class=\"sk-toggleable__content\"><pre>SimpleImputer()</pre></div></div></div><div class=\"sk-item\"><div class=\"sk-estimator sk-toggleable\"><input class=\"sk-toggleable__control sk-hidden--visually\" id=\"330e1846-e5ee-4bd2-ab76-4fbbe7c240ac\" type=\"checkbox\" ><label for=\"330e1846-e5ee-4bd2-ab76-4fbbe7c240ac\" class=\"sk-toggleable__label sk-toggleable__label-arrow\">MinMaxScaler</label><div class=\"sk-toggleable__content\"><pre>MinMaxScaler()</pre></div></div></div></div></div></div></div></div><div class=\"sk-parallel-item\"><div class=\"sk-item\"><div class=\"sk-label-container\"><div class=\"sk-label sk-toggleable\"><input class=\"sk-toggleable__control sk-hidden--visually\" id=\"8623ec50-d9bf-4c12-a4d4-783f3b599c2c\" type=\"checkbox\" ><label for=\"8623ec50-d9bf-4c12-a4d4-783f3b599c2c\" class=\"sk-toggleable__label sk-toggleable__label-arrow\">num_pipeline_new</label><div class=\"sk-toggleable__content\"><pre>[&#x27;Pclass&#x27;, &#x27;SibSp&#x27;, &#x27;Parch&#x27;]</pre></div></div></div><div class=\"sk-serial\"><div class=\"sk-item\"><div class=\"sk-serial\"><div class=\"sk-item\"><div class=\"sk-estimator sk-toggleable\"><input class=\"sk-toggleable__control sk-hidden--visually\" id=\"75a2bc76-e9fb-4246-95b7-dc25eda8d5a9\" type=\"checkbox\" ><label for=\"75a2bc76-e9fb-4246-95b7-dc25eda8d5a9\" class=\"sk-toggleable__label sk-toggleable__label-arrow\">SimpleImputer</label><div class=\"sk-toggleable__content\"><pre>SimpleImputer(strategy=&#x27;most_frequent&#x27;)</pre></div></div></div></div></div></div></div></div><div class=\"sk-parallel-item\"><div class=\"sk-item\"><div class=\"sk-label-container\"><div class=\"sk-label sk-toggleable\"><input class=\"sk-toggleable__control sk-hidden--visually\" id=\"a02a33fa-87c8-49fd-8571-e50cbc856864\" type=\"checkbox\" ><label for=\"a02a33fa-87c8-49fd-8571-e50cbc856864\" class=\"sk-toggleable__label sk-toggleable__label-arrow\">cat_pipeline</label><div class=\"sk-toggleable__content\"><pre>[&#x27;Sex&#x27;]</pre></div></div></div><div class=\"sk-serial\"><div class=\"sk-item\"><div class=\"sk-serial\"><div class=\"sk-item\"><div class=\"sk-estimator sk-toggleable\"><input class=\"sk-toggleable__control sk-hidden--visually\" id=\"f118d607-9561-4701-b001-90b16cdecdcf\" type=\"checkbox\" ><label for=\"f118d607-9561-4701-b001-90b16cdecdcf\" class=\"sk-toggleable__label sk-toggleable__label-arrow\">SimpleImputer</label><div class=\"sk-toggleable__content\"><pre>SimpleImputer(strategy=&#x27;most_frequent&#x27;)</pre></div></div></div><div class=\"sk-item\"><div class=\"sk-estimator sk-toggleable\"><input class=\"sk-toggleable__control sk-hidden--visually\" id=\"d38bd945-b997-4bf2-8501-4b1ce730f1cf\" type=\"checkbox\" ><label for=\"d38bd945-b997-4bf2-8501-4b1ce730f1cf\" class=\"sk-toggleable__label sk-toggleable__label-arrow\">OneHotEncoder</label><div class=\"sk-toggleable__content\"><pre>OneHotEncoder(handle_unknown=&#x27;ignore&#x27;, sparse=False)</pre></div></div></div></div></div></div></div></div></div></div><div class=\"sk-item\"><div class=\"sk-estimator sk-toggleable\"><input class=\"sk-toggleable__control sk-hidden--visually\" id=\"0aad8e73-9e2b-445c-9c19-795735c359bc\" type=\"checkbox\" ><label for=\"0aad8e73-9e2b-445c-9c19-795735c359bc\" class=\"sk-toggleable__label sk-toggleable__label-arrow\">RandomForestClassifier</label><div class=\"sk-toggleable__content\"><pre>RandomForestClassifier(max_depth=5, random_state=1)</pre></div></div></div></div></div></div></div>"
      ],
      "text/plain": [
       "Pipeline(steps=[('col_trans',\n",
       "                 ColumnTransformer(n_jobs=-1,\n",
       "                                   transformers=[('num_pipeline',\n",
       "                                                  Pipeline(steps=[('impute',\n",
       "                                                                   SimpleImputer()),\n",
       "                                                                  ('min_max_scale',\n",
       "                                                                   MinMaxScaler())]),\n",
       "                                                  ['Age', 'Fare']),\n",
       "                                                 ('num_pipeline_new',\n",
       "                                                  Pipeline(steps=[('impute2',\n",
       "                                                                   SimpleImputer(strategy='most_frequent'))]),\n",
       "                                                  ['Pclass', 'SibSp', 'Parch']),\n",
       "                                                 ('cat_pipeline',\n",
       "                                                  Pipeline(steps=[('impute',\n",
       "                                                                   SimpleImputer(strategy='most_frequent')),\n",
       "                                                                  ('one_hot',\n",
       "                                                                   OneHotEncoder(handle_unknown='ignore',\n",
       "                                                                                 sparse=False))]),\n",
       "                                                  ['Sex'])])),\n",
       "                ('model', RandomForestClassifier(max_depth=5, random_state=1))])"
      ]
     },
     "metadata": {},
     "output_type": "display_data"
    }
   ],
   "source": [
    "display(clf_pipeline_rfc)"
   ]
  },
  {
   "cell_type": "code",
   "execution_count": 48,
   "id": "6b866ec0",
   "metadata": {
    "execution": {
     "iopub.execute_input": "2023-10-16T19:58:41.714070Z",
     "iopub.status.busy": "2023-10-16T19:58:41.713727Z",
     "iopub.status.idle": "2023-10-16T19:58:41.876762Z",
     "shell.execute_reply": "2023-10-16T19:58:41.876059Z"
    },
    "papermill": {
     "duration": 0.190692,
     "end_time": "2023-10-16T19:58:41.878628",
     "exception": false,
     "start_time": "2023-10-16T19:58:41.687936",
     "status": "completed"
    },
    "tags": []
   },
   "outputs": [
    {
     "data": {
      "text/plain": [
       "0.7821229050279329"
      ]
     },
     "execution_count": 48,
     "metadata": {},
     "output_type": "execute_result"
    }
   ],
   "source": [
    "clf_pipeline_rfc.fit(x_train,y_train)\n",
    "clf_pipeline_rfc.score(x_test,y_test)"
   ]
  },
  {
   "cell_type": "code",
   "execution_count": 49,
   "id": "083637ae",
   "metadata": {
    "execution": {
     "iopub.execute_input": "2023-10-16T19:58:41.930024Z",
     "iopub.status.busy": "2023-10-16T19:58:41.929728Z",
     "iopub.status.idle": "2023-10-16T19:58:41.956537Z",
     "shell.execute_reply": "2023-10-16T19:58:41.955277Z"
    },
    "papermill": {
     "duration": 0.055434,
     "end_time": "2023-10-16T19:58:41.958603",
     "exception": false,
     "start_time": "2023-10-16T19:58:41.903169",
     "status": "completed"
    },
    "tags": []
   },
   "outputs": [
    {
     "data": {
      "text/plain": [
       "{'memory': None,\n",
       " 'steps': [('col_trans', ColumnTransformer(n_jobs=-1,\n",
       "                     transformers=[('num_pipeline',\n",
       "                                    Pipeline(steps=[('impute', SimpleImputer()),\n",
       "                                                    ('min_max_scale',\n",
       "                                                     MinMaxScaler())]),\n",
       "                                    ['Age', 'Fare']),\n",
       "                                   ('num_pipeline_new',\n",
       "                                    Pipeline(steps=[('impute2',\n",
       "                                                     SimpleImputer(strategy='most_frequent'))]),\n",
       "                                    ['Pclass', 'SibSp', 'Parch']),\n",
       "                                   ('cat_pipeline',\n",
       "                                    Pipeline(steps=[('impute',\n",
       "                                                     SimpleImputer(strategy='most_frequent')),\n",
       "                                                    ('one_hot',\n",
       "                                                     OneHotEncoder(handle_unknown='ignore',\n",
       "                                                                   sparse=False))]),\n",
       "                                    ['Sex'])])),\n",
       "  ('model', RandomForestClassifier(max_depth=5, random_state=1))],\n",
       " 'verbose': False,\n",
       " 'col_trans': ColumnTransformer(n_jobs=-1,\n",
       "                   transformers=[('num_pipeline',\n",
       "                                  Pipeline(steps=[('impute', SimpleImputer()),\n",
       "                                                  ('min_max_scale',\n",
       "                                                   MinMaxScaler())]),\n",
       "                                  ['Age', 'Fare']),\n",
       "                                 ('num_pipeline_new',\n",
       "                                  Pipeline(steps=[('impute2',\n",
       "                                                   SimpleImputer(strategy='most_frequent'))]),\n",
       "                                  ['Pclass', 'SibSp', 'Parch']),\n",
       "                                 ('cat_pipeline',\n",
       "                                  Pipeline(steps=[('impute',\n",
       "                                                   SimpleImputer(strategy='most_frequent')),\n",
       "                                                  ('one_hot',\n",
       "                                                   OneHotEncoder(handle_unknown='ignore',\n",
       "                                                                 sparse=False))]),\n",
       "                                  ['Sex'])]),\n",
       " 'model': RandomForestClassifier(max_depth=5, random_state=1),\n",
       " 'col_trans__n_jobs': -1,\n",
       " 'col_trans__remainder': 'drop',\n",
       " 'col_trans__sparse_threshold': 0.3,\n",
       " 'col_trans__transformer_weights': None,\n",
       " 'col_trans__transformers': [('num_pipeline',\n",
       "   Pipeline(steps=[('impute', SimpleImputer()), ('min_max_scale', MinMaxScaler())]),\n",
       "   ['Age', 'Fare']),\n",
       "  ('num_pipeline_new',\n",
       "   Pipeline(steps=[('impute2', SimpleImputer(strategy='most_frequent'))]),\n",
       "   ['Pclass', 'SibSp', 'Parch']),\n",
       "  ('cat_pipeline',\n",
       "   Pipeline(steps=[('impute', SimpleImputer(strategy='most_frequent')),\n",
       "                   ('one_hot',\n",
       "                    OneHotEncoder(handle_unknown='ignore', sparse=False))]),\n",
       "   ['Sex'])],\n",
       " 'col_trans__verbose': False,\n",
       " 'col_trans__verbose_feature_names_out': True,\n",
       " 'col_trans__num_pipeline': Pipeline(steps=[('impute', SimpleImputer()), ('min_max_scale', MinMaxScaler())]),\n",
       " 'col_trans__num_pipeline_new': Pipeline(steps=[('impute2', SimpleImputer(strategy='most_frequent'))]),\n",
       " 'col_trans__cat_pipeline': Pipeline(steps=[('impute', SimpleImputer(strategy='most_frequent')),\n",
       "                 ('one_hot',\n",
       "                  OneHotEncoder(handle_unknown='ignore', sparse=False))]),\n",
       " 'col_trans__num_pipeline__memory': None,\n",
       " 'col_trans__num_pipeline__steps': [('impute', SimpleImputer()),\n",
       "  ('min_max_scale', MinMaxScaler())],\n",
       " 'col_trans__num_pipeline__verbose': False,\n",
       " 'col_trans__num_pipeline__impute': SimpleImputer(),\n",
       " 'col_trans__num_pipeline__min_max_scale': MinMaxScaler(),\n",
       " 'col_trans__num_pipeline__impute__add_indicator': False,\n",
       " 'col_trans__num_pipeline__impute__copy': True,\n",
       " 'col_trans__num_pipeline__impute__fill_value': None,\n",
       " 'col_trans__num_pipeline__impute__missing_values': nan,\n",
       " 'col_trans__num_pipeline__impute__strategy': 'mean',\n",
       " 'col_trans__num_pipeline__impute__verbose': 0,\n",
       " 'col_trans__num_pipeline__min_max_scale__clip': False,\n",
       " 'col_trans__num_pipeline__min_max_scale__copy': True,\n",
       " 'col_trans__num_pipeline__min_max_scale__feature_range': (0, 1),\n",
       " 'col_trans__num_pipeline_new__memory': None,\n",
       " 'col_trans__num_pipeline_new__steps': [('impute2',\n",
       "   SimpleImputer(strategy='most_frequent'))],\n",
       " 'col_trans__num_pipeline_new__verbose': False,\n",
       " 'col_trans__num_pipeline_new__impute2': SimpleImputer(strategy='most_frequent'),\n",
       " 'col_trans__num_pipeline_new__impute2__add_indicator': False,\n",
       " 'col_trans__num_pipeline_new__impute2__copy': True,\n",
       " 'col_trans__num_pipeline_new__impute2__fill_value': None,\n",
       " 'col_trans__num_pipeline_new__impute2__missing_values': nan,\n",
       " 'col_trans__num_pipeline_new__impute2__strategy': 'most_frequent',\n",
       " 'col_trans__num_pipeline_new__impute2__verbose': 0,\n",
       " 'col_trans__cat_pipeline__memory': None,\n",
       " 'col_trans__cat_pipeline__steps': [('impute',\n",
       "   SimpleImputer(strategy='most_frequent')),\n",
       "  ('one_hot', OneHotEncoder(handle_unknown='ignore', sparse=False))],\n",
       " 'col_trans__cat_pipeline__verbose': False,\n",
       " 'col_trans__cat_pipeline__impute': SimpleImputer(strategy='most_frequent'),\n",
       " 'col_trans__cat_pipeline__one_hot': OneHotEncoder(handle_unknown='ignore', sparse=False),\n",
       " 'col_trans__cat_pipeline__impute__add_indicator': False,\n",
       " 'col_trans__cat_pipeline__impute__copy': True,\n",
       " 'col_trans__cat_pipeline__impute__fill_value': None,\n",
       " 'col_trans__cat_pipeline__impute__missing_values': nan,\n",
       " 'col_trans__cat_pipeline__impute__strategy': 'most_frequent',\n",
       " 'col_trans__cat_pipeline__impute__verbose': 0,\n",
       " 'col_trans__cat_pipeline__one_hot__categories': 'auto',\n",
       " 'col_trans__cat_pipeline__one_hot__drop': None,\n",
       " 'col_trans__cat_pipeline__one_hot__dtype': numpy.float64,\n",
       " 'col_trans__cat_pipeline__one_hot__handle_unknown': 'ignore',\n",
       " 'col_trans__cat_pipeline__one_hot__sparse': False,\n",
       " 'model__bootstrap': True,\n",
       " 'model__ccp_alpha': 0.0,\n",
       " 'model__class_weight': None,\n",
       " 'model__criterion': 'gini',\n",
       " 'model__max_depth': 5,\n",
       " 'model__max_features': 'auto',\n",
       " 'model__max_leaf_nodes': None,\n",
       " 'model__max_samples': None,\n",
       " 'model__min_impurity_decrease': 0.0,\n",
       " 'model__min_samples_leaf': 1,\n",
       " 'model__min_samples_split': 2,\n",
       " 'model__min_weight_fraction_leaf': 0.0,\n",
       " 'model__n_estimators': 100,\n",
       " 'model__n_jobs': None,\n",
       " 'model__oob_score': False,\n",
       " 'model__random_state': 1,\n",
       " 'model__verbose': 0,\n",
       " 'model__warm_start': False}"
      ]
     },
     "execution_count": 49,
     "metadata": {},
     "output_type": "execute_result"
    }
   ],
   "source": [
    "clf_pipeline_rfc.get_params()"
   ]
  },
  {
   "cell_type": "code",
   "execution_count": 50,
   "id": "dba947df",
   "metadata": {
    "execution": {
     "iopub.execute_input": "2023-10-16T19:58:42.010459Z",
     "iopub.status.busy": "2023-10-16T19:58:42.010106Z",
     "iopub.status.idle": "2023-10-16T19:58:42.015009Z",
     "shell.execute_reply": "2023-10-16T19:58:42.013757Z"
    },
    "papermill": {
     "duration": 0.032979,
     "end_time": "2023-10-16T19:58:42.016545",
     "exception": false,
     "start_time": "2023-10-16T19:58:41.983566",
     "status": "completed"
    },
    "tags": []
   },
   "outputs": [],
   "source": [
    "param_grid = { \n",
    "    'model__n_estimators': [25, 50, 100, 150], \n",
    "    'model__max_features': ['sqrt', 'log2', None], \n",
    "    'model__max_depth': [3, 5, 6, 9], \n",
    "    'model__max_leaf_nodes': [3, 6, 9, None] \n",
    "}"
   ]
  },
  {
   "cell_type": "code",
   "execution_count": 51,
   "id": "9d364188",
   "metadata": {
    "execution": {
     "iopub.execute_input": "2023-10-16T19:58:42.067217Z",
     "iopub.status.busy": "2023-10-16T19:58:42.066886Z",
     "iopub.status.idle": "2023-10-16T20:00:51.999485Z",
     "shell.execute_reply": "2023-10-16T20:00:51.997991Z"
    },
    "papermill": {
     "duration": 129.960299,
     "end_time": "2023-10-16T20:00:52.001822",
     "exception": false,
     "start_time": "2023-10-16T19:58:42.041523",
     "status": "completed"
    },
    "tags": []
   },
   "outputs": [
    {
     "name": "stdout",
     "output_type": "stream",
     "text": [
      "best score of train set: 0.8384812370727864\n",
      "best params of train set: {'model__max_depth': 6, 'model__max_features': 'sqrt', 'model__max_leaf_nodes': None, 'model__n_estimators': 150}\n",
      "best score of test set: 0.7877094972067039\n"
     ]
    }
   ],
   "source": [
    "gs4=GridSearchCV(clf_pipeline_rfc,param_grid,cv=5,scoring='accuracy')\n",
    "gs4.fit(x_train,y_train)\n",
    "print(\"best score of train set:\",(gs4.best_score_))\n",
    "print(\"best params of train set:\",(gs4.best_params_))\n",
    "print(\"best score of test set:\",(gs4.score(x_test,y_test)))"
   ]
  },
  {
   "cell_type": "markdown",
   "id": "4c745b69",
   "metadata": {
    "papermill": {
     "duration": 0.044183,
     "end_time": "2023-10-16T20:00:52.089551",
     "exception": false,
     "start_time": "2023-10-16T20:00:52.045368",
     "status": "completed"
    },
    "tags": []
   },
   "source": [
    "Clf_pipeline2 and clf_pipeline_svc gives same score, 78.21%\n",
    "while clf_pipeline_rfc(RandomForestClassifier's) score is 78.77% which is higher \n",
    "so, I will use clf_pipeline_rfc for prediction of test data"
   ]
  },
  {
   "cell_type": "code",
   "execution_count": 47,
   "id": "ee756b02",
   "metadata": {
    "execution": {
     "iopub.execute_input": "2023-10-16T20:00:52.182023Z",
     "iopub.status.busy": "2023-10-16T20:00:52.181683Z",
     "iopub.status.idle": "2023-10-16T20:00:52.200243Z",
     "shell.execute_reply": "2023-10-16T20:00:52.199629Z"
    },
    "papermill": {
     "duration": 0.065013,
     "end_time": "2023-10-16T20:00:52.201649",
     "exception": false,
     "start_time": "2023-10-16T20:00:52.136636",
     "status": "completed"
    },
    "tags": []
   },
   "outputs": [
    {
     "data": {
      "text/html": [
       "<div>\n",
       "<style scoped>\n",
       "    .dataframe tbody tr th:only-of-type {\n",
       "        vertical-align: middle;\n",
       "    }\n",
       "\n",
       "    .dataframe tbody tr th {\n",
       "        vertical-align: top;\n",
       "    }\n",
       "\n",
       "    .dataframe thead th {\n",
       "        text-align: right;\n",
       "    }\n",
       "</style>\n",
       "<table border=\"1\" class=\"dataframe\">\n",
       "  <thead>\n",
       "    <tr style=\"text-align: right;\">\n",
       "      <th></th>\n",
       "      <th>PassengerId</th>\n",
       "      <th>Pclass</th>\n",
       "      <th>Name</th>\n",
       "      <th>Sex</th>\n",
       "      <th>Age</th>\n",
       "      <th>SibSp</th>\n",
       "      <th>Parch</th>\n",
       "      <th>Ticket</th>\n",
       "      <th>Fare</th>\n",
       "      <th>Cabin</th>\n",
       "      <th>Embarked</th>\n",
       "    </tr>\n",
       "  </thead>\n",
       "  <tbody>\n",
       "    <tr>\n",
       "      <th>0</th>\n",
       "      <td>892</td>\n",
       "      <td>3</td>\n",
       "      <td>Kelly, Mr. James</td>\n",
       "      <td>male</td>\n",
       "      <td>34.5</td>\n",
       "      <td>0</td>\n",
       "      <td>0</td>\n",
       "      <td>330911</td>\n",
       "      <td>7.8292</td>\n",
       "      <td>NaN</td>\n",
       "      <td>Q</td>\n",
       "    </tr>\n",
       "    <tr>\n",
       "      <th>1</th>\n",
       "      <td>893</td>\n",
       "      <td>3</td>\n",
       "      <td>Wilkes, Mrs. James (Ellen Needs)</td>\n",
       "      <td>female</td>\n",
       "      <td>47.0</td>\n",
       "      <td>1</td>\n",
       "      <td>0</td>\n",
       "      <td>363272</td>\n",
       "      <td>7.0000</td>\n",
       "      <td>NaN</td>\n",
       "      <td>S</td>\n",
       "    </tr>\n",
       "    <tr>\n",
       "      <th>2</th>\n",
       "      <td>894</td>\n",
       "      <td>2</td>\n",
       "      <td>Myles, Mr. Thomas Francis</td>\n",
       "      <td>male</td>\n",
       "      <td>62.0</td>\n",
       "      <td>0</td>\n",
       "      <td>0</td>\n",
       "      <td>240276</td>\n",
       "      <td>9.6875</td>\n",
       "      <td>NaN</td>\n",
       "      <td>Q</td>\n",
       "    </tr>\n",
       "    <tr>\n",
       "      <th>3</th>\n",
       "      <td>895</td>\n",
       "      <td>3</td>\n",
       "      <td>Wirz, Mr. Albert</td>\n",
       "      <td>male</td>\n",
       "      <td>27.0</td>\n",
       "      <td>0</td>\n",
       "      <td>0</td>\n",
       "      <td>315154</td>\n",
       "      <td>8.6625</td>\n",
       "      <td>NaN</td>\n",
       "      <td>S</td>\n",
       "    </tr>\n",
       "    <tr>\n",
       "      <th>4</th>\n",
       "      <td>896</td>\n",
       "      <td>3</td>\n",
       "      <td>Hirvonen, Mrs. Alexander (Helga E Lindqvist)</td>\n",
       "      <td>female</td>\n",
       "      <td>22.0</td>\n",
       "      <td>1</td>\n",
       "      <td>1</td>\n",
       "      <td>3101298</td>\n",
       "      <td>12.2875</td>\n",
       "      <td>NaN</td>\n",
       "      <td>S</td>\n",
       "    </tr>\n",
       "  </tbody>\n",
       "</table>\n",
       "</div>"
      ],
      "text/plain": [
       "   PassengerId  Pclass                                          Name     Sex  \\\n",
       "0          892       3                              Kelly, Mr. James    male   \n",
       "1          893       3              Wilkes, Mrs. James (Ellen Needs)  female   \n",
       "2          894       2                     Myles, Mr. Thomas Francis    male   \n",
       "3          895       3                              Wirz, Mr. Albert    male   \n",
       "4          896       3  Hirvonen, Mrs. Alexander (Helga E Lindqvist)  female   \n",
       "\n",
       "    Age  SibSp  Parch   Ticket     Fare Cabin Embarked  \n",
       "0  34.5      0      0   330911   7.8292   NaN        Q  \n",
       "1  47.0      1      0   363272   7.0000   NaN        S  \n",
       "2  62.0      0      0   240276   9.6875   NaN        Q  \n",
       "3  27.0      0      0   315154   8.6625   NaN        S  \n",
       "4  22.0      1      1  3101298  12.2875   NaN        S  "
      ]
     },
     "execution_count": 47,
     "metadata": {},
     "output_type": "execute_result"
    }
   ],
   "source": [
    "#importing test dataset \n",
    "test_data = pd.read_csv(\"/kaggle/input/titanic/test.csv\")\n",
    "test_data.head()"
   ]
  },
  {
   "cell_type": "code",
   "execution_count": 48,
   "id": "988a70e6",
   "metadata": {
    "execution": {
     "iopub.execute_input": "2023-10-16T20:00:52.293158Z",
     "iopub.status.busy": "2023-10-16T20:00:52.292102Z",
     "iopub.status.idle": "2023-10-16T20:00:52.297012Z",
     "shell.execute_reply": "2023-10-16T20:00:52.296524Z"
    },
    "papermill": {
     "duration": 0.05391,
     "end_time": "2023-10-16T20:00:52.298998",
     "exception": false,
     "start_time": "2023-10-16T20:00:52.245088",
     "status": "completed"
    },
    "tags": []
   },
   "outputs": [],
   "source": [
    "num_cols =['PassengerId','Pclass','Age','SibSp','Parch','Fare']\n",
    "cat_cols = ['Sex']\n",
    "X=test_data[num_cols+cat_cols]\n"
   ]
  },
  {
   "cell_type": "code",
   "execution_count": 49,
   "id": "98be27db",
   "metadata": {
    "execution": {
     "iopub.execute_input": "2023-10-16T20:00:52.388760Z",
     "iopub.status.busy": "2023-10-16T20:00:52.388217Z",
     "iopub.status.idle": "2023-10-16T20:00:52.414073Z",
     "shell.execute_reply": "2023-10-16T20:00:52.413218Z"
    },
    "papermill": {
     "duration": 0.072629,
     "end_time": "2023-10-16T20:00:52.415792",
     "exception": false,
     "start_time": "2023-10-16T20:00:52.343163",
     "status": "completed"
    },
    "tags": []
   },
   "outputs": [
    {
     "name": "stdout",
     "output_type": "stream",
     "text": [
      "[0 0 0 0 0 0 1 0 1 0 0 0 1 0 1 1 0 0 0 0 0 0 1 0 1 0 1 0 0 0 0 0 0 0 1 0 0\n",
      " 0 0 0 0 0 0 1 1 0 0 0 1 0 1 0 1 1 0 0 0 0 0 1 0 0 0 1 1 1 0 0 0 1 0 0 0 0\n",
      " 1 0 0 1 0 0 1 0 0 0 0 0 0 0 1 1 0 0 1 0 0 0 1 0 0 0 1 0 0 0 0 0 0 0 0 0 0\n",
      " 1 1 1 1 0 0 1 1 1 1 0 1 0 0 0 0 0 0 0 0 0 0 0 0 0 0 0 0 0 0 1 1 0 0 0 0 0\n",
      " 0 0 1 0 0 0 0 0 1 0 0 0 1 1 1 0 0 0 0 0 1 0 0 0 0 0 0 1 1 0 1 1 0 1 1 0 1\n",
      " 0 1 0 0 0 0 0 0 0 1 0 1 0 0 0 0 1 1 1 0 0 0 0 1 0 0 0 0 1 0 0 0 1 1 0 1 0\n",
      " 1 0 1 0 0 1 0 0 0 1 0 0 1 0 0 0 1 1 1 1 1 0 0 1 1 0 1 0 1 0 1 0 0 0 0 0 1\n",
      " 0 0 0 1 1 0 0 0 0 0 0 0 0 1 0 0 1 0 0 0 0 0 1 1 0 1 0 0 1 0 0 0 0 0 0 0 0\n",
      " 1 0 0 0 0 0 0 0 1 1 1 1 0 0 0 0 0 0 1 1 1 0 0 0 0 0 0 0 1 0 1 0 0 0 1 0 0\n",
      " 0 0 0 0 0 0 0 0 0 0 1 0 1 0 0 0 1 1 0 0 0 0 0 1 0 0 0 0 1 1 0 1 0 0 0 1 0\n",
      " 0 1 0 0 1 1 0 0 0 0 0 0 0 0 0 1 0 0 0 0 1 1 0 0 0 1 0 1 0 0 1 0 1 0 0 0 0\n",
      " 1 1 1 1 1 1 0 1 0 0 0]\n"
     ]
    }
   ],
   "source": [
    "predictions= clf_pipeline_rfc.predict(X)\n",
    "print(predictions)"
   ]
  },
  {
   "cell_type": "code",
   "execution_count": 50,
   "id": "38cb63ce",
   "metadata": {
    "execution": {
     "iopub.execute_input": "2023-10-16T20:00:52.504461Z",
     "iopub.status.busy": "2023-10-16T20:00:52.504135Z",
     "iopub.status.idle": "2023-10-16T20:00:52.513887Z",
     "shell.execute_reply": "2023-10-16T20:00:52.512444Z"
    },
    "papermill": {
     "duration": 0.055901,
     "end_time": "2023-10-16T20:00:52.515492",
     "exception": false,
     "start_time": "2023-10-16T20:00:52.459591",
     "status": "completed"
    },
    "tags": []
   },
   "outputs": [
    {
     "name": "stdout",
     "output_type": "stream",
     "text": [
      "Your submission was successfully saved!\n"
     ]
    }
   ],
   "source": [
    "output = pd.DataFrame({'PassengerId': test_data.PassengerId, 'Survived': predictions})\n",
    "output.to_csv('submission.csv', index=False)\n",
    "print(\"Your submission was successfully saved!\")"
   ]
  },
  {
   "cell_type": "code",
   "execution_count": null,
   "id": "0e200eea",
   "metadata": {
    "papermill": {
     "duration": 0.043039,
     "end_time": "2023-10-16T20:00:52.603632",
     "exception": false,
     "start_time": "2023-10-16T20:00:52.560593",
     "status": "completed"
    },
    "tags": []
   },
   "outputs": [],
   "source": []
  }
 ],
 "metadata": {
  "kernelspec": {
   "display_name": "Python 3 (ipykernel)",
   "language": "python",
   "name": "python3"
  },
  "language_info": {
   "codemirror_mode": {
    "name": "ipython",
    "version": 3
   },
   "file_extension": ".py",
   "mimetype": "text/x-python",
   "name": "python",
   "nbconvert_exporter": "python",
   "pygments_lexer": "ipython3",
   "version": "3.9.12"
  },
  "papermill": {
   "default_parameters": {},
   "duration": 180.418912,
   "end_time": "2023-10-16T20:00:55.267972",
   "environment_variables": {},
   "exception": null,
   "input_path": "__notebook__.ipynb",
   "output_path": "__notebook__.ipynb",
   "parameters": {},
   "start_time": "2023-10-16T19:57:54.849060",
   "version": "2.4.0"
  }
 },
 "nbformat": 4,
 "nbformat_minor": 5
}
